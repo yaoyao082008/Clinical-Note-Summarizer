{
 "cells": [
  {
   "cell_type": "code",
   "execution_count": 37,
   "metadata": {},
   "outputs": [],
   "source": [
    "from dotenv import load_dotenv\n",
    "from langchain_groq import ChatGroq\n",
    "import pandas\n",
    "from bert_score import score\n",
    "import time\n",
    "\n",
    "load_dotenv(\"keys.env\")\n",
    "\n",
    "with open(\"context.txt\",'r') as c:\n",
    "    context = c.read()\n",
    "\n",
    "messages = [(context),()]\n",
    "\n",
    "\n",
    "llm = ChatGroq(\n",
    "        model = \"llama-3.3-70b-versatile\",\n",
    "        temperature=0,\n",
    "        max_tokens=400\n",
    "    )\n",
    "\n",
    "\n",
    "train = pandas.read_parquet(\"validation-00000-of-00001.parquet\")"
   ]
  },
  {
   "cell_type": "code",
   "execution_count": 38,
   "metadata": {},
   "outputs": [
    {
     "name": "stdout",
     "output_type": "stream",
     "text": [
      "Marquis Lon Dibbert is a 5-year-old male (Black or African American) who on October 24, 2023, presented with symptoms of viral sinusitis, including nasal congestion, yellowish discharge, dry cough, and mild headaches. He has had low-grade fever, increased irritability, and fatigue over the past seven days. Physical examination revealed sinus tenderness, nasal inflammation, and swollen nasal turbinates with yellowish discharge, but no respiratory distress. He was diagnosed with viral sinusitis and advised supportive treatment including hydration, saline nasal spray, and fever management with acetaminophen or ibuprofen as needed. A follow-up appointment was scheduled in one week, with instructions to return sooner if symptoms worsen or if signs of bacterial superinfection or complications occur.\n",
      "**Patient Name:** Marquis Lon Dibbert   **Date of Birth:** February 14, 2018   **Age:** 5 years   **Gender:** Male   **Ethnicity:** Black or African American   **Encounter Date:** October 24, 2023   **Location:** Green Valley Pediatric Clinic, Atlanta, GA   **Physician:** Dr. Emily Thompson    ---  **Chief Complaint:**   Nasal congestion and cough.  **History of Present Illness:**   Marquis, a 5-year-old male, was brought in by his mother, Ms. Angela Dibbert, with symptoms suggestive of viral sinusitis. The mother reports that Marquis has had a runny nose and nasal congestion for the past seven days, which has been progressively worsening. The nasal discharge was initially clear but has become yellowish over the last few days. Marquis has also developed a persistent, dry cough and complains of mild headaches. He has been more irritable than usual and has had occasional low-grade fever, with the highest recorded temperature being 100.5°F (38°C). There are no reports of ear pain or significant change in appetite, but he has been more tired and less active.  **Past Medical History:**   - No significant past medical conditions. - Up-to-date with vaccinations.  **Family History:**   - No family history of chronic sinusitis or respiratory conditions reported.    **Social History:**   - Lives with his mother and two siblings. - Attends kindergarten.  **Review of Systems:**   - **Constitutional:** Low-grade fever, irritability, and fatigue. - **HEENT:** Nasal congestion, yellow nasal discharge, and mild headaches. - **Respiratory:** Persistent, dry cough. No shortness of breath or wheezing reported. - **Gastrointestinal:** No nausea, vomiting, or diarrhea.    **Physical Examination:**   - **Vital Signs:** Temperature: 99.8°F, Heart Rate: 88 bpm, Respiratory Rate: 20 breaths/min, Blood Pressure: 90/55 mmHg - **General Appearance:** Alert but appears tired, non-toxic. - **HEENT:** Mild pallor. Nasal turbinates swollen with yellowish discharge. Oropharynx is mildly erythematous without exudates. Sinus tenderness over maxillary areas noted. - **Respiratory:** Clear breath sounds bilaterally, no wheezes or crackles. - **Cardiovascular:** Regular rate and rhythm, no murmurs. - **Abdominal:** Soft, non-tender, no hepatosplenomegaly.  **Assessment:**   1. Viral sinusitis  **Plan:**   1. Supportive care with emphasis on hydration. 2. Saline nasal spray or drops to relieve nasal congestion. 3. Acetaminophen or ibuprofen for fever and headache as needed. 4. Monitoring and instructions given to return if symptoms persist beyond 10 days or worsen. 5. Educated on signs of bacterial superinfection or complications such as high fever, severe headache, or facial swelling, and advised to return if any of these occur.  **Follow-up:**   - Follow-up appointment in one week or sooner if symptoms worsen.  **Signature:**   Dr. Emily Thompson, MD   Green Valley Pediatric Clinic   Contact: (404) 555-6789  \n",
      "calculating scores...\n",
      "computing bert embedding.\n"
     ]
    },
    {
     "name": "stderr",
     "output_type": "stream",
     "text": [
      "100%|██████████| 1/1 [00:00<00:00,  1.53it/s]\n"
     ]
    },
    {
     "name": "stdout",
     "output_type": "stream",
     "text": [
      "computing greedy matching.\n"
     ]
    },
    {
     "name": "stderr",
     "output_type": "stream",
     "text": [
      "100%|██████████| 1/1 [00:00<00:00, 199.96it/s]\n"
     ]
    },
    {
     "name": "stdout",
     "output_type": "stream",
     "text": [
      "done in 0.67 seconds, 1.49 sentences/sec\n",
      "Wilfred Ulysses Ritchie, a 75-year-old male, was seen at the Riverside Family Clinic on October 10, 2023, for a routine medical check-up and dental care referral. He has a medical history of hypertension, asthma, and osteoporosis, and is currently taking sodium fluoride 0.0272 MG/MG oral gel, albuterol 5 MG/ML inhalation solution, and fluticasone propionate 0.25 MG/ACTUAT / salmeterol 0.05 MG/ACTUAT dry powder inhaler. During the dental consultation, he reported slight gum bleeding and mild sensitivity to cold in several teeth, and underwent various dental procedures including plaque removal, dental x-ray, and fluoride treatment. He was advised to continue good oral hygiene practices, monitor his asthma symptoms and blood pressure, and schedule follow-up consultations every 3 months for dental re-evaluation and as needed for medical concerns.\n",
      "**Medical Encounter Note**  **Patient Name:** Wilfred Ulysses Ritchie   **Date of Birth:** 10/12/1947   **Date of Visit:** 10/10/2023   **Provider Name:** Dr. Emily Hart   **Location:** Riverside Family Clinic, Springfield, IL  ---  **Reason for Visit:**   Patient referral for dental care (procedure) and routine medical check-up.  **Medical History:**   - Hypertension   - Asthma   - Osteoporosis    **Medications:**   - Sodium fluoride 0.0272 MG/MG Oral Gel   - Albuterol 5 MG/ML Inhalation Solution   - Fluticasone propionate 0.25 MG/ACTUAT / Salmeterol 0.05 MG/ACTUAT Dry Powder Inhaler  **Dental Procedures Performed:**   - Dental consultation and report   - Removal of supragingival and subgingival plaque and calculus   - Dental plain x-ray bitewing   - Examination of gingivae   - Restoration of a tooth with coverage of all cusps using dental filling material   - Dental fluoride treatment   - Oral health education  **Examination:**   - Digital examination of rectum performed  **Symptoms Related to Dental Referral:**   - Complaints of gums bleeding slightly during brushing.   - Mild sensitivity to cold in several teeth.  **Instructions for Medications:**    1. **Sodium fluoride 0.0272 MG/MG Oral Gel:**      - Apply a small amount of gel to the toothbrush.      - Brush thoroughly, especially near the gum line, for two minutes, once daily before bedtime.      - Avoid eating, drinking, or rinsing for at least 30 minutes post-application.  2. **Albuterol 5 MG/ML Inhalation Solution:**      - Use one vial in a nebulizer machine as needed for relief of asthma symptoms.      - Do not exceed the maximum recommended dosage: no more than 3-4 times daily.      - Seek medical advice if there is a need for more frequent use.  3. **Fluticasone propionate 0.25 MG/ACTUAT / Salmeterol 0.05 MG/ACTUAT Dry Powder Inhaler:**      - Take one inhalation twice daily, approximately 12 hours apart.      - Rinse mouth with water after inhalation to prevent oral thrush.      - Do not use for sudden breathing problems; use albuterol inhaler instead.  **Follow-Up:**   - Schedule a follow-up consultation in 6 months for dental re-evaluation. - Patient should continue routine check-ups every 3 months due to gum concerns. - Monitor asthma symptoms regularly and return if control is not maintained.  **Notes:**   - Patient is advised to maintain good oral hygiene practices as instructed. - Continue monitoring blood pressure at home and report any significant changes.  **Signature:**   Dr. Emily Hart   Riverside Family Clinic\n",
      "calculating scores...\n",
      "computing bert embedding.\n"
     ]
    },
    {
     "name": "stderr",
     "output_type": "stream",
     "text": [
      "100%|██████████| 1/1 [00:00<00:00,  1.40it/s]\n"
     ]
    },
    {
     "name": "stdout",
     "output_type": "stream",
     "text": [
      "computing greedy matching.\n"
     ]
    },
    {
     "name": "stderr",
     "output_type": "stream",
     "text": [
      "100%|██████████| 1/1 [00:00<00:00, 142.83it/s]\n"
     ]
    },
    {
     "name": "stdout",
     "output_type": "stream",
     "text": [
      "done in 0.73 seconds, 1.37 sentences/sec\n",
      "Mr. Wilfred Ulysses Ritchie is a 77-year-old Caucasian male who presented to the Greenwood Health Clinic on October 15, 2023, with suspected prostate cancer, exhibiting symptoms of increased urinary frequency, nocturia, hesitancy, weak urine stream, and pelvic discomfort, along with unexplained weight loss and chronic fatigue. A prostate biopsy was performed on October 10, 2023, and the results are pending to confirm or rule out malignancy. Physical examination revealed an enlarged prostate with asymmetry and palpable nodules, and the patient's vital signs were stable. The patient is to be considered for alpha-blockers to alleviate urinary symptoms and has been advised on lifestyle modifications, including a balanced diet and moderate exercise, to improve fatigue and overall health. A follow-up appointment is scheduled in two weeks to discuss the biopsy results and further management, which may include monitoring, surgery, radiation, or hormonal therapy if prostate cancer is confirmed.\n",
      "**Medical Encounter Note**  **Patient Information:** - **Name:** Mr. Wilfred Ulysses Ritchie - **Age:** 77 - **Gender:** Male - **Ethnicity:** Caucasian - **Date of Birth:** April 16, 1946  **Date of Encounter:** October 15, 2023  **Location:** Greenwood Health Clinic, 85 Chestnut Street, Springfield  **Attending Physician:** Dr. Emma Caldwell, MD, Urology Specialist  **Reason for Visit:** - Suspected prostate cancer  **History of Present Illness:** Mr. Wilfred Ritchie is a 77-year-old male who presents to the Greenwood Health Clinic today with a concern of suspected prostate cancer. The patient reports a progressive onset of symptoms over the past six months, which include:  - **Urinary Symptoms:**   - Increased frequency of urination   - Nocturia (the need to urinate several times during the night)   - Hesitancy (difficulty starting urination)   - Weak urine stream   - Intermittency (urine flow that starts and stops)  - **Systemic Symptoms:**   - Unexplained weight loss of approximately 10 pounds over two months   - Chronic fatigue and lack of energy  - **Pelvic Discomfort:**   - Dull, persistent pelvic pain  The patient denies hematuria, fever, or chills. He does not report any known family history of prostate cancer but mentions a brother who was diagnosed with benign prostatic hyperplasia.  **Procedure Performed:** On October 10, 2023, Mr. Ritchie underwent a prostate biopsy at Springfield Regional Hospital conducted by Dr. Robert Hayden, aiming to confirm or rule out malignancy as suspected.  **Physical Examination:** - **Vital Signs:**   - Blood Pressure: 130/85 mmHg   - Heart Rate: 72 bpm   - Respiratory Rate: 16 breaths/minute   - Temperature: 98.6°F  - **General:** Patient appears slightly fatigued but well-nourished. - **Abdominal Exam:** No significant tenderness, mass, or organomegaly. - **Genitourinary Exam:** Digital rectal exam reveals an enlarged prostate with asymmetry and palpable nodules. No tenderness noted. - **Neurological Exam:** No focal deficits observed.  **Assessment:** The symptoms and physical findings in Mr. Ritchie are suspicious for underlying prostate cancer, pending biopsy results for confirmation.  **Plan:** 1. **Follow-Up:** Schedule an appointment in two weeks to discuss biopsy results and further management. 2. **Symptomatic Management:**    - Consider starting alpha-blockers to help alleviate urinary symptoms if not contraindicated. 3. **Patient Education:**    - Discuss potential outcomes pending biopsy results and possible treatment pathways for prostate cancer, including monitoring, surgery, radiation, or hormonal therapy, if applicable. 4. **Lifestyle Modification:**     - Encourage a balanced diet and moderate exercise to improve fatigue and overall health.  **Pending Results:** Await results from the prostate biopsy to determine the presence and extent of prostate cancer.  **Notes:** The patient was counseled regarding the expected timeline for biopsy results and was advised to contact the clinic if symptoms worsen or if new symptoms arise.  **Signed:**  Emma Caldwell, MD   Urology Specialist   Greenwood Health Clinic  \n",
      "calculating scores...\n",
      "computing bert embedding.\n"
     ]
    },
    {
     "name": "stderr",
     "output_type": "stream",
     "text": [
      "100%|██████████| 1/1 [00:00<00:00,  1.62it/s]\n"
     ]
    },
    {
     "name": "stdout",
     "output_type": "stream",
     "text": [
      "computing greedy matching.\n"
     ]
    },
    {
     "name": "stderr",
     "output_type": "stream",
     "text": [
      "100%|██████████| 1/1 [00:00<00:00, 166.76it/s]\n"
     ]
    },
    {
     "name": "stdout",
     "output_type": "stream",
     "text": [
      "done in 0.63 seconds, 1.58 sentences/sec\n",
      "Wilfred Ulysses Ritchie, an 81-year-old White male, passed away on October 15, 2023, at St. Anne's Community Hospital due to chronic obstructive bronchitis, with a history of tobacco use being the underlying cause. He also had significant conditions including hypertension and type 2 diabetes mellitus, which may have contributed to his death. The manner of death was ruled as natural, indicating disease progression without external influence. The death certificate, signed by Dr. Emily Carter on October 16, 2023, serves as the official record of his death, providing necessary information for legal and statistical purposes.\n",
      "**Death Certificate**  **Decedent's Information:**  - **Full Name:** Wilfred Ulysses Ritchie - **Date of Birth:** March 14, 1942 - **Age:** 81 - **Race:** White - **Gender:** Male - **Place of Death:** St. Anne’s Community Hospital, 123 Health Ave, Springfield, AnyState, 12345 - **Date of Death:** October 15, 2023  **Cause of Death:**  - **Immediate Cause:**   - A. Chronic Obstructive Bronchitis  - **Underlying Cause:**   - B. History of Tobacco Use  **Other Significant Conditions:**  - C. Hypertension - D. Type 2 Diabetes Mellitus  **Manner of Death:** Natural  **Certifying Physician:**  - **Name:** Dr. Emily Carter - **License Number:** 4567890 - **Address:** 456 Medical Plaza, Springfield, AnyState, 12345 - **Phone Number:** (555) 123-4567 - **Date Signed:** October 16, 2023  **Registrar Information:**  - **Name:** Jennifer Larson - **Title:** County Registrar - **Registration District:** Springfield District - **District Number:** 002 - **Date Filed:** October 17, 2023  **Notes:**  Wilfred Ulysses Ritchie passed away due to chronic obstructive bronchitis, a condition primarily caused by his long history of tobacco use. Contributing health issues included hypertension and type 2 diabetes mellitus, which may have exacerbated his condition. The death was ruled as natural, indicating that it was due to disease progression and not influenced by external factors.  This document serves as the official record of death and provides the necessary information for legal and statistical purposes.\n",
      "calculating scores...\n",
      "computing bert embedding.\n"
     ]
    },
    {
     "name": "stderr",
     "output_type": "stream",
     "text": [
      "100%|██████████| 1/1 [00:00<00:00,  1.62it/s]\n"
     ]
    },
    {
     "name": "stdout",
     "output_type": "stream",
     "text": [
      "computing greedy matching.\n"
     ]
    },
    {
     "name": "stderr",
     "output_type": "stream",
     "text": [
      "100%|██████████| 1/1 [00:00<00:00, 149.09it/s]\n"
     ]
    },
    {
     "name": "stdout",
     "output_type": "stream",
     "text": [
      "done in 0.63 seconds, 1.58 sentences/sec\n",
      "Ammie Chae Erdman is a 38-year-old Caucasian female who on October 5, 2023, presented with symptoms of viral sinusitis, including nasal congestion, headache, and facial pressure. She has been experiencing these symptoms for five days, accompanied by intermittent low-grade fever and notable fatigue. Ammie's past medical history includes allergic rhinitis, for which she takes Loratadine 10 mg daily. She was diagnosed with viral sinusitis and advised to continue with supportive care, including increased fluid intake, rest, and over-the-counter analgesics like acetaminophen or ibuprofen for pain relief and fever control. A follow-up appointment was scheduled in one week to monitor her symptoms, with instructions to return sooner if she experiences signs of a possible secondary bacterial infection, such as persistent high fever or worsening symptoms.\n",
      "**Medical Note**  **Patient Name:** Ammie Chae Erdman   **Date of Birth:** April 9, 1985   **Encounter Date:** October 5, 2023   **Location:** Riverside Medical Center, Philadelphia, PA   **Attending Physician:** Dr. John Sullivan, MD   **Subjective:**  Chief Complaint: Nasal congestion, headache, and facial pressure.  History of Present Illness:   Ammie Erdman, a 38-year-old Caucasian female, presents to the clinic today with symptoms suggestive of viral sinusitis. She reports experiencing nasal congestion and a persistent headache for the past five days. Ammie also mentions facial pressure, particularly around her forehead and cheeks, which has been worsening since onset. She has had a low-grade fever intermittently, with temperatures around 99.5°F, and notable fatigue. She denies any changes in vision, ear pain, or sore throat. There is no history of recent travel or known exposure to sick individuals.  Past Medical History:    - Allergic rhinitis   - No significant past surgical history    Medications:   - Loratadine 10 mg daily for allergies    Allergies:   - None reported    **Objective:**  Vital Signs:   - Blood Pressure: 118/76 mmHg   - Heart Rate: 78 bpm   - Respiratory Rate: 18 breaths per minute   - Temperature: 99.2°F   - Oxygen Saturation: 98% on room air    Physical Examination:   - General: Alert and oriented, appears mildly fatigued.   - HEENT:     - Head: Normocephalic, tenderness over maxillary and frontal sinuses.     - Eyes: Conjunctivae clear, no scleral icterus.     - Ears: Tympanic membranes intact, no effusion or erythema.     - Nose: Mucosal edema with clear rhinorrhea, nasal passages congested.     - Throat: Oropharynx without erythema or exudates.   - Neck: Supple, no lymphadenopathy.   - Respiratory: Lungs clear to auscultation bilaterally, no wheezes or crackles.   - Cardiovascular: Regular rate and rhythm, no murmurs.    **Assessment:**  1. Viral sinusitis  **Plan:**  1. Recommended supportive care including increased fluid intake and rest. 2. Over-the-counter analgesics for pain relief and fever control; advised to continue with acetaminophen or ibuprofen as needed. 3. Saline nasal sprays and steam inhalation to alleviate nasal congestion. 4. Educated about signs of bacterial infection such as persistent high fever, worsening symptoms after initial improvement, or severe unilateral sinus pain, and advised to return if these occur. 5. Follow-up appointment in one week if symptoms do not improve or if they worsen.  **Instructions:**   Reviewed with Ammie the typical course of viral sinusitis and the importance of symptomatic relief measures. Discussed alarm symptoms indicating a possible secondary bacterial infection needing further evaluation.  **Signature:**   Dr. John Sullivan, MD    Riverside Medical Center, Philadelphia, PA  \n",
      "calculating scores...\n",
      "computing bert embedding.\n"
     ]
    },
    {
     "name": "stderr",
     "output_type": "stream",
     "text": [
      "100%|██████████| 1/1 [00:00<00:00,  1.28it/s]\n"
     ]
    },
    {
     "name": "stdout",
     "output_type": "stream",
     "text": [
      "computing greedy matching.\n"
     ]
    },
    {
     "name": "stderr",
     "output_type": "stream",
     "text": [
      "100%|██████████| 1/1 [00:00<00:00, 333.33it/s]\n"
     ]
    },
    {
     "name": "stdout",
     "output_type": "stream",
     "text": [
      "done in 0.79 seconds, 1.26 sentences/sec\n",
      "Ammie Chae Erdman is a 45-year-old White female who was seen on October 15, 2023, for a comprehensive dental evaluation due to symptoms of gum discomfort, occasional bleeding, and bad breath. She has a history of gingivitis and hypertension, which is well-controlled with Lisinopril 10 mg daily, and also takes Ibuprofen as needed for occasional tension headaches. The dental examination revealed slightly inflamed and erythematous gingivae, presence of dental plaque and calculus, and mild gingival recession, leading to a diagnosis of chronic periodontitis. She was advised to continue good oral hygiene practices, including the use of an antimicrobial mouth rinse, and scheduled for a follow-up in one month with recommendations for routine dental cleanings every 6 months. A follow-up appointment has been scheduled with Dr. Emily Rivera at RiverTown Dental to reassess her gingival health and provide further management.\n",
      "**Medical Note**  **Date of Encounter:** October 15, 2023   **Patient Name:** Ammie Chae Erdman   **Date of Birth:** January 3, 1978   **Age:** 45   **Gender:** Female   **Ethnicity:** White    **Reason for Visit:**   Patient referral for dental care  **Procedures Performed:**   1. Dental Consultation and Report   2. Dental Care (Regimen/Therapy)   3. Removal of Supragingival Plaque and Calculus from All Teeth   4. Removal of Subgingival Plaque and Calculus from All Teeth   5. Dental Plain X-ray Bitewing   6. Examination of Gingivae   7. Oral Health Education  **Medical History:**   - No known allergies   - Hypertension (well-controlled with medication)   - Occasional tension headaches, no other significant medical history  **Dental History:**   - History of gingivitis   - Last dental check-up: Over a year ago  **Current Medications:**   - Lisinopril 10 mg daily   - Ibuprofen as needed for headaches  **Subjective:**   The patient was referred for a comprehensive dental evaluation and management. She reports some discomfort in her gums, particularly when brushing or flossing. She experiences occasional bleeding from the gums and has noticed bad breath that persists despite regular oral hygiene. No other dental or oral complaints were noted.  **Objective:**   - Vital Signs: BP 128/82 mmHg, HR 78 bpm, Temp 98.6°F   - General: Well-nourished, in no acute distress   - Oral Examination:     - Gingivae appear slightly inflamed and erythematous     - Presence of dental plaque and calculus noted     - No overt caries observed     - Bitewing X-ray shows no signs of significant decay or bone loss     - Mild gingival recession observed, particularly around molars  **Assessment:**   1. Referral for routine dental care was appropriate given the patient's symptoms and history of gingivitis.   2. Findings suggest chronic periodontitis secondary to plaque and calculus buildup.   3. Mild halitosis likely related to gingival inflammation and plaque.  **Plan:**   1. Continue with good oral hygiene practices, including brushing twice daily with a soft-bristled toothbrush and using dental floss or an interdental cleaner daily.   2. Patient has been educated on techniques for optimal oral hygiene, including the use of an antimicrobial mouth rinse.   3. Recommend follow-up with Dr. Emily Rivera at RiverTown Dental in one month for reassessment of gingival health and further management.   4. Schedule routine dental cleanings every 6 months to prevent recurrence of plaque accumulation and gingival inflammation.  **Additional Recommendations:**   - Patient advised to monitor for signs of increased gingival discomfort or bleeding, and to report any significant changes during the follow-up visit.   - Discussed the importance of maintaining regular dental appointments and adhering to oral health recommendations for optimal dental health.  **Signed:**   Dr. Peter Hargrove, DDS   RiverTown Dental   (contact information)  **CC:**   Dr. Lisa Carmichael, PCP (Primary Care Provider)   (Clinical details have been sent to the patient's primary care for record updates.)\n",
      "calculating scores...\n",
      "computing bert embedding.\n"
     ]
    },
    {
     "name": "stderr",
     "output_type": "stream",
     "text": [
      "100%|██████████| 1/1 [00:00<00:00,  1.54it/s]\n"
     ]
    },
    {
     "name": "stdout",
     "output_type": "stream",
     "text": [
      "computing greedy matching.\n"
     ]
    },
    {
     "name": "stderr",
     "output_type": "stream",
     "text": [
      "100%|██████████| 1/1 [00:00<00:00, 249.77it/s]\n"
     ]
    },
    {
     "name": "stdout",
     "output_type": "stream",
     "text": [
      "done in 0.67 seconds, 1.50 sentences/sec\n",
      "Ammie Chae Erdman is a 45-year-old Caucasian female who presented to Mercy General Hospital on October 15, 2023, with widespread musculoskeletal pain and generalized fatigue lasting several months. She was diagnosed with Primary Fibromyalgia Syndrome, characterized by diffuse pain, chronic fatigue, sleep disturbances, and cognitive difficulties. Ammie was prescribed Pregabalin 100 mg oral capsule, twice daily, and advised to make lifestyle modifications including regular aerobic exercise, a consistent sleep schedule, and stress management techniques. She is scheduled for a follow-up appointment in four weeks to assess the effectiveness of her medication and adjust her treatment plan as necessary. With a family history of rheumatoid arthritis and hypertension, Ammie will require ongoing management and support to cope with the chronic nature of her condition.\n",
      "**Medical Note**  **Patient Name:** Ammie Chae Erdman   **Date of Birth:** March 22, 1978   **Date of Admission:** October 15, 2023   **Patient ID:** AC1234567    **Attending Physician:** Dr. Emily Patterson   **Hospital:** Mercy General Hospital, Springfield, IL    **Chief Complaint:**   The patient presents with widespread musculoskeletal pain and generalized fatigue lasting several months.  **History of Present Illness:**   Ammie Erdman is a 45-year-old Caucasian female admitted to Mercy General Hospital with a diagnosis of Primary Fibromyalgia Syndrome. The patient reports persistent and diffuse pain affecting multiple tender points throughout her body. She describes stiff, aching sensations, particularly in the neck, shoulders, back, and legs. Additionally, she experiences chronic fatigue, sleep disturbances, and has noted difficulty concentrating, often referred to as \"fibro fog.\" These symptoms have progressively worsened over the past six months, significantly impacting her daily functioning and quality of life.  **Past Medical History:**   - No significant past medical history reported.  **Family History:**   - Mother with history of rheumatoid arthritis - Father with hypertension  **Social History:**   - Non-smoker   - Occasional alcohol consumption   - Works as a graphic designer    **Physical Examination:**   - Vital Signs: Temp: 98.4°F, HR: 78 bpm, BP: 122/78 mmHg, RR: 16 breaths/min   - General: Alert and oriented, appears fatigued   - Musculoskeletal: Tenderness at multiple sites, including neck, upper and lower back, and hips   - Neurological: Cognitive function intact, although patient reports intermittent issues with memory and concentration    **Assessment:**   Primary Fibromyalgia Syndrome characterized by widespread pain, fatigue, sleep disturbances, and cognitive difficulties.  **Plan:**    1. **Medication:**    - Pregabalin 100 mg Oral Capsule      - Instructions: Take one capsule by mouth twice daily.    2. **Lifestyle Modifications:**    - Regular aerobic exercise as tolerated    - Implement a consistent sleep schedule    - Stress management techniques such as yoga or meditation  3. **Follow-up:**    - Schedule for follow-up appointment in four weeks to assess medication effectiveness and adjust dosage if necessary.  4. **Patient Education:**    - Discussed the chronic nature of fibromyalgia and the importance of adherence to medication and lifestyle changes.    - Provided resources for support groups and counseling for coping strategies.  **Signature:**   Dr. Emily Patterson, MD   Mercy General Hospital  **Date:** October 15, 2023\n",
      "calculating scores...\n",
      "computing bert embedding.\n"
     ]
    },
    {
     "name": "stderr",
     "output_type": "stream",
     "text": [
      "100%|██████████| 1/1 [00:00<00:00,  1.37it/s]\n"
     ]
    },
    {
     "name": "stdout",
     "output_type": "stream",
     "text": [
      "computing greedy matching.\n"
     ]
    },
    {
     "name": "stderr",
     "output_type": "stream",
     "text": [
      "100%|██████████| 1/1 [00:00<00:00, 166.46it/s]\n"
     ]
    },
    {
     "name": "stdout",
     "output_type": "stream",
     "text": [
      "done in 0.75 seconds, 1.33 sentences/sec\n",
      "Jamaal Champlin, a 56-year-old Caucasian male, presented on October 5, 2023, with persistent right knee pain, stiffness, and swelling, which have been worsening over the past six months. He was diagnosed with osteoarthritis of the right knee based on clinical evaluation and X-ray findings, which revealed decreased joint space, osteophytes, and significant cartilage loss. Mr. Champlin has been prescribed Naproxen sodium 220 mg oral tablet twice daily as needed for pain management and has been referred to an orthopedic surgeon for evaluation for a potential right knee replacement procedure. He has been advised to engage in low-impact exercises and consider weight management strategies to lessen strain on the knee joint. A follow-up appointment is scheduled in four weeks to evaluate his response to the medication and discuss further management, including the potential benefits and risks of knee replacement surgery.\n",
      "**Medical Note**  **Patient Name:** Jamaal Champlin   **Date of Birth:** March 4, 1967   **Date of Visit:** October 5, 2023    **Primary Care Physician:** Dr. Leah Thompson   **Facility:** Oak Park Family Medicine, Chicago, IL    **Chief Complaint:**   Jamaal Champlin, a 56-year-old Caucasian male, presents with persistent pain in the right knee that has been increasing over the past six months. He describes the pain as a dull ache that intensifies with weight-bearing activities such as walking and standing. Mr. Champlin reports that the pain is most severe at night and upon awakening in the morning. He experiences stiffness and swelling in the knee, contributing to significant limitations in his mobility and daily activities. He finds it difficult to climb stairs and has reduced his physical activities.  **X-Ray Findings:**   An X-ray of the right knee was conducted during the visit, revealing decreased joint space in the medial compartment, presence of osteophytes, and subchondral sclerosis consistent with osteoarthritis. There is evidence of significant cartilage loss.  **Assessment/Diagnosis:**   Based on the clinical evaluation and X-ray findings, Mr. Champlin has been diagnosed with osteoarthritis of the right knee.  **Plan/Recommendations:**   1. **Medication:** Prescribe Naproxen sodium 220 mg oral tablet to be taken twice daily as needed for pain management, ensuring the patient is aware of the potential gastrointestinal side effects and advised to take it with food.     2. **Referral:** Given the severity of Mr. Champlin’s symptoms and the substantial impact on his daily function, it is recommended that he considers surgical intervention. He has been referred to Dr. Andrew Mitchell, an orthopedic surgeon at Midwest Orthopedic Center, for evaluation for a right knee replacement procedure.  3. **Lifestyle Modifications:** Patient is advised to engage in low-impact exercises such as swimming or cycling, which may help maintain joint function without exacerbating pain. He is also encouraged to consider weight management strategies to lessen strain on the knee joint.  4. **Follow-Up:** Mr. Champlin should schedule a follow-up appointment in four weeks to evaluate his response to the medication and to discuss further management, taking into account his consultation with the orthopedic surgeon.  **Patient Education:**   The potential benefits and risks of knee replacement surgery were discussed with Mr. Champlin, emphasizing that the procedure may significantly alleviate pain and improve his quality of life by restoring mobility.  **Signature:**   Dr. Leah Thompson   Oak Park Family Medicine   Contact: (312) 555-7391  \n",
      "calculating scores...\n",
      "computing bert embedding.\n"
     ]
    },
    {
     "name": "stderr",
     "output_type": "stream",
     "text": [
      "100%|██████████| 1/1 [00:00<00:00,  1.47it/s]\n"
     ]
    },
    {
     "name": "stdout",
     "output_type": "stream",
     "text": [
      "computing greedy matching.\n"
     ]
    },
    {
     "name": "stderr",
     "output_type": "stream",
     "text": [
      "100%|██████████| 1/1 [00:00<00:00, 166.69it/s]\n"
     ]
    },
    {
     "name": "stdout",
     "output_type": "stream",
     "text": [
      "done in 0.69 seconds, 1.44 sentences/sec\n",
      "Jamaal Champlin is a 59-year-old Caucasian male who presented on October 12, 2023, with complaints of chest pain and shortness of breath, described as a pressure-like sensation in the center of the chest radiating to the left shoulder and jaw, accompanied by symptoms of dizziness, fatigue, and increased frequency of episodes over the last two weeks. He has a medical history of hypertension, hyperlipidemia, and prediabetes, and is currently taking Lisinopril 10 mg daily, Atorvastatin 20 mg daily, and Aspirin 81 mg daily. Jamaal was diagnosed with symptoms suggestive of ischemic heart disease, possibly unstable angina, and his treatment plan includes an urgent stress test and echocardiogram, initiation of nitroglycerin 0.4 mg sublingually as needed, and an increase in Atorvastatin to 40 mg daily. He was also strongly advised to cease smoking and referred to a smoking cessation clinic for support, with a follow-up scheduled in the cardiology clinic in one week or sooner if symptoms worsen.\n",
      "**Medical Note**  **Patient Name:** Jamaal Champlin   **MRN:** Champlin946   **Age:** 59   **Gender:** Male   **Date of Encounter:** October 12, 2023   **Location:** Cardiology Clinic, Downtown Medical Center   **Attending Physician:** Dr. Laura Thompson, MD    ---  **Chief Complaint:**   Patient presents with chest pain and shortness of breath.  **History of Present Illness:**   Jamaal Champlin is a 59-year-old Caucasian male who comes for an appointment today with a primary complaint of recurrent chest pain for the past two months. The patient describes the pain as a pressure-like sensation, primarily located in the center of the chest, often radiating to the left shoulder and jaw. These episodes occur both at rest and with exertion, such as walking up a flight of stairs. The duration of each episode ranges from a few minutes to half an hour. He notes increased frequency in these episodes over the last two weeks. Accompanied symptoms include shortness of breath, which tends to worsen with physical activity, and occasional episodes of dizziness and fatigue. He denies any recent fevers, palpitations, or syncope.  **Medical History:**   - Hypertension (diagnosed 2010)   - Hyperlipidemia (diagnosed 2012)   - Prediabetes (diagnosed 2018)    **Surgical History:**   - Appendectomy at age 22    **Medications:**   - Lisinopril 10 mg daily   - Atorvastatin 20 mg daily   - Aspirin 81 mg daily    **Allergies:**   - No known drug allergies    **Family History:**   - Father, deceased, myocardial infarction at age 67   - Mother, alive, hypertension and type 2 diabetes    **Social History:**   - Occupation: Office manager   - Smoking: Current smoker, 1 pack per day for 30 years   - Alcohol: Social drinker, approximately 3 drinks per week   - Exercise: Sedentary lifestyle, no structured physical activity    **Review of Systems:**   - Cardiovascular: Reports chest pain and shortness of breath as noted above.   - Respiratory: Denies wheezing or cough.   - GI: Denies nausea or vomiting.   - Neurological: Reports dizziness but denies headaches or numbness.   - General: Reports fatigue.  **Physical Examination:**   - Vital Signs: BP: 145/90 mmHg, HR: 82 bpm, RR: 18 breaths/min, Temp: 98.6°F, SpO2: 96% on room air   - General: Alert, oriented, in mild discomfort due to chest pain.   - Cardiac: Regular rate and rhythm, no murmurs or gallops.   - Respiratory: Clear to auscultation bilaterally.   - Abdomen: Soft, non-tender, non-distended.   - Extremities: No edema or cyanosis.   - Neurological: Grossly intact, no focal deficits.  **Assessment/Plan:**   Jamaal Champlin is a 59-year-old male with a history of hypertension and hyperlipidemia, presenting with symptoms suggestive of ischemic heart disease, possibly unstable angina.    1. **Chest Pain:**      - Schedule an urgent stress test and echocardiogram to evaluate for myocardial ischemia.    - Initiate nitroglycerin 0.4 mg sublingually as needed for chest pain.    - Increase Atorvastatin to 40 mg daily for better lipid control.     2. **Hypertension:**      - Continue Lisinopril with close monitoring of blood pressure.     3. **Tobacco Use:**      - Strongly advise smoking cessation; refer to smoking cessation clinic for support.     4. **Follow-up:**      - Follow up in cardiology clinic in one week or sooner if symptoms worsen.    - Educate the patient on recognizing symptoms of worsening ischemia and when to seek immediate medical care.  **Doctor's Signature:**   Dr. Laura Thompson, MD   Cardiology Specialist   Downtown Medical Center\n",
      "calculating scores...\n",
      "computing bert embedding.\n"
     ]
    },
    {
     "name": "stderr",
     "output_type": "stream",
     "text": [
      "100%|██████████| 1/1 [00:00<00:00,  1.27it/s]\n"
     ]
    },
    {
     "name": "stdout",
     "output_type": "stream",
     "text": [
      "computing greedy matching.\n"
     ]
    },
    {
     "name": "stderr",
     "output_type": "stream",
     "text": [
      "100%|██████████| 1/1 [00:00<00:00, 150.15it/s]\n"
     ]
    },
    {
     "name": "stdout",
     "output_type": "stream",
     "text": [
      "done in 0.81 seconds, 1.24 sentences/sec\n",
      "Jamaal Champlin is a 59-year-old Caucasian male who was admitted to St. Mary's Medical Center on October 18, 2023, with complaints of intermittent chest discomfort, shortness of breath, dizziness, and fatigue. He has a history of hypertension and hyperlipidemia, managed with Amlodipine 10 mg daily, Atorvastatin 40 mg daily, and Aspirin 81 mg daily. Diagnostic imaging suggests coronary artery disease with possible ischemia, and he is undergoing further evaluation with a pending coronary angiogram. His treatment plan includes optimization of antihypertensive therapy, consideration of beta-blocker for heart rate control, smoking cessation counseling, and potential intervention such as percutaneous coronary intervention (PCI) or coronary artery bypass grafting (CABG) depending on angiography results. He will require regular follow-ups with the cardiology outpatient clinic to monitor progression and control of cardiovascular risk factors.\n",
      "**Medical Note**  **Patient Name:** Jamaal Champlin   **Patient ID:** 946   **Date of Admission:** October 18, 2023   **Attending Physician:** Dr. Emily Thompson   **Location:** St. Mary's Medical Center, Cardiology Unit    ---  **Chief Complaint:**   Jamaal Champlin, a 59-year-old Caucasian male, was admitted to the hospital with abnormal findings observed on diagnostic imaging of the heart and coronary circulation.  **History of Present Illness:**   Mr. Champlin presented to his primary care physician with complaints of intermittent chest discomfort and shortness of breath over the past month. He described the chest pain as a mild, pressing sensation localized to the central chest area, occasionally radiating to the left shoulder. He has been experiencing episodes of dizziness and fatigue, particularly during physical activity, such as walking up the stairs or doing yard work. These symptoms typically resolve with rest. Based on these findings, his physician recommended further cardiac evaluation.  **Past Medical History:**   - Hypertension, diagnosed 10 years ago   - Hyperlipidemia, managed with statins   - No previous history of coronary artery disease or myocardial infarction    **Medications:**   - Amlodipine 10 mg daily   - Atorvastatin 40 mg daily   - Aspirin 81 mg daily    **Family History:**   - Father: Passed away at age 70 from myocardial infarction   - Mother: History of hypertension and diabetes    **Social History:**   - Has been smoking 1 pack per day for the past 30 years   - Occasional alcohol use   - Works as a civil engineer   - Lives with his spouse and two children    **Review of Systems:**   - Cardiovascular: Positive for chest discomfort and palpitations   - Respiratory: Positive for exertional shortness of breath   - Neurological: Positive for dizziness   - Gastrointestinal: Denies any nausea, vomiting, or abdominal pain   - General: Reports recent onset fatigue    **Physical Examination:**   - Vital Signs: BP 145/90 mmHg, HR 95 bpm, RR 18 breaths/min, Temp 98.5°F   - General: Alert and oriented, appears well-nourished, in no acute distress   - Cardiovascular: Regular rhythm, normal S1 and S2, no murmurs or gallops   - Respiratory: Clear to auscultation bilaterally   - Abdomen: Soft, non-tender, normal bowel sounds   - Neurological: No focal deficits    **Laboratory and Imaging Results:**   - ECG: Showing nonspecific ST-T wave changes   - Echocardiogram: Revealed regional wall motion abnormalities suggestive of ischemia   - Coronary Angiogram: Pending  **Assessment and Plan:**   Mr. Champlin's symptoms and abnormal diagnostic imaging findings suggest coronary artery disease with possible ischemia. Given his risk factors, including smoking and family history, he is at an increased risk for coronary events.  1. **Monitoring:** Continuous cardiac monitoring during hospital stay. 2. **Medications:** Adjust antihypertensive therapy to optimize blood pressure control and consider beta-blocker for heart rate control. 3. **Smoking Cessation:** Begin counseling and consider nicotine replacement therapy. 4. **Further Diagnostics:** Proceed with coronary angiography to assess for significant coronary artery stenosis. 5. **Case Management:** Consultation with the cardiology team to evaluate the necessity for potential intervention such as percutaneous coronary intervention (PCI) or coronary artery bypass grafting (CABG), depending on angiography results. 6. **Follow-Up:** Regular follow-ups with the cardiology outpatient clinic to monitor progression and control of cardiovascular risk factors.  **Signature:**   Dr. Emily Thompson, MD   Cardiology Unit, St. Mary's Medical Center   Date: October 18, 2023\n",
      "calculating scores...\n",
      "computing bert embedding.\n"
     ]
    },
    {
     "name": "stderr",
     "output_type": "stream",
     "text": [
      "100%|██████████| 1/1 [00:00<00:00,  1.40it/s]\n"
     ]
    },
    {
     "name": "stdout",
     "output_type": "stream",
     "text": [
      "computing greedy matching.\n"
     ]
    },
    {
     "name": "stderr",
     "output_type": "stream",
     "text": [
      "100%|██████████| 1/1 [00:00<00:00, 166.65it/s]\n"
     ]
    },
    {
     "name": "stdout",
     "output_type": "stream",
     "text": [
      "done in 0.73 seconds, 1.37 sentences/sec\n",
      "Jamaal Champlin, a 69-year-old Caucasian male, presented on October 6, 2023, with symptoms of viral sinusitis, including nasal congestion, headache, post-nasal drip, and facial pressure, which began approximately five days prior and have progressively worsened. He also experiences fatigue, mild feverish sensations, and a sore throat, with a history of hypertension managed with Lisinopril 10 mg daily and hyperlipidemia managed with Atorvastatin 20 mg daily. Physical examination revealed swollen and erythematous nasal turbinates, yellowish discharge, and tender maxillary sinuses, with vital signs showing a temperature of 99.2°F and blood pressure of 135/82 mmHg. He was diagnosed with viral sinusitis and advised symptomatic care, including over-the-counter decongestants, saline nasal sprays, steam inhalation, and pain management with acetaminophen or ibuprofen, with a follow-up scheduled if symptoms persist or worsen.\n",
      "**Medical Record Note**  **Patient Name:** Jamaal Champlin   **Date of Birth:** March 14, 1954   **Medical Record Number:** CH946345   **Date of Encounter:** October 6, 2023   **Location:** Lakeview Family Practice   **Attending Physician:** Dr. Emily Harlan, MD    **Chief Complaint:**   The patient presents with symptoms consistent with viral sinusitis.  **History of Present Illness:**   Jamaal Champlin, a 69-year-old Caucasian male, presented today with complaints of nasal congestion, headache, post-nasal drip, and facial pressure. Symptoms began approximately five days ago and have progressively worsened. He reports a sore throat that is more pronounced upon waking, likely due to post-nasal drainage. The nasal discharge transitioned from clear to a thicker consistency, described as yellowish. He also experiences fatigue and mild feverish sensations, although he has not taken his temperature at home. There is no significant dizziness, and he denies nausea or vomiting. Jamaal has no history of chronic sinus issues and has never had surgery related to sinus problems.  **Past Medical History:**   - Hypertension, managed with medication.   - Hyperlipidemia.    **Medications:**   - Lisinopril 10 mg daily.   - Atorvastatin 20 mg daily.  **Allergies:**   - No known drug allergies.  **Social History:**   - Non-smoker, non-drinker.   - Retired school teacher.   - Lives with spouse in a single-family home.  **Review of Systems:**   - **General:** Fatigue, feeling mildly feverish.   - **ENT:** Nasal congestion, facial pain, pressure. Sore throat, no ear pain observed.   - **Respiratory:** Mild cough, productive of thin, yellowish mucus. Shortness of breath denied.   - **Cardiovascular:** No chest pain or palpitations.   - **Gastrointestinal:** Denies nausea, vomiting, or diarrhea.   - **Neurological:** No dizziness, altered mental status, or issues with speech.  **Physical Examination:**   - **Vital Signs:**     - Blood Pressure: 135/82 mmHg     - Heart Rate: 76 bpm     - Respiratory Rate: 18 breaths/minute     - Temperature: 99.2°F     - Oxygen Saturation: 98% on room air  - **General Appearance:** Alert, cooperative, appears mildly fatigued.   - **HEENT:**     - Head: Normocephalic, atraumatic.     - Eyes: No conjunctival injection.     - Ears: Tympanic membranes clear bilaterally.     - Nose: Swollen, erythematous nasal turbinates; yellowish discharge observed.     - Throat: Mildly erythematous, post-nasal drainage noted.     - Sinuses: Tender to palpation over the maxillary sinuses.   - **Neck:** Supple, no lymphadenopathy.   - **Respiratory:** Clear to auscultation bilaterally, no wheezing or rales.   - **Cardiovascular:** Regular rate and rhythm. No murmurs.   - **Abdomen:** Soft, non-tender, non-distended.   - **Neurological:** Alert and oriented to person, place, and time.  **Assessment:**   - Viral sinusitis  **Plan:**   1. **Symptomatic Care:**    - Advise use of over-the-counter decongestants such as pseudoephedrine for nasal congestion, if tolerated.    - Recommend saline nasal sprays and steam inhalation to aid mucous clearance.    - Acetaminophen or ibuprofen for headache and facial pain management.    - Encourage hydration and rest.  2. **Follow-up:**    - Return to clinic if symptoms persist beyond 10 days, significantly worsen, or new symptoms like high fever or chills develop.  3. **Patient Education:**    - Discussed the viral nature of the illness and lack of need for antibiotics.    - Signs and symptoms to monitor that would necessitate earlier follow-up or change in management.  **Signature:**   Dr. Emily Harlan, MD   Lakeview Family Practice   October 6, 2023\n",
      "calculating scores...\n",
      "computing bert embedding.\n"
     ]
    },
    {
     "name": "stderr",
     "output_type": "stream",
     "text": [
      "100%|██████████| 1/1 [00:00<00:00,  1.57it/s]\n"
     ]
    },
    {
     "name": "stdout",
     "output_type": "stream",
     "text": [
      "computing greedy matching.\n"
     ]
    },
    {
     "name": "stderr",
     "output_type": "stream",
     "text": [
      "100%|██████████| 1/1 [00:00<00:00, 166.77it/s]\n"
     ]
    },
    {
     "name": "stdout",
     "output_type": "stream",
     "text": [
      "done in 0.66 seconds, 1.53 sentences/sec\n",
      "Jamaal Champlin, a 69-year-old Caucasian male, presented to the Mercy Hospital Emergency Room on October 7, 2023, with a deep laceration on his right forearm, resulting in severe bleeding and pain, which he rated as 8 out of 10. He has a history of hypertension and hyperlipidemia, for which he takes Lisinopril 10 mg daily and Atorvastatin 20 mg daily. The laceration was treated with irrigation, local anesthetic, and closure with non-absorbable sutures, and he was prescribed Ibuprofen 200 mg orally every 6-8 hours as needed for pain. Jamaal was discharged in stable condition with instructions for follow-up care, including wound evaluation and potential referral to an orthopedic specialist to assess possible tendon involvement, and was advised to take it easy and monitor for signs of infection.\n",
      "**Medical Note**  **Patient Name:** Jamaal Champlin   **Medical Record Number:** 946   **Date of Birth:** January 25, 1954   **Age:** 69   **Date of Visit:** October 7, 2023   **Location:** Mercy Hospital Emergency Room   **Attending Physician:** Dr. Susan Martinez    **Chief Complaint:**   Laceration on the right forearm with severe bleeding and pain.  **History of Present Illness:**   Mr. Jamaal Champlin, a 69-year-old Caucasian male, was brought to the Mercy Hospital Emergency Room after sustaining a severe laceration to his right forearm. The injury occurred while he was gardening at home and accidentally slipped, cutting his arm deeply on a metal edge. The patient reported profuse bleeding from the wound and rated his pain as 8 out of 10. He also noted some difficulty moving his fingers, raising concern for possible tendon involvement.  **Past Medical History:**   - Hypertension   - Hyperlipidemia    **Medications:**   - Lisinopril 10 mg daily   - Atorvastatin 20 mg daily    **Allergies:**   - No known drug allergies  **Social History:**   - Non-smoker   - Occasional alcohol use   - Retired teacher  **Physical Examination:**   - **General:** Alert and in mild distress due to pain.   - **Right Forearm:** A 6 cm deep laceration noted on the volar aspect. Active bleeding was initially observed, which has since been controlled with pressure bandaging. Tenderness and swelling present around the injury site. No obvious deformity.   - **Circulation/Sensation/Motor Function:** Reduced sensation in the area distal to the laceration. Capillary refill time is less than 2 seconds. Limited finger flexion against resistance, suggesting possible tendon impairment.   - **Vitals:** Blood Pressure 138/85 mmHg, Heart Rate 88 bpm, Respiratory Rate 18/min, Temperature 98.6°F  **Procedure:**   A thorough irrigation of the wound was performed with saline solution. A local anesthetic was administered, and the wound edges were examined. Given the depth of the laceration, a suture open wound procedure was necessary. The laceration was closed with non-absorbable sutures, and sterile dressing was applied post-suture.  **Assessment and Plan:**   - **Assessment:** Deep laceration of the right forearm with possible tendon involvement.   - **Ibuprofen Prescription:** Ibuprofen 200 mg Oral Tablet. Take one tablet by mouth every 6-8 hours as needed for pain, not to exceed 1200 mg in 24 hours unless directed by a physician.   - **Follow-Up Care:** Recommend follow-up with primary care physician in 2-3 days for wound evaluation and potential referral to an orthopedic specialist for further assessment of tendon function.   - **Discharge Instructions:** Keep the wound clean and dry. Avoid heavy lifting or strenuous activities with the affected arm. Monitor for signs of infection such as increased redness, swelling, or pus discharge. Return to the emergency room if severe pain persists or if there's a loss of function or sensation in the hand or fingers.  **Discharge Status:**   Patient discharged in stable condition with caregiver assistance at home.  **Electronically Signed by:**   Dr. Susan Martinez   Mercy Hospital Emergency Room   October 7, 2023\n",
      "calculating scores...\n",
      "computing bert embedding.\n"
     ]
    },
    {
     "name": "stderr",
     "output_type": "stream",
     "text": [
      "100%|██████████| 1/1 [00:00<00:00,  1.72it/s]\n"
     ]
    },
    {
     "name": "stdout",
     "output_type": "stream",
     "text": [
      "computing greedy matching.\n"
     ]
    },
    {
     "name": "stderr",
     "output_type": "stream",
     "text": [
      "100%|██████████| 1/1 [00:00<00:00, 249.90it/s]\n"
     ]
    },
    {
     "name": "stdout",
     "output_type": "stream",
     "text": [
      "done in 0.59 seconds, 1.68 sentences/sec\n",
      "Jamaal Champlin, a 69-year-old White male, presented at the Parkview Dental Clinic on October 11, 2023, for a routine check-up due to concerns about gingivitis, which has caused occasional gum bleeding, bad breath, gum tenderness, and mild swelling. A comprehensive dental examination revealed gingival inflammation, supragingival and subgingival plaque and calculus, and a fractured tooth, which was treated with a composite dental filling. He was diagnosed with chronic gingivitis and prescribed Sodium Fluoride 0.0272 MG/MG Oral Gel to apply once daily before bedtime. Jamaal was advised on oral health education, including regular brushing, flossing, smoking cessation, and dietary modifications to reduce sugary foods and drinks. A follow-up appointment is scheduled in 6 months for dental cleaning and reassessment of oral health, with instructions to report any worsening symptoms immediately.\n",
      "**Medical Note**  **Patient Information:** - Name: Jamaal Champlin - Age: 69 years - Gender: Male - Ethnicity: White - Date: October 11, 2023 - Provider: Dr. Emily Thompson, DDS - Location: Parkview Dental Clinic, Boston, MA  **Reason for Visit:** - Routine check-up for Gingivitis  **Subjective:** Jamaal Champlin presents for a routine dental check-up with a primary concern of gingivitis, which he reports has caused occasional gum bleeding during brushing and persistent bad breath. The patient states he has experienced some gum tenderness and mild swelling over the past few months.  **Objective:** - Comprehensive dental examination performed.  - Evidence of gingival inflammation consistent with gingivitis. - Supragingival and subgingival plaque and calculus present on all teeth, subsequently removed during the visit. - Noted fracture of a tooth on examination, which was addressed with the application of composite dental filling material. - Dental fluoride treatment administered post-cleaning.  **Assessment:** - Chronic Gingivitis - Fractured Tooth (Treated)  **Plan:** 1. **Dental Procedures Performed:**    - Removal of supragingival and subgingival plaque and calculus from all teeth using dental instruments.    - Examination of gingivae.    - Application of composite dental filling material to the affected tooth.    - Dental fluoride treatment to aid in remineralization and prevent decay.  2. **Medications:**    - Sodium Fluoride 0.0272 MG/MG Oral Gel      - **Instructions:** Apply a thin layer of the gel to the teeth using the provided applicator, once daily before bedtime. Do not eat or drink for at least 30 minutes post-application. Ensure that the patient does not swallow the gel.  3. **Oral Health Education:**    - Emphasized the importance of maintaining oral hygiene with regular brushing (twice daily) and flossing (once daily).    - Recommended cessation of smoking to aid in gingival health.    - Discussed dietary modifications, including reducing sugary foods and drinks.  4. **Follow-up:**    - Schedule follow-up appointment in 6 months for dental cleaning and reassessment of oral health.    - Instruct patient to monitor for any worsening of symptoms, such as increased swelling, bleeding, or pain, and report these immediately.  **Signature:** Dr. Emily Thompson, DDS Parkview Dental Clinic, Boston, MA\n",
      "calculating scores...\n",
      "computing bert embedding.\n"
     ]
    },
    {
     "name": "stderr",
     "output_type": "stream",
     "text": [
      "100%|██████████| 1/1 [00:00<00:00,  1.71it/s]\n"
     ]
    },
    {
     "name": "stdout",
     "output_type": "stream",
     "text": [
      "computing greedy matching.\n"
     ]
    },
    {
     "name": "stderr",
     "output_type": "stream",
     "text": [
      "100%|██████████| 1/1 [00:00<00:00, 199.93it/s]\n"
     ]
    },
    {
     "name": "stdout",
     "output_type": "stream",
     "text": [
      "done in 0.60 seconds, 1.68 sentences/sec\n",
      "Jamaal Champlin, a 70-year-old male, was seen at Riverdale Family Dentistry on October 23, 2023, for a comprehensive dental evaluation and care. He presented with a history of gingival bleeding and mild tooth sensitivity to cold beverages, but no current dental pain. Jamaal was diagnosed with chronic gingivitis and mild periodontal disease, and treated with removal of plaque and calculus, followed by a dental fluoride treatment to aid remineralization. He was prescribed sodium fluoride 0.0272 MG/MG oral gel to apply once daily to aid enamel remineralization and provide cavity protection. A follow-up visit is scheduled in six months, with instructions to return sooner if symptoms such as increased tooth sensitivity or gingival bleeding occur.\n",
      "**Medical Note**  **Patient Name:** Jamaal Champlin   **Date of Birth:** March 15, 1953   **Encounter Date:** October 23, 2023   **Location:** Riverdale Family Dentistry, 123 Elm Street, Springfield, IL   **Referring Physician:** Dr. Susan Murray   **Dentist:** Dr. Emily Larson   **Reason for Visit:** Check-up and referral for comprehensive dental care.  **Subjective:**   Jamaal Champlin, a 70-year-old male, was referred to Riverdale Family Dentistry by his primary care physician for a comprehensive dental evaluation and care. He reports no current dental pain but has a history of gingival bleeding and mild tooth sensitivity when consuming cold beverages. The patient expresses a desire to maintain optimal oral health and is compliant with recommended dental care.  **Objective:**   - **Vital Signs:** Stable   - **Oral Examination:**     - Gingivae: Erythematous gingivae with mild recession, particularly around mandibular molars.     - Teeth: Presence of supragingival and subgingival plaque and calculus on all teeth.     - Bitewing X-ray: No significant decay but evidence of mild periodontal bone loss.   - Procedures Performed:     - Removal of supragingival and subgingival plaque and calculus using dental instruments.     - Dental fluoride treatment applied post plaque removal to aid remineralization.     - Patient education on proper oral hygiene techniques, focusing on brushing and interdental cleaning.  **Assessment:**   The patient presents with chronic gingivitis and mild periodontal disease likely exacerbated by inadequate plaque control. The successful removal of plaque and calculus, combined with oral hygiene education, is critical to prevent progression to periodontitis.  **Plan:**   - **Current Treatment:** Sodium fluoride 0.0272 MG/MG Oral Gel prescribed to aid enamel remineralization and provide cavity protection.   - **Instructions for Sodium Fluoride Oral Gel Use:**     - Apply a thin ribbon of gel to a toothbrush and brush thoroughly for at least one minute, preferably at bedtime.     - Do not rinse, eat, or drink for at least 30 minutes after application.     - Use once daily or as directed by your dentist.    - **Follow-Up:**     - Return visit scheduled in six months for routine check-up and cleaning.     - Immediate follow-up if any symptoms such as increased tooth sensitivity, gingival bleeding, or oral discomfort occur.  **Patient Education:**   Jamaal was educated on the importance of maintaining regular dental visits every six months and utilizing proper brushing and flossing techniques to manage plaque buildup. We also discussed the benefits of dietary modifications, such as reducing sugar intake, to support oral health.  **Signature:**   Dr. Emily Larson, DDS   Riverdale Family Dentistry   October 23, 2023\n",
      "calculating scores...\n",
      "computing bert embedding.\n"
     ]
    },
    {
     "name": "stderr",
     "output_type": "stream",
     "text": [
      "100%|██████████| 1/1 [00:00<00:00,  1.78it/s]\n"
     ]
    },
    {
     "name": "stdout",
     "output_type": "stream",
     "text": [
      "computing greedy matching.\n"
     ]
    },
    {
     "name": "stderr",
     "output_type": "stream",
     "text": [
      "100%|██████████| 1/1 [00:00<00:00, 249.99it/s]\n"
     ]
    },
    {
     "name": "stdout",
     "output_type": "stream",
     "text": [
      "done in 0.57 seconds, 1.74 sentences/sec\n",
      "Jamaal Champlin is a 70-year-old White male who presented to the emergency room on June 14, 2023, with severe chest pain radiating to the left arm and jaw, accompanied by diaphoresis, shortness of breath, and nausea. He has a history of hypertension and hyperlipidemia, and his symptoms and diagnostic studies, including an electrocardiogram showing ST-segment elevation and elevated troponin I, are consistent with an inferior wall myocardial infarction. He was treated with aspirin 325mg orally and morphine sulfate 2mg IV for pain management, and was admitted to the Cardiac Care Unit for further monitoring and potential percutaneous coronary intervention. He will continue on aspirin 325mg daily and receive supplementary oxygen as needed, with serial reevaluation of cardiac biomarkers and follow-up appointments with primary care and cardiology upon discharge. His current treatment plan aims to stabilize his condition and prevent further cardiac complications.\n",
      "**Emergency Room Visit Note**  **Patient Information:** - **Name:** Jamaal Champlin - **DOB:** 03/12/1953 - **Age:** 70 - **Gender:** Male - **Ethnicity:** White  **Visit Date:** June 14, 2023   **Location:** St. Joseph's Hospital Emergency Department   **Attending Physician:** Dr. Caroline Nguyen   **Consulting Cardiologist:** Dr. Michael Thompson    **Chief Complaint:**   Patient presents with severe chest pain radiating to the left arm and jaw, diaphoresis, shortness of breath, and nausea.  **History of Present Illness:**   Mr. Jamaal Champlin, a 70-year-old male with a history of hypertension and hyperlipidemia, arrived at the emergency room with sudden onset of severe, crushing chest pain that commenced approximately 2 hours prior to arrival. The pain was rated 9/10 in intensity, radiating to the left arm and jaw. Accompanying symptoms included profuse sweating, shortness of breath, and nausea, which led his wife to call emergency services.  **Physical Examination:**   - **Vital Signs:**     - Blood Pressure: 150/95 mmHg     - Pulse: 102 bpm     - Respirations: 22/min     - Temperature: 98.6°F     - Oxygen Saturation: 88% on room air, improved to 96% with supplemental oxygen  - **Cardiovascular:**     - Heart sounds: S4 present, no murmurs     - Jugular venous distension observed    - **Respiratory:**     - Breath sounds: Bilateral crackles at lung bases     - Increased work of breathing    **Diagnostic Studies:**   - **Electrocardiogram (ECG):** Acute ST-segment elevation in leads II, III, and aVF indicating an inferior wall myocardial infarction. - **Laboratory Tests:**     - Elevated troponin I     - Complete blood count and metabolic panel within normal limits   - **Chest X-ray:** Mild pulmonary congestion    **Treatment Administered:** 1. **Aspirin 325 MG Oral Tablet** given immediately to reduce platelet aggregation. 2. **Morphine Sulfate 2 MG IV** for pain management and anxiety relief.    **Instructions:** - **Aspirin 325 MG Oral Tablet:** Continue taking one tablet daily to prevent further clot formation. - **Morphine Sulfate:** Administered in the ER for acute pain control; monitor for any adverse effects or if additional doses are needed in case of ongoing severe pain.  **Plan:**   The patient is admitted to the Cardiac Care Unit for further monitoring and management, including potential percutaneous coronary intervention. Continue cardiac monitoring, administer supplementary oxygen as needed, and consult with cardiology for further treatment steps. Ensure patient stabilization and reevaluate cardiac biomarkers serially.    **Follow-Up:**   Discuss rehabilitation and lifestyle modifications upon stabilization and discharge. Schedule follow-up appointments with both primary care and cardiology as per recovery needs.  **Signature:**   Dr. Caroline Nguyen, MD   St. Joseph's Hospital Emergency Department\n",
      "calculating scores...\n",
      "computing bert embedding.\n"
     ]
    },
    {
     "name": "stderr",
     "output_type": "stream",
     "text": [
      "100%|██████████| 1/1 [00:00<00:00,  1.60it/s]\n"
     ]
    },
    {
     "name": "stdout",
     "output_type": "stream",
     "text": [
      "computing greedy matching.\n"
     ]
    },
    {
     "name": "stderr",
     "output_type": "stream",
     "text": [
      "100%|██████████| 1/1 [00:00<00:00, 199.97it/s]\n"
     ]
    },
    {
     "name": "stdout",
     "output_type": "stream",
     "text": [
      "done in 0.64 seconds, 1.56 sentences/sec\n",
      "Jamaal Champlin is a 70-year-old White male who on October 12, 2023, presented with symptoms of acute chest pain, shortness of breath, and diaphoresis, and was diagnosed with an acute non-ST segment elevation myocardial infarction (NSTEMI). He has a past medical history of hypertension, hyperlipidemia, and type 2 diabetes mellitus, and was taking metformin 500 mg and amlodipine 10 mg at admission. Following a coronary angiography and percutaneous coronary intervention (PCI) with stent placement, he was prescribed a treatment plan including heparin, clopidogrel 300 mg daily, aspirin 81 mg daily, labetalol 200 mg twice daily, pravastatin 40 mg daily, losartan 100 mg daily, and prasugrel 10 mg daily. He was discharged with instructions to follow up in one week, limit physical activity, and maintain a heart-healthy diet, and was educated on the importance of medication adherence and recognizing symptoms of myocardial infarction.\n",
      "**Patient Name:** Jamaal Champlin   **Medical Record Number:** 946   **Date of Birth:** August 18, 1953   **Age:** 70   **Gender:** Male   **Ethnicity:** White   **Encounter Date:** October 12, 2023   **Attending Physician:** Dr. Emily Patterson   **Hospital:** Mercy General Hospital   **Location:** Cardiology Department    ---  **Chief Complaint:**   The patient presented with chest pain, shortness of breath, and diaphoresis.  **History of Present Illness:**   Jamaal Champlin is a 70-year-old male admitted to Mercy General Hospital on October 12, 2023, for evaluation of acute chest pain, which began approximately 4 hours prior to arrival. He reports the pain as substernal, pressure-like, and radiating to his left arm and jaw. He also experienced shortness of breath, and nausea prior to arrival. Initial ECG revealed no ST elevation; however, troponin levels were elevated, suggestive of an acute non-ST segment elevation myocardial infarction (NSTEMI).  **Past Medical History:**   - Hypertension   - Hyperlipidemia   - Type 2 Diabetes Mellitus    **Medications at Admission:**   - Metformin 500 mg oral tablet   - Amlodipine 10 mg oral tablet    **Allergies:**   - No known drug allergies  **Family History:**   - Father passed away at age 72 from myocardial infarction   - Mother alive, diagnosed with hypertension    **Social History:**   - Former smoker, quit 10 years ago   - Occasional alcohol use   - Retired accountant  **Physical Examination:**   - Vital Signs: BP 160/92 mmHg, HR 96 bpm, RR 18/min, Temp 98.3°F, O2 Sat 94% on room air   - General: Alert, in mild distress due to chest pain   - Cardiovascular: Tachycardic, no murmurs, S1 and S2 present   - Respiratory: Clear to auscultation bilaterally   - Abdomen: Soft, non-tender   - Extremities: No edema; pulses equal bilaterally    **Hospital Course:**   The patient underwent risk assessment and a coronary angiography which identified critical stenosis in the left anterior descending artery. A percutaneous coronary intervention (PCI) with stent placement was successfully performed. A transthoracic echocardiography was ordered and showed mild left ventricular dysfunction.  **Treatment Plan:**   1. **Heparin Sodium, Porcine 100 UNT/ML Injectable Solution:** Administer as per hospital protocol for anticoagulation. Monitor aPTT and adjust the dose accordingly.     2. **Clopidogrel 300 MG Oral Tablet:** Take one tablet orally once daily to prevent platelet aggregation.     3. **Aspirin 81 MG Oral Tablet:** Take one tablet orally once daily as part of dual antiplatelet therapy.     4. **Labetalol Hydrochloride 200 MG Oral Tablet:** Take one tablet orally twice daily to manage blood pressure.     5. **Pravastatin Sodium 40 MG Oral Tablet:** Take one tablet orally once daily at bedtime to lower cholesterol levels.     6. **Losartan Potassium 100 MG Oral Tablet:** Take one tablet orally once daily for blood pressure control.     7. **Prasugrel 10 MG Oral Tablet:** Take one tablet orally once daily as an alternative antiplatelet agent alongside aspirin.  **Discharge Instructions:**   - Continue all medications as prescribed. - Follow up with Dr. Emily Patterson in the Cardiology Outpatient Clinic in one week. - Limit physical activity for the next few days and gradually increase as tolerated. - Maintain a heart-healthy diet and monitor blood pressure at home. - Seek immediate medical attention if chest pain recurs, or there are signs of bleeding or stroke.  **Patient Education:**   Discuss the importance of medication adherence, recognizing symptoms of myocardial infarction, and lifestyle modifications to prevent future cardiac events.  **Signature:**   Dr. Emily Patterson, MD   Cardiology Department   Mercy General Hospital    **Date:** October 13, 2023\n",
      "calculating scores...\n",
      "computing bert embedding.\n"
     ]
    },
    {
     "name": "stderr",
     "output_type": "stream",
     "text": [
      "100%|██████████| 1/1 [00:00<00:00,  1.65it/s]\n"
     ]
    },
    {
     "name": "stdout",
     "output_type": "stream",
     "text": [
      "computing greedy matching.\n"
     ]
    },
    {
     "name": "stderr",
     "output_type": "stream",
     "text": [
      "100%|██████████| 1/1 [00:00<00:00, 166.53it/s]\n"
     ]
    },
    {
     "name": "stdout",
     "output_type": "stream",
     "text": [
      "done in 0.62 seconds, 1.61 sentences/sec\n",
      "Jamaal Champlin is a 71-year-old White male who on October 10, 2023, presented with symptoms of acute bronchitis, including a productive cough with yellowish sputum, wheezing, and mild shortness of breath. He also experienced fatigue and intermittent low-grade fever, with symptoms worsening over the past two days. Physical examination revealed bilateral wheezing, mild respiratory distress, and nasal congestion, with vital signs indicating a mild obstructive pattern due to bronchial inflammation. He was prescribed acetaminophen 325 mg oral tablet, with instructions to take 1-2 tablets every 4 to 6 hours as needed, and advised to increase fluid intake, rest, and avoid respiratory irritants. A follow-up visit is scheduled in 2 weeks, with instructions to return sooner if symptoms persist or worsen.\n",
      "**Medical Note**  **Patient Information:** - Name: Jamaal Champlin - Date of Birth: June 12, 1952 - Age: 71 years - Gender: Male - Race: White  **Date of Encounter:** October 10, 2023  **Location:** Riverside Family Health Clinic, Chicago, IL  **Attending Physician:** Dr. Sarah Thompson  **Chief Complaint:**  The patient reports a persistent cough and difficulty breathing, suggestive of possible acute bronchitis.  **History of Present Illness:** Jamaal Champlin, a 71-year-old male, presented to the clinic with symptoms that developed approximately 5 days ago. He reports a productive cough with yellowish sputum, wheezing, and mild shortness of breath, particularly when engaging in physical activities. The patient also notes feeling fatigued and has experienced intermittent low-grade fever. He denies any history of chronic respiratory conditions or smoking. The onset of symptoms was gradual, and the patient noticed worsening over the past two days.  **Physical Examination:** - **General:** Appears in mild respiratory distress but is otherwise well-nourished and alert. - **Vital Signs:** BP: 130/85 mmHg, HR: 88 bpm, RR: 22 breaths/min, Temp: 99.1°F, SpO2: 94% on room air. - **Respiratory:** Bilateral wheezing noted on auscultation; no crackles or rhonchi.  - **Cardiovascular:** Regular rate and rhythm; no murmurs or gallops observed. - **HEENT:** Nasal congestion present; throat slightly erythematous, no exudates. - **Abdomen:** Soft, non-tender, non-distended.  **Assessment:** Acute bronchitis characterized by cough, wheezing, and low-grade fever.  **Procedures Performed:** - Measurement of respiratory function was performed, indicating mild obstructive pattern likely due to bronchial inflammation.  **Plan:** 1. **Medication:**    - Acetaminophen 325 mg Oral Tablet: Prescribed for the management of fever and discomfort.      - **Dosage Instructions:** Take 1-2 tablets every 4 to 6 hours as needed for fever or pain. Do not exceed 10 tablets in 24 hours.  2. **Additional Recommendations:**    - Encourage increased fluid intake to help thin mucus.    - Recommend rest and avoidance of respiratory irritants such as smoke and dust.    - Use a humidifier in the home to ease breathing issues and soothe the airways.    - If symptoms persist beyond 10 days or worsen, patient should return to the clinic for re-evaluation.  3. **Follow-Up:**    - Schedule a follow-up visit in 2 weeks or sooner if symptoms do not improve or worsen.  **Patient Education:** The patient was educated about the nature of acute bronchitis, symptom management strategies, and importance of medication adherence. Advised to monitor symptoms, especially if there is a progression towards difficulty in breathing or persistent high fevers.  **Signature:** Dr. Sarah Thompson   Riverside Family Health Clinic  **Contact Information:** Riverside Family Health Clinic   123 Main Street, Chicago, IL 60614   Phone: (312) 555-0199\n",
      "calculating scores...\n",
      "computing bert embedding.\n"
     ]
    },
    {
     "name": "stderr",
     "output_type": "stream",
     "text": [
      "100%|██████████| 1/1 [00:00<00:00,  1.67it/s]\n"
     ]
    },
    {
     "name": "stdout",
     "output_type": "stream",
     "text": [
      "computing greedy matching.\n"
     ]
    },
    {
     "name": "stderr",
     "output_type": "stream",
     "text": [
      "100%|██████████| 1/1 [00:00<00:00, 166.61it/s]\n"
     ]
    },
    {
     "name": "stdout",
     "output_type": "stream",
     "text": [
      "done in 0.61 seconds, 1.63 sentences/sec\n",
      "Jamaal Champlin is a 71-year-old male (White) who on October 9, 2023, underwent a comprehensive dental evaluation and care, presenting with symptoms such as tooth sensitivity, bleeding gums, and occasional oral discomfort. He was found to have mild gingival inflammation, supragingival and subgingival plaque and calculus, and a fractured tooth that was repaired with a composite dental filling. The patient received a dental fluoride treatment and was prescribed Sodium Fluoride 0.0272 MG/MG Oral Gel to apply once daily for the prevention of dental cavities. He was also provided with oral health education on proper brushing and flossing techniques, dietary advice, and the importance of regular dental check-ups. A follow-up appointment is scheduled in six months with Dr. Sarah Thompson, DDS, for regular dental check-up and maintenance.\n",
      "**Medical Encounter Note**  **Date:** October 9, 2023   **Patient Name:** Jamaal Champlin   **Date of Birth:** February 15, 1952   **Age:** 71   **Gender:** Male   **Ethnicity:** White   **Encounter Type:** Patient Referral for Dental Care - Check-Up  **Presenting Concerns:**   The patient was referred for a comprehensive dental evaluation and care. Symptoms potentially associated with the need for dental care, such as tooth sensitivity, bleeding gums, and occasional oral discomfort, were noted and addressed during this visit.  **Dental History and Consultation Summary:**   Dr. Sarah Thompson, DDS, at Lakeside Family Dentistry, conducted a thorough dental examination and consultation. The evaluation included:  - Examination of gingivae revealing mild gingival inflammation.   - Supragingival and subgingival plaque and calculus were present and removed from all teeth using appropriate dental instruments.   - Noted fracture on one tooth was repaired using composite dental filling material applied to the dentin.   - A dental fluoride treatment was applied to enhance remineralization and protect enamel after plaque/calculus removal.    **Oral Health Education:**   The patient received oral health education, focusing on proper brushing and flossing techniques, dietary advice, and the significance of regular dental check-ups to maintain optimal oral health.  **Medication Prescribed:**   **Sodium Fluoride 0.0272 MG/MG Oral Gel**  **Instructions for Use:**   - Apply a thin ribbon of the gel to the toothbrush.   - Brush the teeth thoroughly for at least 2 minutes, ensuring to cover all areas.   - For maximum benefits, do not eat, drink, or rinse for at least 30 minutes after application.   - Use once daily, preferably before bedtime.   - Follow the regimen as prescribed for the prevention of dental cavities and to enhance dental health.  **Follow-Up:**   A follow-up appointment is scheduled with Dr. Thompson in six months for regular dental check-up and maintenance. If any increased sensitivity, persistent pain, or bleeding occurs, the patient is advised to contact the dental office immediately for further assessment.  **Provider:**   Dr. Emily Hughes, MD   Primary Care Physician   Riverside Health Center   Contact: (555) 123-4567  **This medical note is documented in accordance with the patient's requirements for health and dental services.**  ---  **Note: This medical record is confidential and intended only for the use of the physician, staff, and individual to whom it is addressed. Unauthorized review, dissemination, distribution, or copying is strictly prohibited.**\n",
      "calculating scores...\n",
      "computing bert embedding.\n"
     ]
    },
    {
     "name": "stderr",
     "output_type": "stream",
     "text": [
      "100%|██████████| 1/1 [00:00<00:00,  1.66it/s]\n"
     ]
    },
    {
     "name": "stdout",
     "output_type": "stream",
     "text": [
      "computing greedy matching.\n"
     ]
    },
    {
     "name": "stderr",
     "output_type": "stream",
     "text": [
      "100%|██████████| 1/1 [00:00<00:00, 142.94it/s]\n"
     ]
    },
    {
     "name": "stdout",
     "output_type": "stream",
     "text": [
      "done in 0.62 seconds, 1.62 sentences/sec\n",
      "Jamaal Champlin is a 71-year-old White male who presented on October 12, 2023, for a routine screening colonoscopy at the Downtown Medical Center's Gastroenterology Department. He has a history of hypertension, hyperlipidemia, and osteoarthritis, and is currently managed on Lisinopril 20 mg daily, Atorvastatin 10 mg daily, and Acetaminophen 500 mg as needed for pain. The colonoscopy was completed without complications, and no polyps or suspicious lesions were noted, with biopsy results pending. Jamaal's chronic conditions are well-controlled, and he is advised to continue his current management plan, with a follow-up visit scheduled in 5 years for routine screening. He was encouraged to maintain a healthy lifestyle, including his current exercise routine and a balanced diet, to reduce the risk of colon cancer.\n",
      "**Medical Note**  **Patient Name:** Jamaal Champlin   **Date of Birth:** April 2, 1952   **Age:** 71   **Gender:** Male   **Ethnicity:** White   **Date of Encounter:** October 12, 2023   **Location:** Downtown Medical Center, Gastroenterology Department   **Attending Physician:** Dr. Emily Thompson    **Chief Complaint:**   Routine check-up and colonoscopy for the screening of malignant neoplasm of the colon.  **History of Present Illness:**   Mr. Jamaal Champlin is a 71-year-old male who presents today for a routine screening colonoscopy to screen for malignant neoplasms of the colon. This is part of his preventive health care considering his age and no significant personal or family history of colon cancer. He has undergone previous colonoscopy procedures every 5 years with no significant findings. The last procedure was in October 2018, which revealed no polyps or abnormal pathology.  **Past Medical History:**   - Hypertension   - Hyperlipidemia   - Osteoarthritis    **Past Surgical History:**   - Appendectomy in 1980   - Cholecystectomy in 2005    **Medications:**   - Lisinopril 20 mg daily   - Atorvastatin 10 mg daily   - Acetaminophen 500 mg as needed for pain    **Allergies:**   - No known drug allergies    **Social History:**   - Retired accountant   - Non-smoker   - Consumes alcohol occasionally   - Exercises regularly, walking daily  **Family History:**   - Father: Deceased at 78 from myocardial infarction   - Mother: Deceased at 80 from breast cancer   - No history of colon cancer in immediate family  **Review of Systems:**   - **Constitutional:** Denies any recent weight loss, fever, or fatigue.   - **Gastrointestinal:** Denies changes in bowel habits, blood in stool, or abdominal pain. Reports some mild bloating and gas, which are generally attributed to dietary choices.   - **Cardiovascular:** Denies chest pain or palpitations.   - **Respiratory:** Denies shortness of breath or cough.   - **Musculoskeletal:** Reports usual joint pain related to osteoarthritis, stable with current management.  **Physical Examination:**   - **Vital Signs:** BP 128/76 mmHg, HR 72 bpm, RR 16, Temp 98.6°F   - **General:** Well-nourished, well-developed, in no acute distress   - **Abdomen:** Soft, non-tender, no masses, normal bowel sounds   - Other systems were reviewed and are unremarkable.  **Laboratory and Imaging Studies:**   - Recent CBC and CMP within normal limits.   - Fecal occult blood test: Negative    **Procedure:**   Colonoscopy was performed today by Dr. Emily Thompson. The patient was prepped appropriately, and the procedure was completed without any immediate complications. The entire colon was visualized, and no polyps or suspicious lesions were noted. Biopsies were taken for histopathological examination from areas of common precancerous changes as per standard protocol.  **Assessment and Plan:**   1. **Screening Colonoscopy:** Completed without complications; pathology results pending. Jamaal will be notified once results are available.     2. **Chronic Conditions Management:** Hypertension and hyperlipidemia are well-controlled on current medication regimen. Continue current management plan.     3. **Follow-Up:** Return visit scheduled in 5 years for routine screening or sooner if biopsy results indicate further action. Continue routine monitoring and management of chronic conditions.  **Patient Education and Counseling:**   Discussed the importance of regular screenings and maintaining a healthy lifestyle to reduce the risk of colon cancer. Mr. Champlin is encouraged to continue with his current exercise routine and to maintain a balanced diet.  **Signed:**   Dr. Emily Thompson, MD   [Medical License Number]   Downtown Medical Center, Gastroenterology Department    **Date:** October 12, 2023\n",
      "calculating scores...\n",
      "computing bert embedding.\n"
     ]
    },
    {
     "name": "stderr",
     "output_type": "stream",
     "text": [
      "100%|██████████| 1/1 [00:00<00:00,  1.77it/s]\n"
     ]
    },
    {
     "name": "stdout",
     "output_type": "stream",
     "text": [
      "computing greedy matching.\n"
     ]
    },
    {
     "name": "stderr",
     "output_type": "stream",
     "text": [
      "100%|██████████| 1/1 [00:00<00:00, 166.73it/s]\n"
     ]
    },
    {
     "name": "stdout",
     "output_type": "stream",
     "text": [
      "done in 0.58 seconds, 1.73 sentences/sec\n",
      "Jamaal Champlin, a 71-year-old male, presented to the Green Valley Family Health Clinic on October 18, 2023, with a 3-day history of a sore throat, fatigue, mild cough, headache, and nasal congestion. He has a medical history of hypertension, dyslipidemia, and osteoarthritis, and is currently taking Lisinopril 10 mg daily, Atorvastatin 20 mg daily, and Acetaminophen as needed for arthritis pain. Physical examination revealed an erythematous pharynx without tonsillar exudate, mild nasal congestion, and no significant lymphadenopathy. He was diagnosed with acute viral pharyngitis and advised to increase fluid intake, perform warm saltwater gargles, and continue using acetaminophen as needed for throat pain. A follow-up is planned if symptoms persist beyond 7-10 days or worsen, with instructions to monitor for high fever or difficulty swallowing.\n",
      "**Medical Note**  **Patient Name:** Jamaal Champlin   **Date of Birth:** March 14, 1952   **Medical Record Number:** 34-946   **Date of Visit:** October 18, 2023   **Provider:** Dr. Sarah Thompson, MD   **Location:** Green Valley Family Health Clinic, Denver, CO  **Subjective:**  **Chief Complaint:**   The patient presents with a sore throat that has persisted for three days.  **History of Present Illness:**   Jamaal Champlin is a 71-year-old male who reports experiencing a sore throat, which began approximately three days ago. He describes the pain as moderate, aggravated by swallowing, and not relieved by over-the-counter lozenges. There is associated fatigue and a mild cough. He denies any difficulty breathing or swallowing. He has also experienced a mild headache and nasal congestion. No noted fever or rash. He reports having similar symptoms in the past, typically during cold and flu season.  **Medical History:**   - Hypertension   - Dyslipidemia   - Osteoarthritis    **Medications:**   - Lisinopril 10 mg daily   - Atorvastatin 20 mg daily   - Acetaminophen as needed for arthritis pain  **Allergies:**   - No known drug allergies  **Social History:**   - Retired teacher   - Non-smoker   - Occasionally consumes alcohol, approximately 2-3 drinks per week.  **Objective:**  **Vital Signs:**   - Blood Pressure: 128/82 mmHg   - Pulse: 76 bpm   - Respiratory Rate: 16 breaths per minute   - Temperature: 98.4°F (oral)   - O2 Saturation: 98% on room air  **Physical Examination:**   - **General:** Alert, well-appearing, in no acute distress.   - **Throat:** Erythematous pharynx with no tonsillar exudate noted.   - **Neck:** No cervical lymphadenopathy, mild tenderness anteriorly.   - **Lungs:** Clear to auscultation bilaterally, no wheezes or crackles.   - **Nasal:** Mild nasal congestion, mucosa erythematous.   - **Cardiac:** Regular rate and rhythm, no murmurs.   - **Skin:** No rashes or lesions noted.  **Assessment:**   Jamaal Champlin is experiencing symptoms consistent with Acute viral pharyngitis, likely viral in etiology given the absence of exudates and systemic signs like significant fever.  **Plan:**   1. Symptomatic treatment:    - Increase fluid intake.    - Warm saltwater gargles.    - Continue use of acetaminophen as needed for throat pain.    - Educate on the use of throat lozenges and humidifiers. 2. Monitor and report if symptoms worsen or patient develops high fever or difficulty swallowing. 3. Follow-up: Re-evaluation if symptoms persist beyond 7-10 days or escalate.  **Signature:**   Dr. Sarah Thompson, MD   Green Valley Family Health Clinic\n",
      "calculating scores...\n",
      "computing bert embedding.\n"
     ]
    },
    {
     "name": "stderr",
     "output_type": "stream",
     "text": [
      "100%|██████████| 1/1 [00:00<00:00,  1.44it/s]\n"
     ]
    },
    {
     "name": "stdout",
     "output_type": "stream",
     "text": [
      "computing greedy matching.\n"
     ]
    },
    {
     "name": "stderr",
     "output_type": "stream",
     "text": [
      "100%|██████████| 1/1 [00:00<00:00, 250.11it/s]\n"
     ]
    },
    {
     "name": "stdout",
     "output_type": "stream",
     "text": [
      "done in 0.71 seconds, 1.41 sentences/sec\n",
      "Jamaal Champlin, a 74-year-old White male, presented at the Lakeview Dental Clinic on October 6, 2023, for a routine check-up focused on managing gingivitis, reporting symptoms of bleeding gums, gum swelling, tenderness, and occasional bad breath. A comprehensive oral examination revealed marginal redness, swelling, and periodontal pockets, confirming inflammatory changes consistent with gingivitis. He underwent scaling and root planing, gingivectomy/gingivoplasty, and desensitizing medicament application, and was advised on an enhanced oral hygiene routine, including brushing twice daily, flossing, and using antiseptic mouthwash. Jamaal was diagnosed with chronic gingivitis and scheduled for a follow-up visit in 3 months to monitor his condition and adjust his treatment plan as necessary. He was prescribed no medications but was applied with fluoride varnish to sensitive areas to reduce discomfort.\n",
      "**Medical Note**  **Patient Information:** - Name: Jamaal Champlin - Age: 74 - Gender: Male - Ethnicity: White - Date of Visit: October 6, 2023 - Location: Lakeview Dental Clinic, Springfield, IL  **Chief Complaint:** - Routine check-up for gingivitis.  **Subjective:** Jamaal presented for a dental check-up focused on managing gingivitis. He reports experiencing symptoms typical for gingivitis, including bleeding gums during brushing, gum swelling, and tenderness. He notes occasional bad breath despite regular brushing. No pain with chewing is reported.   **Objective:** - General: Alert, cooperative, appears stated age. - Oral Examination:   - Gingivae: Marginal redness, swelling, and periodontal pockets noted, indicating inflammatory changes consistent with gingivitis.   - Teeth: Presence of supragingival and subgingival plaque and calculus on most teeth.   - Oral Hygiene: Suboptimal, as indicated by quick formation of plaque and calculus.    **Procedures Performed:** 1. **Dental Consultation and Report:** Comprehensive evaluation conducted. Findings discussed with the patient. 2. **Dental Care (Regimen/Therapy):** Implemented an oral hygiene routine tailored to manage and improve gingival health.  3. **Scaling and Root Planing:**    - Removal of supragingival plaque and calculus using a scaler.    - Removal of subgingival plaque and calculus to reduce periodontal pockets and promote gum healing. 4. **Examination of Gingivae:** Detailed inspection of gum tissues to assess inflammation and response to treatment. 5. **Dental Surgical Procedure:**    - Gingivectomy/gingivoplasty performed on vital areas to remove diseased gingival tissue and reduce pocket depths. 6. **Desensitizing Medicament Application:** Applied fluoride varnish to sensitive areas to reduce discomfort. 7. **Restoration of Tooth:**    - Cusp coverage restoration on affected teeth using composite dental filling material for structural support and aesthetics. 8. **Oral Health Education:** Provided instructions on brushing techniques, flossing, and importance of regular dental visits to prevent plaque buildup and gingivitis progression.  **Assessment:** - Chronic Gingivitis: Current management plan initiated to control and prevent further dental and periodontal issues.   **Plan:** - Continue with enhanced oral hygiene practices as instructed, including brushing twice daily with a soft-bristled toothbrush, flossing daily, and using antiseptic mouthwash. - Follow-up visit scheduled in 3 months for re-evaluation and continued care. - Encourage Jamaal to monitor for any progression of symptoms such as increased bleeding or persistent bad breath. - Consider more frequent dental cleanings if gingival health does not improve by next visit.  **Provider:** - Dr. Marie Simpson, DDS - Lakeview Dental Clinic  **Signature:** Dr. Marie Simpson  [Signature]   **Date:** October 6, 2023\n",
      "calculating scores...\n",
      "computing bert embedding.\n"
     ]
    },
    {
     "name": "stderr",
     "output_type": "stream",
     "text": [
      "100%|██████████| 1/1 [00:00<00:00,  1.59it/s]\n"
     ]
    },
    {
     "name": "stdout",
     "output_type": "stream",
     "text": [
      "computing greedy matching.\n"
     ]
    },
    {
     "name": "stderr",
     "output_type": "stream",
     "text": [
      "100%|██████████| 1/1 [00:00<00:00, 283.88it/s]\n"
     ]
    },
    {
     "name": "stdout",
     "output_type": "stream",
     "text": [
      "done in 0.64 seconds, 1.56 sentences/sec\n",
      "Jamaal Champlin, a 74-year-old Caucasian male, presented to Grandview Family Dental on October 12, 2023, for a follow-up examination of gingivitis, reporting mild gum bleeding, swollen gums, and occasional gum tenderness. He underwent a full dental examination, removal of plaque and calculus, and dental X-ray, which showed no significant pathology. Jamaal was prescribed sodium fluoride oral gel (0.0272 MG/MG) to be used once daily, preferably at bedtime, to enhance dental enamel and prevent further gingival issues. He was diagnosed with gingivitis, likely due to suboptimal oral hygiene, and advised to continue regular brushing and flossing, use the prescribed sodium fluoride oral gel, and follow a balanced diet. A follow-up dental appointment is scheduled in six months, with instructions to return sooner if symptoms persist or worsen.\n",
      "**Medical Note**  **Patient Name:** Jamaal Champlin   **Date of Birth:** 02/15/1949   **Patient ID:** JC946   **Date of Encounter:** 10/12/2023   **Location:** Grandview Family Dental, Springfield    **Reason for Visit:**   Check-up for Gingivitis  **History of Present Illness:**   Jamaal Champlin, a 74-year-old Caucasian male, presented to Grandview Family Dental for a scheduled follow-up examination of gingivitis. He reports experiencing mild gum bleeding, especially while brushing teeth, swollen gums, and occasional gum tenderness. Jamaal denies having any toothache or unusual breath odors. No history of systemic symptoms such as fever.  **Dental Procedures Conducted:**   1. Full dental examination with consultation report. 2. Removal of supragingival and subgingival plaque and calculus from all teeth using professional dental instruments. 3. Dental plain X-ray (bitewing) conducted; no significant pathology noted. 4. Examination of gingivae to assess for additional signs of gingivitis. 5. Application of composite dental filling material to the dentin of a tooth following a fracture. 6. Administration of a dental fluoride treatment to enhance enamel protection. 7. Provision of oral health education, emphasizing proper brushing and flossing techniques, as well as the importance of regular dental visits.  **Medications Prescribed:**   - **Sodium Fluoride Oral Gel (0.0272 MG/MG):**     - **Instructions for Use:**       - Brush your teeth with your regular toothpaste first. Rinse thoroughly.     - Apply a thin ribbon of the sodium fluoride gel onto a toothbrush.     - Brush gel onto all tooth surfaces for at least one minute.     - After brushing, do not rinse, eat, or drink for at least 30 minutes to ensure maximum fluoride uptake.     - Use once daily, preferably at bedtime.  **Assessment:**   Gingivitis likely due to suboptimal oral hygiene leading to plaque accumulation.  **Plan and Recommendations:**   1. Continue regular brushing and flossing twice daily. 2. Use the prescribed sodium fluoride oral gel as directed to enhance dental enamel and aid in the prevention of further gingival issues. 3. Follow a balanced diet to support oral health. 4. Return for follow-up dental appointment in six months or sooner if symptoms persist or worsen. 5. Immediate follow-up if any symptoms such as tooth pain, increased gum swelling, or excessive bleeding occur.  **Additional Notes:**   Patient advised on potential symptoms of gingivitis, including gum redness, tenderness, bleeding, and recessions.  **Signature:**   Dr. Rebecca Harrison   DDS, Grandview Family Dental   Springfield, State   Contact: (555) 213-7890  **Date:** 10/12/2023\n",
      "calculating scores...\n",
      "computing bert embedding.\n"
     ]
    },
    {
     "name": "stderr",
     "output_type": "stream",
     "text": [
      "100%|██████████| 1/1 [00:00<00:00,  1.67it/s]\n"
     ]
    },
    {
     "name": "stdout",
     "output_type": "stream",
     "text": [
      "computing greedy matching.\n"
     ]
    },
    {
     "name": "stderr",
     "output_type": "stream",
     "text": [
      "100%|██████████| 1/1 [00:00<00:00, 249.66it/s]\n"
     ]
    },
    {
     "name": "stdout",
     "output_type": "stream",
     "text": [
      "done in 0.61 seconds, 1.63 sentences/sec\n",
      "Jamaal Champlin is a 72-year-old Caucasian male who was seen at the Springfield Dental Clinic on September 27, 2023, for a routine check-up and management of gingivitis. He presented with symptoms of bleeding gums, mild gum swelling, and occasional bad breath, with increased sensitivity in the gums over the past month. The patient was diagnosed with gingivitis, characterized by gingival inflammation without significant bone loss, and underwent procedures including supragingival and subgingival scaling, as well as dental X-rays. He was advised to maintain good oral hygiene through brushing twice daily, using an antiseptic mouthwash, and flossing regularly, with a follow-up scheduled in three months to monitor progress. The patient was also educated on the importance of regular dental check-ups and the reversible nature of gingivitis with consistent care, with the next appointment scheduled for December 2023.\n",
      "**Medical Note**  **Patient Name:** Jamaal Champlin   **DOB:** 03/14/1951   **Date of Encounter:** September 27, 2023   **Location:** Springfield Dental Clinic, Springfield, IL    **Dentist:** Dr. Emily Hargrove, DDS    **Reason for Visit:**   Routine check-up and management of gingivitis.  **History of Present Illness:**   Jamaal Champlin is a 72-year-old Caucasian male who presents for a routine check-up with a primary focus on gingivitis management. The patient reports symptoms of bleeding gums during brushing, mild gum swelling, and occasional bad breath. He has noticed increased sensitivity in the gums over the past month. There is no pain or discomfort otherwise. The patient denies any recent changes in medication and no history of tobacco use. His last dental visit was six months ago.  **Dental Consultation and Report:**   Upon examination, the gingivae are inflamed with mild erythema and edema noted, consistent with gingivitis. Bleeding on probing was observed, particularly around the molars. Plaque and calculus accumulation were prominent in the supra- and subgingival areas. Patient's oral hygiene could be improved to manage the condition.  **Procedures Performed:**   1. **Dental Care (Regime/Therapy):**      - Comprehensive oral hygiene instructions were given, including proper brushing technique and flossing importance.  2. **Removal of Supragingival Plaque and Calculus:**      - Supragingival scaling was performed using a dental scaler to remove plaque and calculus from all teeth surfaces.  3. **Removal of Subgingival Plaque and Calculus:**      - Subgingival scaling was performed using a curette for deep cleaning to remove plaque and calculus below the gum line.  4. **Dental Plain X-ray Bitewing:**      - Bitewing X-rays were taken to assess bone levels and any underlying dental caries; results showed no significant osseous issues or caries.  5. **Examination of Gingivae:**      - Full periodontal examination confirmed mild to moderate gingivitis with no periodontal pockets detected beyond normal limits.  6. **Oral Health Education Procedure(s):**      - Educated the patient on the importance of maintaining good oral hygiene, regular dental check-ups, and scheduled cleanings every six months. Discussed dietary recommendations to reduce plaque buildup and improve oral health.  **Assessment:**   - Gingivitis, characterized by gingival inflammation without significant bone loss.  **Plan:**   - Re-evaluate oral care routine with emphasis on brushing twice daily, using an antiseptic mouthwash, and flossing regularly. - Schedule follow-up in three months to monitor progress and effectiveness of oral hygiene practices. - Patient advised to report any increased symptoms or issues before the next visit.  **Follow-Up:**   Next appointment scheduled for December 2023.   **Patient Education:**   Discussed risk factors for gingivitis including poor oral hygiene and smoking. Emphasized the reversible nature of gingivitis with consistent care and regular check-ups.   **Electronically signed by:**   Dr. Emily Hargrove, DDS   Springfield Dental Clinic  \n",
      "calculating scores...\n",
      "computing bert embedding.\n"
     ]
    },
    {
     "name": "stderr",
     "output_type": "stream",
     "text": [
      "100%|██████████| 1/1 [00:00<00:00,  1.72it/s]\n"
     ]
    },
    {
     "name": "stdout",
     "output_type": "stream",
     "text": [
      "computing greedy matching.\n"
     ]
    },
    {
     "name": "stderr",
     "output_type": "stream",
     "text": [
      "100%|██████████| 1/1 [00:00<00:00, 249.79it/s]\n"
     ]
    },
    {
     "name": "stdout",
     "output_type": "stream",
     "text": [
      "done in 0.59 seconds, 1.69 sentences/sec\n",
      "Jamaal Champlin is a 75-year-old White male who on October 18, 2023, presented with symptoms of gingivitis, including mild gum bleeding and swelling. He has been experiencing these symptoms over the past few weeks, primarily during brushing and flossing, and reports occasional gum tenderness. He was diagnosed with gingivitis, attributed to inadequate removal of dental plaque, and prescribed sodium fluoride 0.0272 MG/MG Oral Gel to strengthen enamel and reduce decay risk. Mr. Champlin was advised to maintain diligent oral hygiene with regular brushing and flossing, and a follow-up dental visit is scheduled in 6 months to reassess his gingival health. He was also instructed to return sooner if symptoms worsen or persist.\n",
      "**Encounter Note**  **Date of Visit:** October 18, 2023   **Patient Name:** Jamaal Champlin   **Age:** 75   **Gender:** Male   **Race/Ethnicity:** White   **Medical Record Number:** JCH0946    **Reason for Visit:**   Routine check-up for gingivitis  **Chief Complaint:**   The patient reports experiencing mild gum bleeding during brushing and flossing, as well as gum swelling.  **History of Present Illness:**   Jamaal Champlin is a 75-year-old male presenting for a scheduled dental consultation to manage gingivitis. Over the past few weeks, he has noticed increased bleeding from his gums primarily when brushing his teeth. He also reports occasional gum tenderness and swelling, which he attributes to gingivitis. Mr. Champlin denies any pain in his teeth or other parts of his oral cavity.  **Current Medications:**   - Sodium fluoride 0.0272 MG/MG Oral Gel  **Dental Encounter Summary:**  1. **Dental Consultation and Report:**      Conducted a thorough evaluation of Mr. Champlin's oral health condition.    2. **Dental Care (Regime/Therapy):**      Developed a comprehensive dental care plan with focus on improving gum health and preventing progression of gingivitis.  3. **Procedures Performed:**    - Removal of supragingival plaque and calculus using dental instruments.    - Removal of subgingival plaque and calculus using dental instruments.    - Dental plain X-ray bitewing was obtained to assess any underlying dental or bone pathology.    - Examination of gingivae revealed mild inflammation with no deep periodontal pockets.  4. **Dental Fluoride Treatment:**      Administered fluoride treatment to strengthen enamel and reduce sensitivity.    5. **Oral Health Education:**      Provided education on proper oral hygiene practices, emphasizing the importance of regular flossing, appropriate brushing techniques, and scheduling routine dental check-ups.  **Assessment:**   - Gingivitis, primarily attributed to inadequate removal of dental plaque, as evidenced by gum bleeding and swelling.    **Plan:**   - Prescribed sodium fluoride 0.0272 MG/MG Oral Gel to be used at bedtime, ensuring no food or drinks are consumed afterwards. This topical fluoride application is aimed at strengthening enamel and reducing the risk of decay.   - Instructions: Apply a thin ribbon of the gel to teeth using a toothbrush, spit out the excess, and do not rinse or swallow.   - Encourage maintenance of diligent oral hygiene with regular brushing twice daily and flossing.   - Advise follow-up dental visit in 6 months to reassess gingival health and plaque control.  **Follow-Up:**   Mr. Champlin was advised to return for regular dental check-ups every 6 months or sooner if symptoms worsen or persist.  **Signature:**  Dr. Emily Larson, DDS   Bright Smiles Dental Clinic   1234 Main Street, Springfield, IL 62704   Phone: (217) 555-0199  \n",
      "calculating scores...\n",
      "computing bert embedding.\n"
     ]
    },
    {
     "name": "stderr",
     "output_type": "stream",
     "text": [
      "100%|██████████| 1/1 [00:00<00:00,  1.53it/s]\n"
     ]
    },
    {
     "name": "stdout",
     "output_type": "stream",
     "text": [
      "computing greedy matching.\n"
     ]
    },
    {
     "name": "stderr",
     "output_type": "stream",
     "text": [
      "100%|██████████| 1/1 [00:00<00:00, 124.99it/s]\n"
     ]
    },
    {
     "name": "stdout",
     "output_type": "stream",
     "text": [
      "done in 0.67 seconds, 1.49 sentences/sec\n",
      "Jamaal Champlin is a 76-year-old Caucasian male who on October 10, 2023, underwent a routine colonoscopy as part of a screening program for colorectal cancer. The procedure, performed by Dr. Sarah Williams, revealed no evidence of malignant neoplasm or polyps, with the quality of the bowel preparation being excellent and the mucosa appearing normal. He was found to be asymptomatic concerning colorectal disease, with vital signs within normal limits, including a blood pressure of 128/72 mmHg and a heart rate of 76 bpm. Post-procedure, he experienced minor symptoms such as mild bloating and gas, for which he was advised to monitor and report any severe symptoms or concerns. A follow-up appointment is scheduled in one year with his primary care physician, Dr. Michael Greene, and the next colonoscopy screening is recommended in ten years, assuming no symptoms or risk factor changes.\n",
      "**Medical Encounter Note**  **Date of Encounter:** October 10, 2023   **Patient Name:** Jamaal Champlin   **Date of Birth:** March 14, 1947   **Age:** 76   **Sex:** Male   **Ethnicity:** Caucasian   **Medical Record Number:** Champlin946  ---  **Reason for Visit:**   Screening for malignant neoplasm of colon  **Procedure Performed:**   Colonoscopy  **Attending Physician:**   Dr. Sarah Williams, Gastroenterology   Massachusetts General Hospital, Boston, MA  **Subjective:**   Mr. Jamaal Champlin presents to the clinic for a routine colonoscopy as part of a screening program for colorectal cancer. He reports no new or concerning symptoms such as abdominal pain, changes in bowel habits, or rectal bleeding. His health status has been stable since his last examination. Mr. Champlin does not have a personal or notable family history of colorectal cancer. He is compliant with regular screenings and follows a generally healthy diet.  **Objective:**   - **Vital Signs:**   - Blood Pressure: 128/72 mmHg   - Heart Rate: 76 bpm   - Respiratory Rate: 16 breaths/min   - Temperature: 98.6°F   - Weight: 175 lbs   - Height: 5'10\"  - **Physical Examination:**   - General: Patient is alert, oriented, and in no acute distress.   - Abdominal Exam: Soft, non-tender, no organomegaly. Bowel sounds present.  **Procedure Details:**   The colonoscopy was performed under moderate sedation with midazolam and fentanyl. The colonoscope was advanced to the cecum. The quality of the bowel preparation was excellent. No polyps or other abnormalities were detected throughout the visualized colon. Biopsies were not taken as the mucosa appeared normal.  **Symptoms Potentially Associated with Procedure:** The patient reports minor and expected post-procedural symptoms such as mild bloating and gas, which he has been advised are common and typically resolve within 1-2 days. No severe cramping, fever, or rectal bleeding has been reported since the procedure.  **Assessment:**   Routine colonoscopy completed with no evidence of malignant neoplasm or polyps. Screening is consistent with normal findings. The patient remains asymptomatic concerning colorectal disease.  **Plan:**   1. Reinforce current preventive health measures, including dietary recommendations and regular exercise. 2. Next colonoscopy screening recommended in ten years, assuming no symptoms or risk factor changes. 3. Instruct the patient to monitor for any new gastrointestinal symptoms and report them immediately. 4. Provide patient education on recognizing symptoms that would warrant earlier investigation, such as new-onset abdominal pain or changes in bowel habits. 5. Follow up with the primary care physician, Dr. Michael Greene, in 1 year for an annual wellness exam.  **Counseling Provided:**   Discussed the findings and typical course post-procedure with the patient. Provided reassurance about the normal results and instructed to seek medical attention if experiencing severe symptoms or concerns.  **Patient Understanding and Compliance:**   Mr. Champlin verbalized an understanding of the information provided and agreed with the plan.  **Signatures:**  __________________________   Dr. Sarah Williams, MD   Gastroenterologist  __________________________   Jamaal Champlin   Patient  **Next Appointment:**   October 10, 2024 - Annual wellness exam with Dr. Michael Greene.\n",
      "calculating scores...\n",
      "computing bert embedding.\n"
     ]
    },
    {
     "name": "stderr",
     "output_type": "stream",
     "text": [
      "100%|██████████| 1/1 [00:00<00:00,  1.47it/s]\n"
     ]
    },
    {
     "name": "stdout",
     "output_type": "stream",
     "text": [
      "computing greedy matching.\n"
     ]
    },
    {
     "name": "stderr",
     "output_type": "stream",
     "text": [
      "100%|██████████| 1/1 [00:00<00:00, 166.75it/s]\n"
     ]
    },
    {
     "name": "stdout",
     "output_type": "stream",
     "text": [
      "done in 0.69 seconds, 1.44 sentences/sec\n",
      "Jamaal Champlin is a 74-year-old white male who on October 16, 2023, presented with symptoms suggestive of acute bronchitis, including a persistent cough with yellowish sputum, chest discomfort, shortness of breath, wheezing, and mild fever. He has a past medical history of hypertension and hyperlipidemia, for which he takes Lisinopril 10 mg daily and Atorvastatin 20 mg daily. Jamaal was diagnosed with likely viral acute bronchitis and was prescribed Acetaminophen 325 mg to manage fever and discomfort, with instructions to take 1 tablet every 4 to 6 hours as needed. He was advised supportive care, including increased fluid intake, rest, and use of a humidifier, and was scheduled for a routine follow-up in one week or sooner if symptoms do not improve. Jamaal was educated on recognizing signs of complications and the importance of seeking immediate care if symptoms worsen.\n",
      "**Medical Note**  **Patient Name:** Jamaal Champlin   **Date of Birth:** March 20, 1949   **Date of Encounter:** October 16, 2023   **Location:** Green Valley Medical Center, 2345 Elm Street, Springfield, IL   **Attending Physician:** Dr. Emily Harris  ---  **Reason for Visit:**   Jamaal Champlin, a 74-year-old white male, presented for evaluation and management of symptoms suggestive of acute bronchitis.  **History of Present Illness:**   The patient reports a persistent cough for the past week, which has worsened. The cough is productive with yellowish sputum. He also describes associated symptoms of chest discomfort, shortness of breath, wheezing, and mild fever, which began approximately five days ago. The patient denies any hemoptysis.  **Past Medical History:**   - Hypertension   - Hyperlipidemia    **Medications:**   - Lisinopril 10 mg daily   - Atorvastatin 20 mg daily  **Allergies:**   - Penicillin (rash)  **Examination:**   - **Vital Signs:** Temperature 100.2°F, Heart Rate 84 bpm, Respiratory Rate 18 breaths per minute, Blood Pressure 128/76 mmHg, SpO2 95% on room air.   - **Chest Examination:** Diffuse wheezing noted on auscultation. Mild bilateral rhonchi with increased respiratory effort. No crackles or signs of consolidation.    **Investigations:**   - **Sputum Examination:** Conducted to rule out any bacterial infection and further analyze the quality and characteristics of the sputum.  **Assessment:**   Acute bronchitis likely viral in origin given the self-limiting nature and symptom profile. The patient is afebrile with non-alarming examination findings.  **Plan:**   - **Medication:** Prescribed Acetaminophen 325 mg Oral Tablet to manage fever and discomfort:   - **Instructions for Acetaminophen:**      - Take 1 tablet every 4 to 6 hours as needed for fever or pain.      - Do not exceed 10 tablets (3250 mg) in 24 hours to avoid the risk of liver damage. - **Supportive Care:**   - Increase fluid intake to help thin mucus secretions.   - Rest as needed and avoid strenuous activities.   - Utilize a humidifier in the room to ease breathing discomfort. - **Follow-up:**    - Return to clinic or seek immediate care if symptoms worsen, especially if experiencing high fever, difficulty breathing or chest pain.   - Routine follow-up in 1 week or sooner if symptoms do not improve.  **Patient Education:**   Discussed the self-limiting nature of acute bronchitis and the primary focus on symptomatic relief. Educated about recognizing signs of complications or worsening conditions that warrant immediate care.  **Disposition:**   Patient discharged with instructions and advised to heed the recommended follow-up care plan.  ---  **Signed:**   Dr. Emily Harris, MD   Green Valley Medical Center   Contact: (555) 123-4567\n",
      "calculating scores...\n",
      "computing bert embedding.\n"
     ]
    },
    {
     "name": "stderr",
     "output_type": "stream",
     "text": [
      "100%|██████████| 1/1 [00:00<00:00,  1.60it/s]\n"
     ]
    },
    {
     "name": "stdout",
     "output_type": "stream",
     "text": [
      "computing greedy matching.\n"
     ]
    },
    {
     "name": "stderr",
     "output_type": "stream",
     "text": [
      "100%|██████████| 1/1 [00:00<00:00, 125.01it/s]\n"
     ]
    },
    {
     "name": "stdout",
     "output_type": "stream",
     "text": [
      "done in 0.64 seconds, 1.56 sentences/sec\n",
      "Jamaal Champlin is a 73-year-old White male who on October 18, 2023, presented for a routine dental check-up at the Maplewood Dental Clinic, primarily concerned with managing his gingivitis. He reported symptoms including bleeding gums, occasional tenderness, slight swelling, and redness, but denied major pain or loose teeth. An oral examination revealed gingival inflammation, supragingival and subgingival plaque, and calculus on all teeth, with signs of gingival recession in several areas. Jamaal was diagnosed with chronic gingivitis and advised to continue regular dental check-ups every 6 months, reinforce daily oral hygiene habits, and use an antiseptic mouth rinse to reduce oral bacteria. He was also instructed to monitor his symptoms and schedule follow-up appointments if they worsen, with the goal of preventing the progression to periodontal disease.\n",
      "**Medical Note**  **Patient Name:** Jamaal Champlin   **Date of Birth:** March 14, 1950   **Encounter Date:** October 18, 2023   **Age:** 73 years   **Gender:** Male   **Ethnicity:** White    **Encounter Location:** Maplewood Dental Clinic, Maplewood, NJ    **Chief Complaint:** Routine check-up for gingivitis    **Subjective:**   The patient, Jamaal Champlin, presented for a routine dental check-up with a primary concern of managing his gingivitis. He reported experiencing symptoms, including bleeding gums while brushing and occasional gum tenderness. He mentioned slight swelling and redness in the gums but denied any major pain or loose teeth. Jamaal is currently compliant with his dental care routine but seeks professional reinforcement to manage his condition effectively.    **Objective:**   - **Examination:**     - Oral examination revealed gingival inflammation characterized by redness and swelling, particularly around the molars.     - Supragingival and subgingival plaque and calculus were observed on all teeth.   - **Procedures Performed:**     - Removal of supragingival plaque and calculus from all teeth using dental instruments.     - Removal of subgingival plaque and calculus using dental instruments.     - Examination of gingivae: Noted signs of gingival recession in several areas.     - Oral health education provided to reinforce the importance of maintaining good oral hygiene practices to prevent the progression of gingivitis.    **Assessment:**   Chronic gingivitis, characterized by consistent plaque accumulation leading to gum inflammation. The symptoms presented increase the risk of progression to periodontal disease if not managed effectively.  **Plan:**   1. Continue with regular dental check-ups every 6 months.   2. Reinforce daily oral hygiene habits: regular brushing with fluoride toothpaste twice daily and flossing once daily.   3. Recommend the use of an antiseptic mouth rinse to help reduce oral bacteria.   4. Monitor progression by scheduling follow-up appointments if symptoms like gum bleeding worsen or other signs such as loose teeth develop.    **Discussion:**   Discussed with Jamaal the importance of adhering to the recommended oral hygiene regimen and attending follow-up appointments to manage his gingivitis effectively and prevent further dental issues. He verbalized understanding and expressed willingness to comply with the dental care plan.  **Signature:**   Dr. Sandra Hayes, DDS   Maplewood Dental Clinic   (555) 234-5678\n",
      "calculating scores...\n",
      "computing bert embedding.\n"
     ]
    },
    {
     "name": "stderr",
     "output_type": "stream",
     "text": [
      "100%|██████████| 1/1 [00:00<00:00,  1.60it/s]\n"
     ]
    },
    {
     "name": "stdout",
     "output_type": "stream",
     "text": [
      "computing greedy matching.\n"
     ]
    },
    {
     "name": "stderr",
     "output_type": "stream",
     "text": [
      "100%|██████████| 1/1 [00:00<00:00, 166.95it/s]\n"
     ]
    },
    {
     "name": "stdout",
     "output_type": "stream",
     "text": [
      "done in 0.64 seconds, 1.57 sentences/sec\n",
      "Mariano Gilberto Moreno, a 35-year-old male, presented on October 15, 2023, with symptoms of acute sinusitis, including nasal congestion, facial pain and pressure, headache, reduced sense of smell, and purulent postnasal drip. He also reported mild fever and fatigue, with symptoms persisting despite over-the-counter decongestants. Mariano has a history of seasonal allergies, for which he takes loratadine 10 mg once daily, and has no known drug allergies. He was diagnosed with acute sinusitis and prescribed amoxicillin 500 mg orally three times daily for 10 days, in addition to recommending sinus rinses with saline nasal spray, humidifier use, and increased fluid intake. A follow-up visit is scheduled in two weeks, with instructions to return sooner if symptoms worsen, and he was advised to complete the antibiotic course and seek immediate care if symptoms of potential complications arise.\n",
      "**Patient Name:** Mariano Gilberto Moreno   **Date of Birth:** 07/12/1988   **Age:** 35   **Gender:** Male   **Date of Encounter:** October 15, 2023   **Location:** Lakeside Family Health Center   **Attending Physician:** Dr. Laura Thompson, MD    **Chief Complaint:**   The patient presents with symptoms consistent with sinusitis.  **History of Present Illness:**   Mariano Gilberto Moreno, a 35-year-old male, reports experiencing symptoms suggestive of sinusitis for the past 7 days. He complains of nasal congestion, facial pain and pressure, particularly around the cheeks and forehead, and a persistent headache. He also notes a reduced sense of smell and a purulent postnasal drip that has led to a sore throat. The patient reports mild fever and fatigue over the past few days. Symptoms have not improved with over-the-counter decongestants.  **Past Medical History:**   - Seasonal allergies   - No history of sinus infections  **Medications:**   - Loratadine 10 mg once daily for allergies  **Allergies:**   - No known drug allergies  **Social History:**   - Non-smoker   - Social alcohol use   - Works as an IT consultant  **Family History:**   - Father: Hypertension   - Mother: Asthma  **Review of Systems:**   - **Constitutional:** Reports mild fever and fatigue.   - **ENT:** Nasal congestion, purulent nasal discharge, facial pain, and pressure. Reduced sense of smell.   - **Respiratory:** Occasional cough due to postnasal drip. Denies wheezing or shortness of breath.   - **Other systems:** Negative except as noted above.  **Physical Examination:**   - **Vital Signs:** Temp: 99.1°F; BP: 122/78 mmHg; HR: 76 bpm; RR: 16 breaths/min.   - **General:** In no acute distress.   - **HEENT:** Mucosal edema and erythema noted in nasal passages, purulent discharge. Tenderness upon palpation of the maxillary and frontal sinuses. Oropharynx is mildly erythematous.   - **Lungs:** Clear to auscultation bilaterally, no wheezes, rales, or rhonchi.   - **Cardiovascular:** Regular rate and rhythm, no murmurs.  **Assessment/Plan:**   1. Acute Sinusitis      - Continue with loratadine for allergy control.      - Start a course of amoxicillin 500 mg orally three times daily for 10 days.      - Recommend sinus rinses using saline nasal spray twice daily.      - Advise to use a humidifier at home and increase fluid intake.      - Follow-up if symptoms persist or worsen after 72 hours.  **Instructions:**   - Discussed the importance of completing the antibiotic course.   - Reviewed the symptoms of potential complications, such as worsening headache, high fever, or visual changes, and advised seeking immediate care if these occur.   - Patient was encouraged to rest and maintain hydration.  **Follow-Up:**   Scheduled a follow-up visit in two weeks or sooner if symptoms worsen.    **Provider Signature:**   Laura Thompson, MD    **Date:** October 15, 2023\n",
      "calculating scores...\n",
      "computing bert embedding.\n"
     ]
    },
    {
     "name": "stderr",
     "output_type": "stream",
     "text": [
      "100%|██████████| 1/1 [00:00<00:00,  1.73it/s]\n"
     ]
    },
    {
     "name": "stdout",
     "output_type": "stream",
     "text": [
      "computing greedy matching.\n"
     ]
    },
    {
     "name": "stderr",
     "output_type": "stream",
     "text": [
      "100%|██████████| 1/1 [00:00<00:00, 250.09it/s]\n"
     ]
    },
    {
     "name": "stdout",
     "output_type": "stream",
     "text": [
      "done in 0.59 seconds, 1.69 sentences/sec\n",
      "Mariano Gilberto Moreno is a 61-year-old White male who presented on October 18, 2023, with ongoing issues related to opioid abuse, which began after back surgery and has increasingly become problematic over the past year. He has a history of chronic back pain, hypertension, and is currently misusing Oxycodone, while also taking Lisinopril 10 mg once daily. Mr. Moreno exhibits symptoms of opioid dependency, including anxiety, irritability, and difficulty controlling his use, despite negative effects on his life. He was diagnosed with opioid abuse and initiated on oral Naltrexone, with a referral to an Addiction Specialist and scheduled follow-up in two weeks to reassess symptoms and treatment adherence. A follow-up appointment is scheduled for November 1, 2023, to monitor his progress and adjust his treatment plan as needed.\n",
      "**Medical Note**  **Patient Name:** Mariano Gilberto Moreno   **Medical Record Number:** 76171282   **Date of Birth:** February 6, 1962   **Date of Encounter:** October 18, 2023   **Age:** 61   **Gender:** Male   **Ethnicity/Race:** White    **Encounter Type:** Outpatient visit regarding Opioid Abuse    **Chief Complaint:**   Mr. Moreno presents today to discuss ongoing issues with opioid use.  **History of Present Illness:**   Mariano Moreno is a 61-year-old male with a history suggestive of opioid abuse who presents for evaluation and management. He reports that he began using prescription opioids several years ago after a back surgery, but his use has increasingly become problematic over the past year. Mr. Moreno indicates taking higher doses than prescribed to manage pain and noted an increased frequency in usage to prevent withdrawal symptoms. He acknowledges feelings of anxiety and irritability when unable to use and has experienced periods of confusion and memory lapses, which he attributes to his opioid usage.  He describes experiencing a strong craving for opioids and reports difficulty in controlling his use despite negative effects on his personal and professional life. Mr. Moreno admits to attempting to reduce his use on several occasions, but these attempts have been unsuccessful.  **Past Medical History:**   - Chronic back pain post-surgery   - Hypertension    **Medications:**   - Lisinopril 10 mg once daily   - Oxycodone as needed for pain (currently misusing)    **Allergies:**   - No known drug allergies    **Social History:**   - Employment: Retired mechanic   - Marital status: Widowed   - Tobacco: Former smoker, quit 10 years ago   - Alcohol: Social use, approximately 1-2 drinks per week   - Recreational drugs: Reports misuse of prescription opioids    **Family History:**   - Father: Deceased, heart disease   - Mother: Alive, hypertension    **Review of Systems:**   - **General:** Unintentional weight loss reported over the last few months   - **Neurologic:** Episodes of confusion   - **Psychiatric:** Anxiety, irritability, sleep disturbances    **Physical Examination:**   - **Vital Signs:** BP 138/85, HR 78 bpm, RR 16, Temp 98.6°F   - **General Appearance:** Appears older than stated age, anxious and restless   - **HEENT:** Pupils normal in size, reactive to light   - **Cardiovascular:** Regular rate and rhythm   - **Respiratory:** Clear to auscultation bilaterally   - **Abdomen:** Soft, non-tender   - **Neurologic:** Alert and oriented to person and place, but occasionally misplaces items during conversation    **Assessment:**   - Opioid abuse characterized by misuse of prescription opioids, dependency symptoms, social and occupational impairment, and unsuccessful attempts to reduce use.  **Plan:**   1. Discussed the risks associated with continued opioid use, including potential for overdose.   2. Referral to Addiction Specialist Dr. Emily Conrad at Springfield Recovery Center for comprehensive evaluation and treatment planning.   3. Initiated oral Naltrexone for opioid use disorder management.   4. Scheduled follow-up appointment in 2 weeks to reassess symptoms and adherence to treatment plan.   5. Provided information on local support groups, including Narcotics Anonymous meetings at the Springfield Community Center.  **Provider:**   Dr. Sarah Bennett, MD   Springfield Family Health Clinic   2450 Main Street, Springfield, USA.    **Next Appointment:**   Scheduled for November 1, 2023, at 10:00 AM.   **Signature:**   Dr. Sarah Bennett, MD   [Signature]   [Date]\n",
      "calculating scores...\n",
      "computing bert embedding.\n"
     ]
    },
    {
     "name": "stderr",
     "output_type": "stream",
     "text": [
      "100%|██████████| 1/1 [00:00<00:00,  1.68it/s]\n"
     ]
    },
    {
     "name": "stdout",
     "output_type": "stream",
     "text": [
      "computing greedy matching.\n"
     ]
    },
    {
     "name": "stderr",
     "output_type": "stream",
     "text": [
      "100%|██████████| 1/1 [00:00<00:00, 199.94it/s]\n"
     ]
    },
    {
     "name": "stdout",
     "output_type": "stream",
     "text": [
      "done in 0.61 seconds, 1.64 sentences/sec\n",
      "Mariano Gilberto Moreno, a 62-year-old male, presented at the Manhattan Dental Clinic on October 12, 2023, for a routine dental check-up and follow-up on referral for dental care procedures. He reported experiencing occasional gum discomfort and sensitivity, particularly with hot or cold beverages, along with light gum bleeding when brushing his teeth. Mariano was diagnosed with gingivitis associated with plaque and calculus build-up, but no acute dental caries or signs of periodontal disease were evident on x-ray examination. He underwent a comprehensive cleaning, including removal of supragingival and subgingival plaque and calculus, and was advised to use a soft-bristled toothbrush and desensitizing toothpaste to alleviate sensitivity. Mariano is scheduled for a follow-up appointment in six months to monitor his oral health and prevent potential periodontal issues, with instructions to return sooner if symptoms persist or worsen.\n",
      "**Medical Note**  **Patient Name:** Mariano Gilberto Moreno   **Date of Birth:** June 27, 1961   **Encounter Date:** October 12, 2023   **Primary Care Physician:** Dr. Emily Johnson   **Dentist:** Dr. Rachel Lee   **Location:** Manhattan Dental Clinic, New York, NY    **Reason for Visit:**   Routine check-up and follow-up for referral for dental care procedures.  **Procedures Performed:**   - Dental consultation and report   - Dental care regime/therapy   - Removal of supragingival plaque and calculus using dental instruments   - Removal of subgingival plaque and calculus using dental instruments   - Dental plain x-ray (bitewing)   - Examination of gingivae   - Oral health education    **Subjective:**   Mariano, a 62-year-old male, presents for a routine dental check-up following a referral from his primary care physician. He reports experiencing occasional discomfort and sensitivity around the gums, particularly when consuming hot or cold beverages. He has noticed some light gum bleeding when brushing his teeth, which prompted his PCP to recommend a dental evaluation. Mariano has no significant pain but desires to improve his overall oral hygiene and health.  **Objective:**   - **Vital Signs:** Within normal limits   - **Oral Examination:** Mild gingival inflammation observed, particularly around the molar regions. Presence of supragingival and subgingival plaque and calculus. No overt dental caries detected on x-ray imaging. Bitewing x-ray shows no significant bone loss or decay.    **Assessment:**   - Gingivitis with associated plaque and calculus build-up.   - No acute dental caries or signs of periodontal disease evident on x-ray examination.    **Plan:**   1. Performed comprehensive cleaning, including the removal of supragingival and subgingival plaque and calculus. 2. Provided Mariano with detailed oral health education, reinforcing the importance of regular brushing, flossing, and dental check-ups. 3. Recommended switching to a soft-bristled toothbrush and desensitizing toothpaste to help with sensitivity and reduce irritation. 4. Advised follow-up dental check-ups every 6 months to monitor oral health and prevent potential periodontal issues.  **Follow-up:**   - Mariano is scheduled to return for a follow-up appointment in six months. He is also encouraged to schedule an appointment sooner should symptoms persist or worsen.  **Signature:**   Dr. Rachel Lee, DDS   Manhattan Dental Clinic   [Contact Information]    ---   **Note:** Mariano's current oral health symptoms, such as gum discomfort, sensitivity, and bleeding, may be indicative of underlying plaque build-up and gingivitis, which are being addressed through the current dental care regimen.\n",
      "calculating scores...\n",
      "computing bert embedding.\n"
     ]
    },
    {
     "name": "stderr",
     "output_type": "stream",
     "text": [
      "100%|██████████| 1/1 [00:00<00:00,  1.71it/s]\n"
     ]
    },
    {
     "name": "stdout",
     "output_type": "stream",
     "text": [
      "computing greedy matching.\n"
     ]
    },
    {
     "name": "stderr",
     "output_type": "stream",
     "text": [
      "100%|██████████| 1/1 [00:00<00:00, 199.94it/s]"
     ]
    },
    {
     "name": "stdout",
     "output_type": "stream",
     "text": [
      "done in 0.60 seconds, 1.67 sentences/sec\n"
     ]
    },
    {
     "name": "stderr",
     "output_type": "stream",
     "text": [
      "\n"
     ]
    },
    {
     "name": "stdout",
     "output_type": "stream",
     "text": [
      "Mariano Gilberto Moreno is a 63-year-old white male who presented on the encounter date for a routine dental check-up, primarily to manage his gingivitis. He reported experiencing occasional bleeding gums and mild tenderness, but denied any pain, swelling, or persistent bad breath. The oral examination revealed generalized gingival erythema, mild to moderate dental plaque accumulation, and bleeding on probing, indicating the presence of supragingival and subgingival calculus. He was diagnosed with gingivitis and treated with removal of plaque and calculus, dental fluoride treatment, and provided with comprehensive oral health education. Mariano was prescribed sodium fluoride 0.0272 MG/MG oral gel and advised to continue brushing twice daily with fluoride toothpaste, implement daily flossing, and return for follow-up cleaning every 3 to 4 months to manage his condition.\n",
      "**Medical Note**  **Patient Name:** Mariano Gilberto Moreno   **Date of Birth:** [Insert DOB]   **Medical Record Number:** [Insert MRN]   **Encounter Date:** [Insert Date]   **Location:** [Insert Clinic or Dental Office Name]   **Provider:** Dr. Emily Lawson, DDS  **Reason for Visit:**   Routine check-up for Gingivitis.  **Subjective:**   Mariano Moreno, a 63-year-old white male, presents today for a routine dental check-up with a primary concern of managing gingivitis. The patient reports experiencing occasional bleeding gums, particularly when brushing, and mild tenderness in the gums. He denies any pain, swelling, or persistent bad breath. The patient’s oral hygiene routine includes brushing twice daily and occasional flossing.  **Objective:**   - **Oral Examination:**     - Generalized gingival erythema noted.     - Mild to moderate accumulation of dental plaque present.     - Bleeding on probing observed in multiple quadrants.     - Examination indicates the presence of supragingival and subgingival calculus.     - Overall health of the dentition is fair.  **Assessment:**   Gingivitis with associated plaque and calculus accumulation.  **Plan:**    1. **Procedures Performed:**      - Removal of supragingival and subgingival plaque and calculus from all teeth using dental instruments.    - Dental fluoride treatment administered.    - Examination of the gingivae.    - Provided comprehensive oral health education.  2. **Prescriptions:**      - Sodium fluoride 0.0272 MG/MG Oral Gel:        - Instructions: Apply a small ribbon of the gel onto a toothbrush and brush thoroughly for at least one minute, preferably at bedtime after brushing teeth. Do not rinse mouth immediately after use to allow maximum fluoride retention.  3. **Dental Care Recommendations:**      - Continue brushing twice daily with fluoride toothpaste.    - Implement daily flossing to remove interdental plaque.    - Return for follow-up cleaning every 3 to 4 months to manage gingivitis and prevent progression to periodontitis.  4. **Education:**      - Discussed the importance of maintaining regular dental hygiene practices to manage gingivitis and prevent more severe periodontal disease.      - Educated on the signs and symptoms of worsening gum disease, such as increased bleeding, swelling, and persistent bad breath, and advised on when to seek further care.  **Follow-Up:**   Patient to return for a follow-up appointment in 3 months for reevaluation and cleaning. Contact the office if symptoms worsen or if there are any concerns.  **Entered by:**   [Medical Scribe's Name]   **Reviewed by:**   Dr. Emily Lawson, DDS  **Date of Entry:** [Insert Date]\n",
      "calculating scores...\n",
      "computing bert embedding.\n"
     ]
    },
    {
     "name": "stderr",
     "output_type": "stream",
     "text": [
      "100%|██████████| 1/1 [00:00<00:00,  1.80it/s]\n"
     ]
    },
    {
     "name": "stdout",
     "output_type": "stream",
     "text": [
      "computing greedy matching.\n"
     ]
    },
    {
     "name": "stderr",
     "output_type": "stream",
     "text": [
      "100%|██████████| 1/1 [00:00<00:00, 201.13it/s]\n"
     ]
    },
    {
     "name": "stdout",
     "output_type": "stream",
     "text": [
      "done in 0.57 seconds, 1.76 sentences/sec\n",
      "Mariano Gilberto Moreno is a 64-year-old male (White) who on October 10, 2023, presented for a routine dental check-up and preventative care. He has a history of periodontal disease, which has been stable with prior regular dental care, and currently takes sodium fluoride 0.0272 MG/MG oral gel. A comprehensive oral examination and dental cleaning were performed, revealing mild gingival recession but no significant inflammation or new pathology. He was advised to return to regular six-monthly check-ups to manage his periodontal health and was provided with a fluoride treatment and oral health education. A follow-up visit is scheduled in six months, with instructions to maintain proper oral hygiene and return sooner if any dental issues arise.\n",
      "**Medical Record Note**  **Patient Name:** Mariano Gilberto Moreno   **Date of Birth:** March 12, 1959   **Date of Visit:** October 10, 2023   **Patient ID:** M761G712M82   **Gender:** Male   **Ethnicity:** White   **Referring Physician:** Dr. Lisa Turner, DDS     **Location:** Parkside Family Dentistry, 123 Main Street, Springfield  ---  **Chief Complaint:**   Referred for a routine dental check-up and preventative dental care.  **History of Present Illness:**   Mariano Moreno, a 64-year-old male, was referred by Dr. Lisa Turner for a comprehensive dental check-up and preventative care. The patient reports no current dental pain or discomfort but has not had a dental exam in over a year due to the COVID-19 pandemic. The patient has a history of periodontal disease, which has been stable with prior regular dental care.  **Current Medications:**   - Sodium fluoride 0.0272 MG/MG Oral Gel  **Allergies:**   - No known drug allergies.  **Social History:**   - Non-smoker. - Moderate alcohol consumption, primarily during weekends.  **Physical Examination and Dental Procedures Performed:**   1. **Dental Consultation and Report:**    - Comprehensive oral examination conducted.    - Discussion regarding dental hygiene and maintenance of oral health.     2. **Dental Care:**    - Removal of supragingival and subgingival plaque and calculus from all teeth using dental instrumentation.    - Examination of the gingivae revealed no swelling or significant inflammation. Mild gingival recession noted in certain areas.     3. **Diagnostic Imaging:**    - Dental plain x-ray bitewing taken; reviewed for any underlying dental issues such as cavities or bone loss. No new pathology discovered.  4. **Preventative Treatment:**    - Application of dental fluoride treatment to strengthen enamel and prevent caries.    - Oral health education provided, emphasizing the importance of regular dental check-ups and proper oral hygiene practices.  **Assessment/Plan:**   - Patient demonstrates good overall oral health despite gaps in care. No immediate concerns but advised to return to regular six-monthly check-ups to manage periodontal health. - Discussed the potential symptoms of neglecting dental care, such as increased risk of cavities, gingivitis, and potential progression to periodontitis. - Provided thorough cleaning and fluoride treatment to bolster protective barriers against decay.  **Prescription and Usage Instructions:**   - **Sodium Fluoride 0.0272 MG/MG Oral Gel:**   - Apply the gel to teeth once daily, preferably at bedtime after brushing and flossing.   - Use a soft-bristled toothbrush to apply a small amount, spreading evenly across all surfaces of the teeth.   - Do not eat, drink, or rinse mouth for at least 30 minutes after application for optimal absorption.  **Follow-Up:**   - Schedule follow-up visit in six months or sooner if any dental issues arise. - Encourage maintenance of proper oral hygiene, including regular flossing and brushing.  **Signed:**   Dr. Emily Johnson, DDS   Parkside Family Dentistry   October 10, 2023\n",
      "calculating scores...\n",
      "computing bert embedding.\n"
     ]
    },
    {
     "name": "stderr",
     "output_type": "stream",
     "text": [
      "100%|██████████| 1/1 [00:00<00:00,  1.58it/s]\n"
     ]
    },
    {
     "name": "stdout",
     "output_type": "stream",
     "text": [
      "computing greedy matching.\n"
     ]
    },
    {
     "name": "stderr",
     "output_type": "stream",
     "text": [
      "100%|██████████| 1/1 [00:00<00:00, 142.75it/s]\n"
     ]
    },
    {
     "name": "stdout",
     "output_type": "stream",
     "text": [
      "done in 0.65 seconds, 1.55 sentences/sec\n",
      "Mariano Gilberto Moreno is a 65-year-old white male who was admitted to Serenity Hospice Care in New York on October 15, 2023, for management of chronic obstructive bronchitis. He has a significant medical history, including hypertension, hyperlipidemia, and type 2 diabetes mellitus, and is a past smoker with a 40-pack-year history. His current symptoms include persistent cough, dyspnea, wheezing, and fatigue, with signs of possible right-sided heart strain due to long-term hypoxia. He is receiving hospice care, which includes oxygen therapy, bronchodilators, corticosteroids, nutrition support, respiratory therapy, and regular pain and symptom management assessments, with the goal of enhancing comfort and minimizing symptoms. A follow-up plan is in place, with weekly evaluations by the hospice care team and additional appointments with his pulmonologist as needed to adjust his management plan.\n",
      "**Medical Note**  **Patient Name:** Mariano Gilberto Moreno   **Date of Birth:** 05/12/1958   **Date of Encounter:** 10/15/2023   **Location:** Serenity Hospice Care, New York, NY   **Attending Physician:** Dr. Rebecca Stone   **Referral Source:** Dr. James Anderson, Pulmonologist    ---  **Reason for Admission:**   Mr. Moreno is a 65-year-old white male admitted to hospice care for management of chronic obstructive bronchitis.  ---  **Medical History:**   **Primary Diagnosis:** Chronic Obstructive Bronchitis  **Relevant Medical History:** - Hypertension - Hyperlipidemia - Type 2 Diabetes Mellitus - Past smoker (quit 10 years ago after a 40-pack-year history)  ---  **Certification Procedure:**   A hospice certification was completed to verify eligibility for hospice care based on the progression and impact of chronic obstructive bronchitis on daily activities and overall health.  ---  **Symptoms Upon Admission:**   - Persistent cough with sputum production - Dyspnea on exertion and at rest - Wheezing - Frequent respiratory infections - Fatigue - Cyanosis of lips and fingertips - Swelling in lower extremities (suggestive of possible right-sided heart strain due to long-term hypoxia)  ---  **Initial Patient Assessment:**   Conducted a comprehensive assessment covering physical, psychological, social, and spiritual aspects. Current priority is enhancing comfort, minimizing symptoms, and supporting quality of life.  ---  **Development of Individualized Plan of Care:**   The care plan includes: - Oxygen therapy to maintain adequate oxygen saturation. - Medications, including bronchodilators and corticosteroids, to manage bronchospasms and inflammation. - Nutrition support managed by dietary services for optimal caloric intake given increased energy expenditure. - Respiratory therapy for clearance of secretions and optimization of breathing patterns. - Regular pain and symptom management assessments. - Periodic psychological counseling sessions to support emotional well-being. - Family meetings to provide education and encourage an active role in care.  ---  **Hospice Care Regime/Therapy:**   - Implemented twice-daily nebulizer treatments. - Daily administration of long-acting bronchodilator. - As-needed use of short-acting bronchodilator for breakthrough symptoms. - Weekly visits by a hospice nurse to monitor vitals, symptom management, and adjust medication dosages as needed. - Ongoing support from a hospice social worker and spiritual counselor.  ---  **Patient Discharge Procedure:**   Upon stabilization and at family's request, a discharge procedure was discussed, emphasizing continuity of palliative care at home with support from visiting hospice team members. Appropriate discharge planning will be revisited once assessed shares improvement or stabilization in symptoms.  **Follow-Up:**   Continued weekly evaluations by hospice care team. Additional appointments with Dr. James Anderson are scheduled as needed to adjust management plans.  **Plan:**   Continue current hospice care measures, reassess PRN. Encourage the family to advocate for any changes in symptoms or concerns.  **Signature:**   Dr. Rebecca Stone   Serenity Hospice Care\n",
      "calculating scores...\n",
      "computing bert embedding.\n"
     ]
    },
    {
     "name": "stderr",
     "output_type": "stream",
     "text": [
      "100%|██████████| 1/1 [00:00<00:00,  1.60it/s]\n"
     ]
    },
    {
     "name": "stdout",
     "output_type": "stream",
     "text": [
      "computing greedy matching.\n"
     ]
    },
    {
     "name": "stderr",
     "output_type": "stream",
     "text": [
      "100%|██████████| 1/1 [00:00<00:00, 200.10it/s]\n"
     ]
    },
    {
     "name": "stdout",
     "output_type": "stream",
     "text": [
      "done in 0.64 seconds, 1.57 sentences/sec\n",
      "Mariano Gilberto Moreno is a 65-year-old Caucasian male who on October 15, 2023, presented to the emergency department with an acute exacerbation of COPD, characterized by severe dyspnea, wheezing, and chest tightness. He has a history of COPD, hypertension, and opioid use disorder, for which he is on buprenorphine/naloxone maintenance therapy, and his current medications include albuterol, hydrochlorothiazide, lisinopril, amlodipine, and fluticasone propionate/salmeterol. He was treated with nebulized albuterol/ipratropium and showed significant improvement, and was discharged home with instructions to continue his maintenance medications, including the addition of oral corticosteroids (prednisone) for 5 days, and to follow up with a pulmonologist in 1 week. He is to return to the emergency department if his symptoms worsen.\n",
      "**Emergency Department Visit Note**  **Patient Name:** Mariano Gilberto Moreno   **Medical Record Number:** [Redacted]   **Date of Visit:** October 15, 2023   **Location:** City Hospital Emergency Department   **Attending Physician:** Dr. Emily Harrison    **Chief Complaint:**   Acute exacerbation of COPD with severe dyspnea and wheezing.  **History of Present Illness:**   Mr. Mariano Moreno, a 65-year-old Caucasian male, was brought to the emergency department by his daughter due to sudden onset of severe shortness of breath, wheezing, and chest tightness, which began approximately 2 hours prior to arrival. The patient reports increased difficulty in breathing over the last few days, which has progressively worsened, despite using his rescue inhaler. He denies any recent fever, chills, or chest pain. His daughter noticed he was struggling to complete sentences and appeared very anxious, prompting the visit.  **Past Medical History:**   - Chronic Obstructive Pulmonary Disease (COPD) - Hypertension - Opioid use disorder (on buprenorphine/naloxone maintenance therapy)  **Current Medications:**   - Albuterol 5 MG/ML Inhalation Solution - Hydrochlorothiazide 25 MG Oral Tablet - Buprenorphine 2 MG / Naloxone 0.5 MG Sublingual Tablet - Lisinopril 10 MG Oral Tablet - Amlodipine 2.5 MG Oral Tablet - Fluticasone propionate 0.25 MG/ACTUAT / Salmeterol 0.05 MG/ACTUAT Dry Powder Inhaler  **Allergies:**   No known drug allergies.  **Physical Examination:**   - **Vital Signs:** BP 150/90 mmHg, HR 112 bpm, RR 28 bpm, SpO2 88% on room air, Temp 98.6°F   - **General:** In moderate respiratory distress, using accessory muscles   - **HEENT:** No acute findings   - **Cardiovascular:** Tachycardic, regular rhythm, no murmurs   - **Respiratory:** Diffuse wheezing, decreased breath sounds bilaterally   - **Abdomen:** Soft, non-tender, non-distended   - **Neurological:** Alert and oriented to person, place, and time  **Diagnostic Studies:**   - Spirometry: Consistent with COPD, FEV1 significantly reduced   - Chest X-ray: Hyperinflation noted, no acute infiltrates   - ABG on room air: pH 7.35, pCO2 48 mmHg, pO2 55 mmHg  **Procedures:**   - Administered nebulized albuterol/ipratropium treatment with significant improvement in respiratory symptoms.  **Instructions for Medications:**   - **Albuterol 5 MG/ML Inhalation Solution:** Use via nebulizer every 4-6 hours as needed for shortness of breath.   - **Hydrochlorothiazide 25 MG Oral Tablet:** Take one tablet by mouth daily in the morning.   - **Buprenorphine 2 MG / Naloxone 0.5 MG Sublingual Tablet:** Take one tablet sublingually daily as directed.   - **Lisinopril 10 MG Oral Tablet:** Take one tablet by mouth daily.   - **Amlodipine 2.5 MG Oral Tablet:** Take one tablet by mouth daily.   - **Fluticasone propionate/Salmeterol Inhaler:** Use two inhalations twice daily, every morning and evening.  **Assessment and Plan:**   1. **Acute exacerbation of COPD:**      - Continue albuterol and ipratropium nebulizations every 4-6 hours as needed.      - Resume maintenance medications, including fluticasone/salmeterol inhaler.      - Start oral corticosteroids (prednisone) to reduce inflammation for 5 days.      - Follow up with Dr. Simon Andrews, Pulmonologist, in 1 week.  2. **Hypertension:**      - Continue lisinopril, amlodipine, and hydrochlorothiazide as prescribed.    3. **Opioid use disorder:**      - Continue buprenorphine/naloxone therapy as prescribed.    **Disposition:**   The patient is stable post-treatment and is discharged home with close outpatient follow-up arranged. He will return to the emergency department if symptoms worsen.  **Signature:**   Dr. Emily Harrison   Emergency Medicine Attending\n",
      "calculating scores...\n",
      "computing bert embedding.\n"
     ]
    },
    {
     "name": "stderr",
     "output_type": "stream",
     "text": [
      "100%|██████████| 1/1 [00:00<00:00,  1.58it/s]\n"
     ]
    },
    {
     "name": "stdout",
     "output_type": "stream",
     "text": [
      "computing greedy matching.\n"
     ]
    },
    {
     "name": "stderr",
     "output_type": "stream",
     "text": [
      "100%|██████████| 1/1 [00:00<00:00, 166.49it/s]\n"
     ]
    },
    {
     "name": "stdout",
     "output_type": "stream",
     "text": [
      "done in 0.65 seconds, 1.54 sentences/sec\n",
      "Mariano Gilberto Moreno is a 66-year-old White male who on October 12, 2023, presented for a routine dental check-up and comprehensive care, reporting concerns over occasional gum bleeding and sensitivity in his lower molars. A comprehensive dental examination revealed notable buildup of plaque and calculus, mild gingivitis, and sensitivity, but no significant underlying issues such as decay or bone loss were found on X-ray. He was advised to implement a comprehensive oral hygiene regimen, including regular brushing, flossing, and use of an antiseptic mouthwash, and to consider desensitizing toothpaste for sensitivity. Mr. Moreno was also scheduled for a follow-up visit in six months, with instructions to seek dental care promptly if symptoms worsen. He was provided with oral health education to improve his knowledge of personal dental care and instructed on proper dental care techniques to alleviate his symptoms.\n",
      "**Medical Note**  **Patient:** Mariano Gilberto Moreno   **DOB:** 02/08/1957   **Age:** 66 years   **Ethnicity:** White   **Encounter Date:** 10/12/2023   **Location:** Smithville Dental Clinic   **Referring Physician:** Dr. Emily Collins, Primary Care  **Chief Complaint:**   Routine check-up and patient referral for comprehensive dental care.  **History of Present Illness:**   Mr. Moreno was referred by his primary care physician, Dr. Emily Collins, for a dental consultation. The patient reported general concerns over his oral health, noting occasional gum bleeding during brushing and sensitivity in his lower molars.  **Procedures Performed:**   1. **Dental Consultation and Report:** Comprehensive examination conducted. 2. **Dental Care Regimen/Therapy:** Initiated for improved oral hygiene. 3. **Removal of Supragingival Plaque and Calculus:** Performed on all teeth using appropriate dental instruments. 4. **Removal of Subgingival Plaque and Calculus:** Performed on all teeth, focusing on areas with significant accumulation. 5. **Dental Plain X-ray Bitewing:** Taken to assess underlying structures and identify any issues not visible during the examination. 6. **Examination of Gingivae:** Conducted to assess the health of the gums and identify any signs of periodontal disease. 7. **Oral Health Education:** Provided to the patient to improve knowledge of personal dental care.  **Dental Examination Findings:**   - Notable buildup of plaque and calculus, particularly subgingivally. - Mild gingivitis observed, evidenced by gum inflammation and bleeding. - X-ray bitewing showed no significant underlying issues, such as decay or bone loss.  **Symptoms/Concerns Due to Dental Care Needs:**   - Occasional gum bleeding, indicative of potential gingivitis. - Sensitivity in lower molars, possibly due to enamel wear or gingival recession.  **Recommendations:**   - Implement a comprehensive oral hygiene regimen, including regular brushing with fluoride toothpaste, flossing, and use of an antiseptic mouthwash. - Schedule follow-up appointments for continued monitoring and maintenance cleaning. - Consider using desensitizing toothpaste to alleviate tooth sensitivity.  **Follow-Up:**   Mr. Moreno is scheduled for a follow-up visit in six months. He was advised to seek dental care promptly if symptoms worsen or new issues arise.  **Dentist Signature:**   Dr. Sarah Hanna, DDS   Smithville Dental Clinic    **Note Prepared by:**   Jordan Lee, Medical Scribe   Smithville Dental Clinic   10/12/2023\n",
      "calculating scores...\n",
      "computing bert embedding.\n"
     ]
    },
    {
     "name": "stderr",
     "output_type": "stream",
     "text": [
      "100%|██████████| 1/1 [00:00<00:00,  1.41it/s]\n"
     ]
    },
    {
     "name": "stdout",
     "output_type": "stream",
     "text": [
      "computing greedy matching.\n"
     ]
    },
    {
     "name": "stderr",
     "output_type": "stream",
     "text": [
      "100%|██████████| 1/1 [00:00<00:00, 166.75it/s]\n"
     ]
    },
    {
     "name": "stdout",
     "output_type": "stream",
     "text": [
      "done in 0.73 seconds, 1.37 sentences/sec\n",
      "Mariano Gilberto Moreno is a 67-year-old White male who was admitted to Mercy General Hospital on October 5, 2023, for treatment of COVID-19 infection, presenting with symptoms of shortness of breath, cough, fever, and general malaise. He has a past medical history of hypertension and type 2 diabetes mellitus, for which he takes Lisinopril 10 mg once daily and Metformin 500 mg twice daily. During his hospital stay, he was treated with Enoxaparin Sodium for thromboprophylaxis, Albuterol Metered Dose Inhaler for respiratory distress, and Acetaminophen for fever and body aches, and received oxygen therapy and prone positioning to improve oxygenation. He was discharged with instructions to continue monitoring his respiratory status and oxygenation, and to follow up with his primary care physician for further care and evaluation of his chronic conditions. His prognosis is guarded, dependent on his response to treatment and resolution of respiratory symptoms.\n",
      "**Medical Note**  **Patient Information:** Name: Mariano Gilberto Moreno   Date of Birth: 01/15/1956 (67 years old)    Race: White   Gender: Male   Date of Admission: 10/05/2023   Attending Physician: Dr. Sarah Thompson   Hospital: Mercy General Hospital    **Chief Complaint:** Admitted for isolation and treatment due to COVID-19 infection.  **History of Present Illness:** Mr. Moreno is a 67-year-old male who presented to the emergency department with symptoms consistent with COVID-19, including shortness of breath, cough, fever, and general malaise for the past 7 days. He tested positive for SARS-CoV-2 via a nasopharyngeal swab. Due to his respiratory symptoms and risk factors, he was admitted for further monitoring and treatment.  **Past Medical History:** - Hypertension - Type 2 Diabetes Mellitus  **Medications:** - Lisinopril 10 mg once daily - Metformin 500 mg twice daily  **Allergies:** - No known drug allergies  **Physical Examination:** - General: Alert but in respiratory distress. - Respiratory: Tachypneic with use of accessory muscles, bilateral crackles on auscultation. - Cardiovascular: Tachycardic, no murmurs. - Temperature: 101.3°F - Oxygen saturation: 89% on room air  **Labs and Imaging:** - Chest X-ray: Bilateral pulmonary infiltrates consistent with viral pneumonia. - CBC: Mild leukocytosis - CMP: Within normal limits  **Hospital Course and Treatment:** Mr. Moreno was started on the following treatment regimen:  1. **Enoxaparin Sodium**      - 0.4 mL (100 mg/mL) prefilled syringe subcutaneously twice daily for thromboprophylaxis.      - Instruction: Subcutaneous injection preferably in the abdomen, avoiding any scars or blemishes.  2. **Albuterol Metered Dose Inhaler**      - 0.09 mg per actuation, 2 inhalations every 4-6 hours as needed for respiratory distress.      - Instruction: Shake the inhaler well before use. Breathe out fully, bring the inhaler to the mouth, and start to breathe in slowly while pressing down on the inhaler. Hold breath for about 10 seconds, then exhale.  3. **Acetaminophen Oral Tablet**      - 500 mg every 6 hours as needed for fever and body aches.      - Instruction: Do not exceed 3,000 mg in a 24-hour period. Take with food if stomach upset occurs.  **Procedures:** - Oxygen administration via mask, titrated to maintain SpO2 > 92%. - Prone positioning was utilized to improve oxygenation.  **Discharge Plan:** - Continue monitoring respiratory status and oxygenation. - Education provided regarding medication administration and symptom monitoring. - Scheduled follow-up with primary care physician for further care and evaluation of chronic conditions.  **Prognosis:** Guarded, dependent on response to treatment and resolution of respiratory symptoms.  **Attending Physician:** Dr. Sarah Thompson, MD   Mercy General Hospital  **Prepared by:** [Your Name], Medical Scribe   Date: 10/06/2023\n",
      "calculating scores...\n",
      "computing bert embedding.\n"
     ]
    },
    {
     "name": "stderr",
     "output_type": "stream",
     "text": [
      "100%|██████████| 1/1 [00:00<00:00,  1.61it/s]\n"
     ]
    },
    {
     "name": "stdout",
     "output_type": "stream",
     "text": [
      "computing greedy matching.\n"
     ]
    },
    {
     "name": "stderr",
     "output_type": "stream",
     "text": [
      "100%|██████████| 1/1 [00:00<00:00, 142.82it/s]\n"
     ]
    },
    {
     "name": "stdout",
     "output_type": "stream",
     "text": [
      "done in 0.64 seconds, 1.57 sentences/sec\n",
      "Mariano Gilberto Moreno is a 70-year-old male (White) who on October 10, 2023, presented for a routine dental check-up, primarily focusing on managing his gingivitis. He reported symptoms including occasional gum bleeding, tenderness, mild swelling, and halitosis. A comprehensive dental examination and procedures, including the removal of supragingival and subgingival plaque and calculus, were performed, revealing mild erythema and edema consistent with gingivitis. Mariano was diagnosed with gingivitis and advised to continue and adhere to proper oral hygiene practices, including brushing twice daily and daily flossing, with recommendations for dietary modifications and regular dental check-ups every six months. A follow-up visit is scheduled for April 15, 2024, to evaluate the progression of his condition and provide maintenance therapy.\n",
      "**Medical Note**  **Patient Information:** - Name: Mariano Gilberto Moreno - Date of Birth: June 15, 1953 - Age: 70 - Gender: Male - Ethnicity: White  **Encounter Date:** October 10, 2023  **Location:** Parkview Dental Clinic, Springfield, IL  **Attending Dental Professional:** Dr. Laura Simon, DDS  **Chief Complaint:** Routine check-up and management of gingivitis.  **History of Present Illness:** Mariano Moreno presents to the clinic for a scheduled dental check-up, with a primary focus on gingivitis management. The patient reports occasional gum bleeding, particularly during tooth brushing, gum tenderness, and mild swelling. He also mentions experiencing slight halitosis.  **Procedures Performed:** 1. **Dental Consultation and Report:** Dr. Laura Simon conducted a comprehensive dental examination to assess the extent of gingival inflammation and oral hygiene status.     2. **Dental Care Regimen/Therapy:** Implementation of a structured dental care plan focusing on improving oral hygiene practices.      3. **Removal of Supragingival Plaque and Calculus:** Utilized dental instruments to meticulously remove supragingival plaque and calculus from all teeth to reduce irritation and inflammation.     4. **Removal of Subgingival Plaque and Calculus:** Subgingival scaling was performed to eliminate plaque and calculus beneath the gum line, aiming to prevent disease progression.     5. **Examination of Gingivae:** Close inspection of the gingival tissues revealed mild erythema and edema consistent with gingivitis, but no signs of ulceration or advanced periodontitis.     6. **Oral Health Education:** Provided thorough education on proper oral hygiene practices, including the correct technique for brushing and flossing, importance of routine dental visits, and dietary modifications to promote oral health.  **Assessment:** - Gingivitis, primarily marked by mild erythema, swelling, and bleeding gums during oral hygiene practices.  **Plan:** - Advise continuation and adherence to recommended oral hygiene practices, including brushing twice daily with a soft-bristled toothbrush and fluoride toothpaste, and daily flossing. - Recommend regular dental check-ups every six months or as advised based on the patient's condition. - Patient encouraged to reduce intake of sugary foods and beverages. - Follow-up visit scheduled for comprehensive periodontal evaluation in six months.  **Patient Education and Counseling:** Emphasized the importance of maintaining oral hygiene and monitoring any changes in symptoms. Discussed potential consequences of untreated gingivitis, including progression to periodontitis.  **Next Appointment:** Scheduled for April 15, 2024, for follow-up evaluation and maintenance therapy.  **Dr. Laura Simon, DDS**  ---  **Signature:** Dr. Laura Simon, DDS   Parkview Dental Clinic   Springfield, IL   License: IL12345   Date: October 10, 2023\n",
      "calculating scores...\n",
      "computing bert embedding.\n"
     ]
    },
    {
     "name": "stderr",
     "output_type": "stream",
     "text": [
      "100%|██████████| 1/1 [00:00<00:00,  1.65it/s]\n"
     ]
    },
    {
     "name": "stdout",
     "output_type": "stream",
     "text": [
      "computing greedy matching.\n"
     ]
    },
    {
     "name": "stderr",
     "output_type": "stream",
     "text": [
      "100%|██████████| 1/1 [00:00<00:00, 200.00it/s]\n"
     ]
    },
    {
     "name": "stdout",
     "output_type": "stream",
     "text": [
      "done in 0.62 seconds, 1.61 sentences/sec\n",
      "Mariano Gilberto Moreno is a 70-year-old White male who on October 15, 2023, presented with symptoms of viral sinusitis, including nasal congestion, post-nasal drip, facial pressure, sore throat, and a non-productive cough. He has a past medical history of hypertension and hyperlipidemia, for which he takes Lisinopril 20 mg and Atorvastatin 40 mg daily. Physical examination revealed inflamed nasal mucosa, tenderness over the maxillary sinuses, and pharyngeal erythema, with stable vital signs. He was diagnosed with viral sinusitis and prescribed Amoxicillin 250 MG / Clavulanate 125 MG Oral Tablet, one tablet every eight hours for ten days, in addition to supportive care measures such as saline nasal sprays, humidifier use, and hydration. A follow-up visit is scheduled in two weeks, or sooner if symptoms persist or worsen.\n",
      "**Medical Note**  **Patient Name:** Mariano Gilberto Moreno  **Medical Record Number:** 712-76-82  **Date of Birth:** March 12, 1953  **Age:** 70 years  **Gender:** Male  **Ethnicity:** White  **Date of Encounter:** October 15, 2023  **Provider:** Dr. Emily Ramirez, MD  **Location:** St. Joseph's Family Medicine Clinic, Dallas, TX  **Chief Complaint:** Symptoms associated with viral sinusitis.  **History of Present Illness:**  Mariano Moreno, a 70-year-old male, presented to the clinic with symptoms suggestive of viral sinusitis. He reports experiencing nasal congestion, a post-nasal drip, and facial pressure, particularly around the forehead and under the eyes, for the past week. Additionally, he mentions a sore throat and a persistent, non-productive cough. Initially, Mr. Moreno managed his symptoms with over-the-counter decongestants and saline nasal sprays, but observed little improvement.  **Past Medical History:**  - Hypertension - Hyperlipidemia  **Medications:**  - Lisinopril 20 mg, once daily - Atorvastatin 40 mg, once daily  **Allergies:** No known drug allergies.  **Physical Examination:**  - **General:** Alert and oriented, no acute distress. - **HEENT:** Nasal mucosa is inflamed and there is tenderness over the maxillary sinuses. Pharyngeal erythema noted. - **Lungs:** Clear to auscultation bilaterally with no wheezing, rhonchi, or crackles. - **Vital Signs:** Blood pressure 130/85 mmHg, pulse 78 bpm, respiratory rate 18/min, temperature 98.4°F.  **Assessment:** Viral sinusitis  **Plan:**  Due to the persistence of symptoms and lack of improvement using symptomatic treatments, the decision was made to initiate an antibiotic therapy to address the possibility of secondary bacterial infection.  **Prescription:**  - **Amoxicillin 250 MG / Clavulanate 125 MG Oral Tablet**   - Take one tablet by mouth every eight hours for ten days.    **Patient Instructions:**  - Continue using saline nasal sprays to help with nasal congestion. - Use a humidifier at home to ease breathing. - Stay hydrated by drinking plenty of fluids. - Rest as much as possible and avoid strenuous activities until symptoms improve. - Report any adverse reactions to the medication immediately, such as rash, difficulty breathing, or severe diarrhea. - Follow-up with Dr. Ramirez if symptoms do not improve within 7 to 10 days or worsen.  **Follow-Up:**  Scheduled follow-up visit in two weeks, or sooner if symptoms persist or worsen.  **Provider Signature:**  Dr. Emily Ramirez, MD   St. Joseph's Family Medicine Clinic\n",
      "calculating scores...\n",
      "computing bert embedding.\n"
     ]
    },
    {
     "name": "stderr",
     "output_type": "stream",
     "text": [
      "100%|██████████| 1/1 [00:00<00:00,  1.63it/s]\n"
     ]
    },
    {
     "name": "stdout",
     "output_type": "stream",
     "text": [
      "computing greedy matching.\n"
     ]
    },
    {
     "name": "stderr",
     "output_type": "stream",
     "text": [
      "100%|██████████| 1/1 [00:00<00:00, 199.91it/s]\n"
     ]
    },
    {
     "name": "stdout",
     "output_type": "stream",
     "text": [
      "done in 0.63 seconds, 1.59 sentences/sec\n",
      "Mariano Gilberto Moreno is a 70-year-old white male who on October 25, 2023, presented with symptoms of viral sinusitis, including nasal congestion, headache, rhinorrhea with clear to slightly yellow nasal discharge, and mild sore throat. He has a history of hypertension, well-controlled with Lisinopril 10 mg daily, and hyperlipidemia managed with Atorvastatin 20 mg daily. Physical examination revealed edematous nasal mucosa, moderate clear to yellowish discharge, and tenderness over bilateral frontal and maxillary sinuses, with vital signs showing a blood pressure of 128/82 mmHg and a temperature of 98.6 °F. He was advised to continue using saline nasal spray and an oral decongestant, and to use steam inhalation, humidification, and over-the-counter analgesics like acetaminophen for symptomatic relief. A follow-up was scheduled to reassess symptoms in 7-10 days, with instructions to return sooner if symptoms worsen or if red flags such as high fever, worsening facial pain, or visual disturbances occur.\n",
      "**Medical Encounter Note**  **Patient:** Mariano Gilberto Moreno   **DOB:** March 12, 1953   **Age:** 70   **Gender:** Male   **Date of Encounter:** October 25, 2023   **Location:** Green Valley Family Clinic   **Attending Physician:** Dr. Emily Richardson  **Chief Complaint:**   Nasal congestion and headache.  **History of Present Illness:**   Mariano Moreno is a 70-year-old white male who presents today with symptoms consistent with viral sinusitis. The patient reports experiencing nasal congestion for the past five days, accompanied by a persistent headache localized over the frontal sinuses. He also notes rhinorrhea with clear to slightly yellow nasal discharge, a mild sore throat, and occasional cough, which is exacerbated when lying down. Mariano denies fever, but mentions feeling fatigued and having occasional facial pressure. He has not experienced any changes in vision, ear pain, or significant nasal obstruction. Mariano tried over-the-counter medication, including a decongestant and saline nasal spray, with only minimal relief.  **Medical History:**   - Hypertension, well controlled with medication.   - Hyperlipidemia.   - No known allergies.  **Medications:**   - Lisinopril 10 mg daily.   - Atorvastatin 20 mg daily.  **Social History:**   - Mariano is a retired school teacher.   - Non-smoker, no alcohol use.   - Lives with his spouse in a residential neighborhood.  **Physical Examination:**    - **General Appearance:** Alert, oriented, appears fatigued.   - **Vital Signs:**     - BP: 128/82 mmHg     - HR: 78 bpm     - Temp: 98.6 °F     - RR: 16 breaths/min    - **HEENT:**     - Head: Normocephalic, atraumatic.     - Eyes: Conjunctivae clear, sclera anicteric.     - Ears: Tympanic membranes clear bilaterally.     - Nose: Edematous nasal mucosa with moderate clear to yellowish discharge.     - Throat: Mild erythema without tonsillar enlargement.     - Sinuses: Tenderness to palpation over bilateral frontal and maxillary sinuses.    - **Respiratory:** Clear to auscultation bilaterally, no wheezes, rales, or rhonchi.  - **Cardiovascular:** Regular rate and rhythm, no murmurs, rubs, or gallops.  **Assessment:**   1. Viral Sinusitis  **Plan:**   - Recommend continued use of saline nasal spray and an oral decongestant for symptomatic relief.   - Advise the use of steam inhalation or humidification of living space.   - Encourage increased fluid intake and rest.   - Educate on OTC analgesics like acetaminophen for headache relief.   - Follow up if symptoms worsen or if there is no improvement in 7-10 days.   - Discuss red flags such as high fever, worsening facial pain, or visual disturbances as reasons for immediate return to clinic or ED visit.    **Follow-Up:**   Instructed patient to return for reevaluation if there is no improvement in symptoms or sooner if there are worsening symptoms.  **Physician Signature:**   Emily Richardson, MD\n",
      "calculating scores...\n",
      "computing bert embedding.\n"
     ]
    },
    {
     "name": "stderr",
     "output_type": "stream",
     "text": [
      "100%|██████████| 1/1 [00:00<00:00,  1.58it/s]\n"
     ]
    },
    {
     "name": "stdout",
     "output_type": "stream",
     "text": [
      "computing greedy matching.\n"
     ]
    },
    {
     "name": "stderr",
     "output_type": "stream",
     "text": [
      "100%|██████████| 1/1 [00:00<00:00, 200.20it/s]\n"
     ]
    },
    {
     "name": "stdout",
     "output_type": "stream",
     "text": [
      "done in 0.65 seconds, 1.55 sentences/sec\n",
      "Milissa Tomi Stracke is a newborn (ethnicity not specified) who on October 10, 2023, was presented with symptoms indicative of Acute Otitis Media, including increased irritability, frequent crying, poor feeding, ear tugging, and trouble sleeping. She was diagnosed with Acute Otitis Media and prescribed Amoxicillin in a suspension form (dosage not specified but to be determined based on weight and pediatric guidelines) for 10 days, and Acetaminophen (likely in infant drops, dosage based on weight and age) as needed for fever and pain management. The parents were instructed to monitor for signs of allergic reactions and to complete the full course of antibiotics, with a follow-up scheduled in 10 days or sooner if symptoms persist or worsen. Milissa's treatment plan also includes keeping her hydrated and comfortable, with guidance provided on proper medication administration and encouragement to contact the office with any concerns.\n",
      "**Patient Name:** Milissa Tomi Stracke   **Date of Birth:** [Insert patient's birthdate]   **Date of Visit:** October 10, 2023   **Encounter Location:** Greenwood Family Medicine, Greenwood, IN   **Physician:** Dr. Emily Harper  ---  **Reason for Visit:**   Milissa Tomi Stracke, a newborn, was brought in by her parents for evaluation due to symptoms indicative of Otitis Media.   **Presenting Symptoms:**   - Increased irritability   - Frequent crying episodes   - Poor feeding   - Ear tugging or pulling   - Trouble sleeping    **Diagnosis:**    Acute Otitis Media  **Medications Prescribed:**    1. **Amoxicillin 500 MG Oral Tablet**      - **Dosage:** [Insert specific dosage instructions for a newborn which likely involves suspension form rather than tablets]    - **Instructions:** Typically, Amoxicillin is prescribed in suspension form for infants and young children. The physician should adjust the dose according to the child's weight and instructions should follow the pediatric guidelines.    - **Duration:** 10 days  2. **Acetaminophen 160 MG Chewable Tablet**      - **Dosage:** [Insert dosage suitable for an infant, possibly using a different formulation like infant drops]    - **Instructions:** The typical dosing for fever and pain management must align with the child’s weight and age.    - **Duration:** As needed for fever or pain.   **Additional Instructions:**   - Monitor Milissa for any signs of allergic reactions such as rash, swelling, or difficulty breathing and seek medical attention if any of these occur. - Ensure to complete the entire course of antibiotics even if symptoms improve to prevent recurrence or resistance. - Return for follow-up if symptoms do not improve in 48 to 72 hours, or if they worsen at any time. - Keep the infant hydrated and comfortable.   **Follow-Up:**   - Schedule a follow-up appointment in 10 days or sooner if symptoms persist or worsen.  **Notes:**   Dr. Harper discussed with the parents the nature of Otitis Media, its commonality in children, and the importance of medication adherence. Proper administration techniques for any liquid medications were demonstrated. Parents were encouraged to contact the office with any concerns or questions regarding the treatment plan.  ---  **Physician Signature:**   Dr. Emily Harper, MD   Greenwood Family Medicine\n",
      "calculating scores...\n",
      "computing bert embedding.\n"
     ]
    },
    {
     "name": "stderr",
     "output_type": "stream",
     "text": [
      "100%|██████████| 1/1 [00:00<00:00,  1.59it/s]\n"
     ]
    },
    {
     "name": "stdout",
     "output_type": "stream",
     "text": [
      "computing greedy matching.\n"
     ]
    },
    {
     "name": "stderr",
     "output_type": "stream",
     "text": [
      "100%|██████████| 1/1 [00:00<00:00, 166.65it/s]\n"
     ]
    },
    {
     "name": "stdout",
     "output_type": "stream",
     "text": [
      "done in 0.64 seconds, 1.55 sentences/sec\n",
      "Milissa Tomi Stracke is a 1-year-old female who on October 25, 2023, presented with symptoms suggestive of otitis media, including irritability, ear tugging, mild fever, and decreased appetite. Physical examination revealed erythema and a bulging tympanic membrane in the right ear, with slight erythema in the throat and nasal congestion. She was diagnosed with acute otitis media in the right ear and prescribed acetaminophen 160 mg every 4 to 6 hours as needed for fever and pain management. Milissa's parents were advised to monitor her temperature and behavior, with a follow-up appointment scheduled in 7 to 10 days or sooner if symptoms worsen. The parents were also educated on recognizing signs of worsening symptoms and encouraged to promote hydration and rest.\n",
      "**Medical Note**  **Patient Name:** Milissa Tomi Stracke   **DOB:** October 15, 2022   **Age:** 1 year   **Gender:** Female   **Date of Visit:** October 25, 2023   **Location:** Green Valley Pediatrics, 123 Elm Street, Springfield, IL 62701   **Physician:** Dr. Evelyn Wallace, MD    **Reason for Visit:**   Milissa presented with symptoms suggestive of otitis media.  **Subjective:**   Milissa's parents reported that she has been experiencing symptoms for the past three days, including irritability, crying more than usual, and disrupted sleep patterns. They also noticed Milissa tugging at her ear, which is commonly associated with ear discomfort. She has had a mild fever of approximately 101°F and decreased appetite. There are no reports of ear discharge.  **Objective:**   - **General Appearance:** Alert and responsive but appears mildly irritable. - **Vital Signs:** Temp: 99.8°F, HR: 120 bpm, RR: 28 breaths/min. - **HEENT Examination:**   - Ears: Right ear shows signs of erythema and bulging tympanic membrane. Left ear appears normal.   - Throat: Slight erythema, no tonsillar hypertrophy or exudate.   - Nose: Congestion present, with clear rhinorrhea.  **Assessment:**   Acute Otitis Media (Right Ear)  **Plan:**   1. **Medication:**      - Acetaminophen 160 mg Chewable Tablet    - Administer 1 tablet every 4 to 6 hours as needed for fever and pain. Do not exceed 5 doses (800 mg) in 24 hours.  2. **Monitoring and Follow-up:**      - Monitor temperature and general behavior changes.    - Schedule a follow-up appointment in 7 to 10 days or sooner if symptoms worsen or do not improve with treatment.  3. **Patient Education:**      - Educate parents on recognizing signs of worsening symptoms such as persistent high fever, vomiting, or ear discharge.    - Encourage hydration and rest.  4. **Referral/Additional Instructions:**      - If symptoms do not improve or if there is persistent discomfort, consider referral to an ENT specialist.  The parents were advised to contact the clinic if they have any concerns or questions regarding Milissa’s condition or the prescribed medication.  ---  **Provider Signature:**   Dr. Evelyn Wallace, MD   Green Valley Pediatrics  **Date Signed:** October 25, 2023\n",
      "calculating scores...\n",
      "computing bert embedding.\n"
     ]
    },
    {
     "name": "stderr",
     "output_type": "stream",
     "text": [
      "100%|██████████| 1/1 [00:00<00:00,  1.50it/s]\n"
     ]
    },
    {
     "name": "stdout",
     "output_type": "stream",
     "text": [
      "computing greedy matching.\n"
     ]
    },
    {
     "name": "stderr",
     "output_type": "stream",
     "text": [
      "100%|██████████| 1/1 [00:00<00:00, 166.61it/s]\n"
     ]
    },
    {
     "name": "stdout",
     "output_type": "stream",
     "text": [
      "done in 0.68 seconds, 1.47 sentences/sec\n",
      "Milissa Tomi Stracke is a 2-year-old female who was seen at Sunny Smiles Pediatric Dentistry on October 19, 2023, for a routine check-up and comprehensive dental care. She underwent a thorough dental examination, including removal of supragingival and subgingival plaque and calculus, and received a composite dental filling for a minor tooth fracture. Milissa's gums were found to be healthy with no significant issues detected. She was prescribed a tailored dental care regime, and her guardians received oral health education on proper brushing techniques and dietary recommendations to maintain her dental health at home. A follow-up appointment is scheduled for April 18, 2024, with instructions to maintain consistent oral hygiene practices and monitor for signs of dental pain or sensitivity.\n",
      "**Patient Name:** Milissa Tomi Stracke   **Age:** 2 years   **Gender:** Female   **Date of Encounter:** October 19, 2023   **Location:** Sunny Smiles Pediatric Dentistry, 1234 Maple Avenue, Springfield    **Attending Dental Specialist:** Dr. Sarah Johnson, DDS    **Reason for Visit:**   Routine check-up and referral for comprehensive dental care.  **Procedures Performed:**   1. **Dental Consultation and Report:** A full assessment of Milissa's oral health was conducted. This included a review of her dental history and examination of her teeth and oral structures. 2. **Dental Care Plan:** A tailored dental care regime was established to address Milissa's individual needs. 3. **Removal of Supragingival Plaque and Calculus:** Using specialized dental instruments, supragingival plaque and calculus were meticulously removed from all teeth to ensure optimal oral hygiene. 4. **Removal of Subgingival Plaque and Calculus:** Subgingival cleaning was performed to prevent periodontal issues and promote healthy gums. 5. **Examination of Gingivae:** The gingival tissues were examined for signs of inflammation or other abnormalities. Milissa's gums appeared healthy with no significant issues detected. 6. **Application of Composite Dental Filling Material:** A composite filling was applied to the dentin of one tooth following a minor fracture, ensuring restored functionality and appearance. 7. **Oral Health Education:** Provided guardians with education on maintaining Milissa's dental health at home, including proper brushing techniques and dietary recommendations.  **Symptoms/Concerns Addressed:**   - Potential tooth sensitivity due to plaque and calculus buildup, which can cause discomfort and increase the risk of dental caries. - The risk of gum inflammation, which can arise from plaque accumulation, was mitigated through thorough cleaning. - The dental filling addressed concerns of discomfort and potential future complications arising from the fractured tooth.  **Recommendations and Follow-Up:**   - Scheduled a follow-up appointment in six months for a routine check-up and cleaning. - Guardians are advised to maintain consistent oral hygiene practices and monitor Milissa for any signs of dental pain or sensitivity. - Encouraged a balanced diet low in sugar to support dental health.  **Notes:**   Milissa was cooperative throughout the procedures, and her guardians were actively involved in understanding her oral health needs. Dr. Johnson emphasized the importance of regular dental visits to ensure Milissa's continued dental health and development.  **Next Appointment:** April 18, 2024\n",
      "calculating scores...\n",
      "computing bert embedding.\n"
     ]
    },
    {
     "name": "stderr",
     "output_type": "stream",
     "text": [
      "100%|██████████| 1/1 [00:00<00:00,  1.62it/s]\n"
     ]
    },
    {
     "name": "stdout",
     "output_type": "stream",
     "text": [
      "computing greedy matching.\n"
     ]
    },
    {
     "name": "stderr",
     "output_type": "stream",
     "text": [
      "100%|██████████| 1/1 [00:00<00:00, 200.21it/s]\n"
     ]
    },
    {
     "name": "stdout",
     "output_type": "stream",
     "text": [
      "done in 0.63 seconds, 1.58 sentences/sec\n",
      "Milissa Tomi Stracke is a 5-year-old female who on November 5, 2023, underwent a routine dental check-up at Pediatric Dental Associates, Springfield. She presented with no significant dental issues or pain, and the examination revealed minor plaque and calculus, which were successfully removed. Milissa was prescribed Sodium Fluoride 0.0272 MG/MG Oral Gel to be applied twice daily to strengthen her enamel and prevent tooth decay. Her dental X-rays showed no cavities or significant dental issues, and she was found to be maintaining good oral health. A follow-up appointment is scheduled for May 5, 2024, with instructions to continue the prescribed fluoride gel regimen and adhere to oral hygiene education provided during the visit.\n",
      "**Patient Name:** Milissa Tomi Stracke   **DOB:** 06/14/2018   **Encounter Date:** 11/05/2023   **Location:** Pediatric Dental Associates, Springfield    **Chief Complaint:**   Referral for dental care and assessment.  **History of Present Illness:**   Milissa, a 5-year-old female, visited our clinic for a routine dental check-up following a referral. This encounter was scheduled to address routine dental hygiene and ensure overall oral health. The patient has not experienced any significant dental issues or pain recently.  **Dental Procedures Conducted:**   1. Dental consultation and comprehensive report. 2. Removal of supragingival and subgingival plaque and calculus from all teeth using manual dental instruments. 3. Examination of gingivae for any inflammation, bleeding, or abnormalities. 4. Dental plain X-ray bitewing to assess cavity development or bone structure anomalies. 5. Fluoride treatment to strengthen the enamel and prevent tooth decay. 6. Provided oral health education pertinent to age-appropriate dental hygiene practices.  **Medication Prescribed:**   - **Sodium Fluoride 0.0272 MG/MG Oral Gel**  **Instructions for Sodium Fluoride Use:**   - **Dosage:** Apply a thin ribbon of the gel on the toothbrush and brush the teeth thoroughly for at least 2 minutes. - **Frequency:** Use twice daily, preferably in the morning and before bedtime. - **Additional Instructions:** Ensure the patient does not eat or drink for at least 30 minutes post-application to allow the fluoride to be fully absorbed into the enamel. Educate caregivers about supervising the brushing to prevent ingestion.  **Assessment:**   Milissa had minor plaque and calculus, all of which were successfully removed during the appointment. Her gingival examination was unremarkable with no signs of gingivitis. The bitewing X-rays did not show any cavities or significant dental issues. Overall, Milissa is maintaining good oral health and the prescribed sodium fluoride gel will aid in the prevention of dental caries.  **Plan:**   - Continue with the prescribed fluoride gel regimen as instructed. - Encourage adherence to oral hygiene education provided during the visit. - Schedule follow-up in 6 months for routine dental check-up and fluoride treatment. - If any symptoms of dental discomfort arise, or if there is any resistance to dental care practices, schedule an earlier appointment.  **Follow-up Appointment:**   Next routine dental visit scheduled for 05/05/2024.  **Attending Dentist:**   Dr. Emily Harper, DDS   Pediatric Dental Associates, Springfield   Contact: (555) 987-6543    **Note:** Continued emphasis on proper brushing and flossing techniques is advised to maintain optimal dental health.\n",
      "calculating scores...\n",
      "computing bert embedding.\n"
     ]
    },
    {
     "name": "stderr",
     "output_type": "stream",
     "text": [
      "100%|██████████| 1/1 [00:00<00:00,  1.58it/s]\n"
     ]
    },
    {
     "name": "stdout",
     "output_type": "stream",
     "text": [
      "computing greedy matching.\n"
     ]
    },
    {
     "name": "stderr",
     "output_type": "stream",
     "text": [
      "100%|██████████| 1/1 [00:00<00:00, 333.60it/s]\n"
     ]
    },
    {
     "name": "stdout",
     "output_type": "stream",
     "text": [
      "done in 0.65 seconds, 1.55 sentences/sec\n",
      "Milissa Tomi Stracke, a 9-year-old female, presented at Pediatric Dental Associates on October 5, 2023, for a routine check-up and treatment of gingivitis. She complained of bleeding gums, occasional gum sensitivity, persistent bad breath, and reddened gums. Following a comprehensive oral examination, which revealed signs of gingivitis, including red and swollen gums with slight bleeding, Milissa underwent a series of dental procedures including plaque and calculus removal, gingivectomy, and dental fluoride treatment. She was prescribed sodium fluoride 0.0272 MG/MG oral gel to be applied once daily. Milissa was advised to maintain good oral hygiene through proper brushing and flossing techniques, with a follow-up scheduled in 6 months or sooner if symptoms worsen. Unfortunately, the ethnicity of the patient was not provided in the clinical note.\n",
      "**Patient Name:** Milissa Tomi Stracke   **Date of Birth:** October 12, 2014   **Date of Visit:** October 5, 2023   **Location:** Pediatric Dental Associates, 123 Main Street, Springfield  **Reason for Visit:** Routine check-up and treatment for gingivitis.  **Dentist:** Dr. Emily Carter, DDS  ---  **Subjective:**   Milissa, a 9-year-old female, was accompanied by her mother for a dental check-up due to gingivitis. The mother reports that Milissa has experienced bleeding gums when brushing and occasional gum sensitivity. Milissa has also noticed persistent bad breath and reddened gums.  **Objective:**   - **Vital Signs:** Within normal limits. - **Oral Examination:**    - Notable signs of gingivitis present, including erythematous (red) and edematous (swollen) gums.    - Slight bleeding noted upon probing.    - Accumulation of plaque and calculus was observed, both supragingivally and subgingivally.  **Procedures Performed:**   1. Dental consultation and comprehensive assessment. 2. Removal of supragingival plaque and calculus using dental instruments. 3. Removal of subgingival plaque and calculus using dental instruments. 4. Dental bitewing x-rays taken for further evaluation. 5. Examination of gingivae. 6. Gingivectomy performed on affected teeth to reshape and remove diseased tissue. 7. Application of desensitizing medicament to reduce sensitivity. 8. Postoperative care guidance provided, including managing discomfort and prevention of infection. 9. Dental fluoride treatment applied. 10. Oral health education provided, emphasizing proper brushing and flossing techniques.  **Assessment:**   Primary Diagnosis: Gingivitis  **Plan:**   - **Medication:** Sodium fluoride 0.0272 MG/MG Oral Gel prescribed.     **Instructions for Use:**       - Apply a small amount of gel to the toothbrush.     - Brush thoroughly for two minutes, focusing on all teeth and gum surfaces.     - Spit out gel, avoiding rinsing, eating, or drinking for 30 minutes post-application.     - Use once daily, preferably before bedtime.  - **Follow-Up:** Reevaluate in 6 months or sooner if symptoms worsen.  - **Education:** Discussed the importance of maintaining good oral hygiene and regular dental visits. Provided detailed instructions on brushing twice daily and flossing daily to remove plaque and prevent further gingival issues.  **Signature:**   Dr. Emily Carter, DDS   Pediatric Dental Associates\n",
      "calculating scores...\n",
      "computing bert embedding.\n"
     ]
    },
    {
     "name": "stderr",
     "output_type": "stream",
     "text": [
      "100%|██████████| 1/1 [00:00<00:00,  1.63it/s]\n"
     ]
    },
    {
     "name": "stdout",
     "output_type": "stream",
     "text": [
      "computing greedy matching.\n"
     ]
    },
    {
     "name": "stderr",
     "output_type": "stream",
     "text": [
      "100%|██████████| 1/1 [00:00<00:00, 250.14it/s]\n"
     ]
    },
    {
     "name": "stdout",
     "output_type": "stream",
     "text": [
      "done in 0.63 seconds, 1.59 sentences/sec\n",
      "Vaughn Garth O'Hara is a 9-year-old Asian male who presented on October 24, 2023, with a 48-hour history of abdominal pain that migrated from the umbilical region to the right lower quadrant, accompanied by nausea, vomiting, and a mild fever. He describes the pain as sharp and persistent, rating it 6 out of 10 in severity. Physical examination revealed tenderness in the right lower quadrant, positive guarding and rebound tenderness, and positive Rovsing's, psoas, and obturator signs, strongly suggesting appendicitis. Vaughn has been advised to undergo further evaluation by the Pediatric Surgery team, with orders for a complete blood count, C-reactive protein, urinalysis, and an urgent abdominal ultrasound. He will be kept NPO and administered IV fluids, with potential pre-operative antibiotics, until surgical assessment is completed.\n",
      "**Medical Note**  **Patient Name:** Vaughn Garth O'Hara   **Date of Birth:** 01/14/2014   **Age:** 9 years   **Gender:** Male   **Ethnicity:** Asian   **Date of Exam:** 10/24/2023   **Location:** Pediatric Clinic at Green Valley Medical Center   **Attending Physician:** Dr. Emily Tran  **Subjective:**  Vaughn O'Hara presents today with a primary complaint of abdominal pain, noted for approximately 48 hours. His mother reports that the pain began as a vague discomfort around the umbilical region but has since migrated to the right lower quadrant of the abdomen. Vaughn describes the pain as sharp and persistent, rating it as a 6 out of 10 in severity. He also reports nausea and has experienced two episodes of vomiting since yesterday afternoon. Vaughn has had a reduced appetite and has not been able to keep food down.  Additional symptoms include a mild fever, reaching up to 100.4°F (38°C), reported by the mother using an at-home thermometer. Vaughn also expresses difficulty walking due to increased pain, especially when moving or upon coughing.  **Past Medical History:** Unremarkable   **Medications:** None   **Allergies:** No known drug allergies  **Objective:**  - **Vital Signs:**   - Temperature: 100.2°F   - Heart Rate: 110 bpm   - Respiratory Rate: 20 breaths per minute   - Blood Pressure: 102/65 mmHg   - Oxygen Saturation: 98% on room air  - **Physical Examination:**   - General: Vaughn appears moderately ill and is lying still on the examination table.   - Abdominal Exam: Tenderness localized to the right lower quadrant; positive guarding and rebound tenderness. Rovsing's sign is positive. Psoas sign and Obturator sign are both positive.   - Other systems: Unremarkable  **Assessment:**  The presentation of abdominal pain that started near the umbilicus and shifted to the right lower quadrant, combined with nausea, vomiting, and fever, strongly suggests appendicitis. The clinical signs elicited during the physical examination further support this diagnosis.  **Plan:**  - Initiate referral to Pediatric Surgery for further evaluation and potential appendectomy. - Order complete blood count (CBC), C-reactive protein (CRP), and a urinalysis to support clinical findings. - Schedule an urgent abdominal ultrasound to evaluate for appendiceal inflammation. - Maintenance of NPO (nothing by mouth) status until further surgical assessment. - Administer IV fluids to maintain hydration and potentially pre-operative antibiotics as per surgical team’s requirements.  **Follow-Up:**  Vaughn will be monitored closely until evaluation by the surgical team. The clinical team will update the family regarding any changes in status or additional findings from imaging and laboratory studies.  **Electronic Signature:**  Dr. Emily Tran, MD   Pediatrician   Green Valley Medical Center\n",
      "calculating scores...\n",
      "computing bert embedding.\n"
     ]
    },
    {
     "name": "stderr",
     "output_type": "stream",
     "text": [
      "100%|██████████| 1/1 [00:00<00:00,  1.66it/s]\n"
     ]
    },
    {
     "name": "stdout",
     "output_type": "stream",
     "text": [
      "computing greedy matching.\n"
     ]
    },
    {
     "name": "stderr",
     "output_type": "stream",
     "text": [
      "100%|██████████| 1/1 [00:00<00:00, 166.82it/s]\n"
     ]
    },
    {
     "name": "stdout",
     "output_type": "stream",
     "text": [
      "done in 0.62 seconds, 1.62 sentences/sec\n",
      "Vaughn Garth O'Hara is a 60-year-old Asian male who on October 15, 2023, presented for a follow-up on his Chronic Kidney Disease (CKD) Stage 4. He reports increased fatigue, occasional ankle swelling, decreased appetite, and episodes of nausea, with foamy urine at times. His current medications include Lisinopril 10 mg daily, Metformin 500 mg twice daily, and Atorvastatin 20 mg daily. He was advised to continue his low-protein diet, monitor his renal function closely, and manage his hypertension and Type 2 Diabetes Mellitus. A follow-up appointment is scheduled in 3 months, with a consultation with a nephrologist next week to discuss possible renal replacement options if his disease progresses.\n",
      "**Medical Note**  **Patient Name:** Vaughn Garth O'Hara   **Date of Birth:** 09/09/1963   **Age:** 60   **Gender:** Male   **Ethnicity:** Asian   **Date of Encounter:** October 15, 2023   **Location:** Mercy General Hospital, San Francisco, CA   **Primary Care Physician:** Dr. Emily Tran    **Chief Complaint:**   Follow-up for Chronic Kidney Disease Stage 4  **History of Present Illness:**   Mr. Vaughn O'Hara is a 60-year-old Asian male with a known history of chronic kidney disease (CKD) stage 4. He presents for a routine follow-up and management of his CKD. The patient reports experiencing increased fatigue over the past month, as well as occasional swelling in his ankles and feet. He has noticed a decrease in appetite and some episodes of nausea. There is no change in his urination frequency, but he reports foamy urine at times. The patient denies shortness of breath, chest pain, or recent weight gain. He adheres to a low-protein diet as advised by his dietitian.  **Past Medical History:**   - Chronic Kidney Disease Stage 4 (eGFR approx. 20-25 mL/min/1.73 m²)   - Hypertension   - Type 2 Diabetes Mellitus    **Medications:**   - Lisinopril 10 mg daily   - Metformin 500 mg twice daily   - Atorvastatin 20 mg daily    **Allergies:**   - No known drug allergies    **Family History:**   - Father: Deceased at 78, cardiovascular disease   - Mother: Alive, 82, history of diabetes   - Siblings: Brother, 62, hypertension    **Social History:**   - Occupation: Retired engineer   - Non-smoker, no alcohol consumption   - Exercises regularly (walking 30 minutes daily)   - Married with two adult children    **Review of Systems:**   - **General:** Increased fatigue, decreased appetite   - **Cardiovascular:** No chest pain, occasional ankle edema   - **Respiratory:** No shortness of breath   - **Gastrointestinal:** Nausea, no vomiting or abdominal pain   - **Genitourinary:** Foamy urine, no change in urination frequency    **Physical Exam:**   - **Vital Signs:** BP: 138/82 mmHg, HR: 78 bpm, Temp: 98.1°F, RR: 16 breaths/min   - **General:** Alert, oriented, appears tired   - **Cardiovascular:** Regular rate and rhythm, no murmurs, mild pitting edema in lower extremities   - **Respiratory:** Clear to auscultation bilaterally   - **Abdomen:** Soft, non-tender, no organomegaly   - **Extremities:** Mild bilateral ankle edema    **Assessment and Plan:**   1. **Chronic Kidney Disease Stage 4**      - Monitor renal function closely with lab work every 3 months.      - Educate the patient on signs of worsening kidney function.      - Continue dietary modifications and fluid restriction.    2. **Hypertension**      - Continue Lisinopril for blood pressure management; target BP <140/90 mmHg.    3. **Type 2 Diabetes Mellitus**      - Maintain blood glucose control; consider adjusting Metformin if renal function declines further.    4. **Symptomatic Management**      - Recommend dietary adjustments to manage nausea and appetite.      - Encourage more frequent rest to address fatigue.      - Educate about possible renal replacement options (dialysis or transplantation), should disease progress.    5. **Follow-Up**      - Scheduled follow-up in 3 months or sooner if symptoms worsen.      - Consultation with a nephrologist, Dr. Henry Lee, next week for further evaluation.  **Signed:**   Dr. Emily Tran, MD   Mercy General Hospital   San Francisco, CA  \n",
      "calculating scores...\n",
      "computing bert embedding.\n"
     ]
    },
    {
     "name": "stderr",
     "output_type": "stream",
     "text": [
      "100%|██████████| 1/1 [00:00<00:00,  1.58it/s]\n"
     ]
    },
    {
     "name": "stdout",
     "output_type": "stream",
     "text": [
      "computing greedy matching.\n"
     ]
    },
    {
     "name": "stderr",
     "output_type": "stream",
     "text": [
      "100%|██████████| 1/1 [00:00<00:00, 166.75it/s]\n"
     ]
    },
    {
     "name": "stdout",
     "output_type": "stream",
     "text": [
      "done in 0.64 seconds, 1.55 sentences/sec\n",
      "Vaughn Garth O'Hara is a 61-year-old Asian male who presented on October 13, 2023, with chronic lower back pain that has persisted for approximately 5 years, radiating to his hips and legs, and is currently managed with over-the-counter NSAIDs. He has a history of osteoarthritis, hypertension, and type 2 diabetes mellitus, for which he takes Metformin 500 mg PO BID, Lisinopril 10 mg PO daily, and Ibuprofen 200 mg PO PRN. His current pain management plan includes the addition of Tramadol 50 mg PO PRN for breakthrough pain, referral to pain management for potential advanced treatments, and a tailored physical therapy program. Vaughn's condition is being managed with a multimodal approach, emphasizing non-pharmacological interventions and lifestyle modifications, with a follow-up appointment scheduled in 4 weeks to assess pain control and functional improvement. He is also encouraged to focus on weight management as part of his overall osteoarthritis management.\n",
      "**Medical Note**  **Patient Name:** Vaughn Garth O'Hara   **Date of Birth:** April 15, 1962   **Date of Visit:** October 13, 2023   **Location:** Horizon Family Health Clinic, Portland, OR   **Attending Physician:** Dr. Emily Chen, MD  ---  **Chief Complaint:**   Chronic pain management.  ---  **History of Present Illness:**   Vaughn O'Hara is a 61-year-old Asian male who presents today for evaluation and management of chronic pain, which has persisted for approximately 5 years. The pain predominantly affects his lower back and radiates intermittently to his hips and legs. The patient describes the pain as a constant dull ache, punctuated by periods of sharp, stabbing sensations, particularly after prolonged sitting or physical activity.  Over the past few months, Vaughn reports an increase in pain intensity, which he rates as an average of 6 out of 10 on the pain scale. The pain significantly interferes with his daily activities, including walking, bending, and climbing stairs. He also experiences morning stiffness lasting about 1 hour, and periods of muscle spasms in his lower back.  Vaughn notes that over-the-counter NSAIDs provide minimal relief. He has tried physical therapy with minor improvement in mobility but persisting pain symptoms. He denies any recent trauma, weight loss, fever, or bowel/bladder incontinence.  ---  **Past Medical History:**   - Osteoarthritis   - Hypertension   - Type 2 Diabetes Mellitus    **Medications:**   - Metformin 500 mg PO BID   - Lisinopril 10 mg PO daily   - Ibuprofen 200 mg PO PRN    **Allergies:**   - No known drug allergies  ---  **Social History:**   - Occupation: Retired teacher   - Lives with spouse   - Non-smoker   - Occasional alcohol consumption   - No recreational drug use    ---  **Review of Systems:**   - **Musculoskeletal:** Chronic lower back pain, stiffness, muscle spasms   - **Neurological:** Denies numbness or tingling in extremities   - **General:** Denies fatigue, recent weight loss   - **Gastrointestinal:** Denies nausea, vomiting, changes in bowel habits    ---  **Physical Examination:**   - **General:** Alert and cooperative, in mild distress due to pain.   - **Vitals:** BP 135/85 mmHg, HR 78 bpm, RR 16/min, Temp 98.6°F   - **Back:** Tenderness in the lumbar region with palpable muscle spasms. Limited range of motion in lumbar spine.   - **Neurological:** Strength 5/5 in all extremities, normal sensation, reflexes 2+ and symmetric.   - **Extremities:** No edema, normal peripheral pulses    ---  **Assessment:**   1. Chronic lower back pain associated with osteoarthritis   2. Hypertension, well controlled   3. Type 2 Diabetes Mellitus, controlled    ---  **Plan:**   - Continue current medications with the addition of a prescription for Tramadol 50 mg PO PRN for breakthrough pain.   - Refer to pain management for potential evaluation for advanced treatments such as nerve blocks or spinal injections.   - Recommend a tailored physical therapy program focusing on core strengthening and stabilization exercises.   - Encourage weight management as part of overall osteoarthritis management.   - Schedule follow-up appointment in 4 weeks to assess pain control and functional improvement.    **Discussion:**   Vaughn was educated about the chronic nature of his condition and the importance of a multimodal approach to pain management. Non-pharmacological interventions and lifestyle modifications were emphasized as integral parts of managing chronic pain.  ---  **Signature:**   Emily Chen, MD   Horizon Family Health Clinic\n",
      "calculating scores...\n",
      "computing bert embedding.\n"
     ]
    },
    {
     "name": "stderr",
     "output_type": "stream",
     "text": [
      "100%|██████████| 1/1 [00:00<00:00,  1.60it/s]\n"
     ]
    },
    {
     "name": "stdout",
     "output_type": "stream",
     "text": [
      "computing greedy matching.\n"
     ]
    },
    {
     "name": "stderr",
     "output_type": "stream",
     "text": [
      "100%|██████████| 1/1 [00:00<00:00, 250.09it/s]\n"
     ]
    },
    {
     "name": "stdout",
     "output_type": "stream",
     "text": [
      "done in 0.64 seconds, 1.57 sentences/sec\n",
      "Vaughn Garth O'Hara is a 61-year-old Asian male who, on October 15, 2023, presented for follow-up management of his Ischemic Heart Disease (IHD) with symptoms of chest discomfort, dyspnea, fatigue, and dizziness. He experiences episodes of angina pectoris, described as a pressure-like sensation with physical exertion and emotional stress, relieved by rest or nitroglycerin. His current medications include Aspirin 81 mg daily and Metoprolol 50 mg daily, with instructions to adjust Nitroglycerin dosage as needed for angina management. Mr. O'Hara is scheduled for a stress test and echocardiogram to assess cardiac function and ischemia, with a follow-up appointment in 3 weeks or sooner if symptoms worsen. He was counseled on recognizing warning signs of acute coronary syndrome and advised to seek emergency care if symptoms persist or worsen.\n",
      "**Medical Note**  **Patient Information:** - **Name:** Vaughn Garth O'Hara - **DOB:** 09/09/1962 - **Age:** 61 - **Gender:** Male - **Ethnicity:** Asian - **Date of Encounter:** October 15, 2023 - **Primary Care Physician:** Dr. Emily Chen - **Location:** Riverbend Cardiology Clinic, 123 Heart Pathway, Springfield, IL  **Chief Complaint:** This is a follow-up encounter for the management of Ischemic Heart Disease (IHD).  **Subjective:** Mr. O'Hara presents today for evaluation and management of his ischemic heart disease. He reports experiencing chest discomfort over the past several weeks, described as a pressure-like sensation that occurs unpredictably with physical exertion and emotional stress. The episodes typically last 5 to 10 minutes and are relieved by rest or nitroglycerin.  Mr. O'Hara also reports associated symptoms of dyspnea (shortness of breath) during these episodes, occasional referred pain to the left shoulder and jaw, fatigue, and episodes of dizziness. He denies any recent syncope, significant palpitations, or episodes of nausea.  **Objective:**  - **Vital Signs:**   - Blood Pressure: 138/88 mmHg   - Heart Rate: 82 bpm   - Respiratory Rate: 16 breaths/min   - Temperature: 98.6°F   - Oxygen Saturation: 96% on room air    - **Physical Examination:**   - **General:** Appears well-nourished and in no acute distress.   - **Cardiovascular:** Normal S1 and S2. No murmurs, gallops, or rubs. Regular rhythm.   - **Respiratory:** Clear to auscultation bilaterally, no wheezes or crackles.   - **Abdomen:** Soft, non-tender, no organomegaly.   - **Extremities:** No edema. Peripheral pulses intact and symmetrical.   - **Neurological:** Awake, alert, and oriented x3.  - **Recent Lab/Test Results:**   - EKG: Showed mild ST depression in lead V4, consistent with past recordings.   - Recent lipid panel: LDL slightly elevated at 145 mg/dL, HDL at 42 mg/dL.  **Assessment:** Ischemic Heart Disease with ongoing episodes of angina pectoris likely due to stable coronary artery disease. The symptoms of chest pain, dyspnea, fatigue, and dizziness suggest adequate but worsening heart function under stress.  **Plan:**  1. **Medications:**    - Continue Aspirin 81 mg daily.    - Continue Beta blocker (Metoprolol) 50 mg daily.    - Increase Nitroglycerin dosage as required for angina, with instruction to seek immediate medical attention if symptoms persist beyond 15 minutes.  2. **Lifestyle Modifications:**    - Encourage adherence to a heart-healthy diet, exercise as tolerated, and avoidance of tobacco and excessive alcohol.  3. **Further Testing:**    - Schedule a stress test and echocardiogram to assess cardiac function and ischemia.    - Consider referral to cardiology for potential evaluation for coronary angiography if symptoms persist or worsen.  4. **Follow-up:**    - Return in 3 weeks or sooner if symptoms worsen.  **Patient Education:** Mr. O’Hara was counseled on recognizing the warning signs of acute coronary syndrome and instructed to seek emergency care should he experience unrelieved chest pain, severe shortness of breath, or syncope.  **Signature:**  Dr. Emily Chen, MD   Riverbend Cardiology Clinic   (Contact Information)\n",
      "calculating scores...\n",
      "computing bert embedding.\n"
     ]
    },
    {
     "name": "stderr",
     "output_type": "stream",
     "text": [
      "100%|██████████| 1/1 [00:00<00:00,  1.64it/s]\n"
     ]
    },
    {
     "name": "stdout",
     "output_type": "stream",
     "text": [
      "computing greedy matching.\n"
     ]
    },
    {
     "name": "stderr",
     "output_type": "stream",
     "text": [
      "100%|██████████| 1/1 [00:00<00:00, 125.30it/s]\n"
     ]
    },
    {
     "name": "stdout",
     "output_type": "stream",
     "text": [
      "done in 0.62 seconds, 1.60 sentences/sec\n",
      "Vaughn Garth O'Hara, a 61-year-old Asian male, was admitted to Mercy General Hospital on September 20, 2023, due to abnormal findings on diagnostic imaging of the heart and coronary circulation, presenting with chest discomfort, shortness of breath, and episodes of lightheadedness and palpitations. He has a history of hypertension, hyperlipidemia, and type 2 diabetes mellitus, and is currently managed with amlodipine 10 mg daily, metformin 500 mg twice daily, atorvastatin 20 mg daily, and aspirin 81 mg daily. Physical examination revealed a regular rhythm, trace lower extremity edema, and no murmurs or gallops, with vital signs showing BP 140/80 mmHg, HR 88 bpm, and RR 18 breaths per minute. He was diagnosed with significant coronary artery disease and is at increased risk for acute coronary events, with a plan for urgent cardiology consultation, cardiac monitoring, and potential initiation of a nitroglycerin patch for angina management, as well as lifestyle modifications and follow-up testing including an echocardiogram and stress test.\n",
      "**Medical Admission Note**  **Patient Name:** Vaughn Garth O'Hara   **Medical Record Number:** 248   **Date of Admission:** September 20, 2023   **Attending Physician:** Dr. Emily Chen   **Location:** Mercy General Hospital, Cardiology Department   **Patient Age/Gender:** 61-year-old male   **Ethnicity:** Asian  **Chief Complaint:**   The patient was admitted due to abnormal findings on diagnostic imaging of the heart and coronary circulation.  **History of Present Illness:**   Mr. O'Hara is a 61-year-old male who presented to his primary care physician, Dr. Lisa Patel, with complaints of chest discomfort and shortness of breath that has persisted over the past two weeks. The patient described the chest pain as a pressure-like sensation, located substernally, and often radiating to the left arm. These episodes were frequently associated with exertion and relieved with rest. Accompanying symptoms included episodes of lightheadedness and transient episodes of palpitations. Based on these symptoms, Dr. Patel referred Mr. O'Hara for diagnostic imaging studies to evaluate for potential cardiac issues.  The initial diagnostic imaging, including a coronary CT angiogram, revealed significant abnormalities suggestive of coronary artery disease. Due to these findings, Mr. O'Hara was advised to seek immediate evaluation by a cardiologist, leading to his admission to Mercy General Hospital for further diagnostic workup and management.  **Past Medical History:**   - Hypertension, well-managed with medication   - Hyperlipidemia   - Type 2 Diabetes Mellitus    **Medications:**   - Amlodipine 10 mg daily   - Metformin 500 mg twice daily   - Atorvastatin 20 mg daily   - Aspirin 81 mg daily    **Family History:**   - Father deceased at 67 years of age due to myocardial infarction   - Mother living, history of hypertension  **Social History:**   - Non-smoker   - Occasional alcohol consumption   - Works as an engineer; moderately active lifestyle  **Review of Systems:**   - Cardiovascular: Chest discomfort, palpitations, exertional dyspnea   - Respiratory: Shortness of breath with exertion   - Neurological: Episodes of lightheadedness, no syncope    **Physical Examination:**   - Vital Signs: BP 140/80 mmHg, HR 88 bpm, RR 18 breaths per minute, Temperature 98.6°F   - General: Alert and oriented, in mild distress from chest discomfort   - Cardiovascular: Regular rhythm, S1, S2 normal, no murmurs or gallops, trace lower extremity edema   - Respiratory: Clear to auscultation bilaterally   - Neurological: Intact cranial nerves, no focal deficits  **Assessment and Plan:**   Mr. O'Hara's presentation and imaging findings suggest significant coronary artery disease. Given his symptoms and risk factors, he is at increased risk for acute coronary events.  1. **Cardiology Consultation:** Urgent consultation for potential coronary angiography and further management to evaluate the extent of coronary disease. 2. **Cardiac Monitoring:** Continuous telemetry to monitor for arrhythmias. 3. **Medications:**    - Continue current antihypertensive and antidiabetic regimen.    - Consider initiation of a nitroglycerin patch for angina management. 4. **Lifestyle Modifications:** Reinforce dietary and exercise modifications tailored to cardiac health. 5. **Follow-up Testing:** Schedule echocardiogram and stress test to assess cardiac function and ischemic response.  **Signature:**   Dr. Emily Chen, MD   Cardiology Department, Mercy General Hospital    **Note Created On:** September 20, 2023\n",
      "calculating scores...\n",
      "computing bert embedding.\n"
     ]
    },
    {
     "name": "stderr",
     "output_type": "stream",
     "text": [
      "100%|██████████| 1/1 [00:00<00:00,  1.45it/s]\n"
     ]
    },
    {
     "name": "stdout",
     "output_type": "stream",
     "text": [
      "computing greedy matching.\n"
     ]
    },
    {
     "name": "stderr",
     "output_type": "stream",
     "text": [
      "100%|██████████| 1/1 [00:00<00:00, 166.48it/s]\n"
     ]
    },
    {
     "name": "stdout",
     "output_type": "stream",
     "text": [
      "done in 0.71 seconds, 1.42 sentences/sec\n",
      "Vaughn Garth O'Hara, a 62-year-old Asian male, presented at the Green Valley Dental Clinic on October 5, 2023, for a routine check-up and management of gingivitis. He reported symptoms including bleeding while brushing and flossing, gum tenderness, and swollen, red gums. A comprehensive dental examination and cleaning were performed, revealing mild erythema and edema of the gingiva, as well as plaque and calculus accumulation. He was diagnosed with mild to moderate gingivitis and advised to continue an improved oral hygiene regimen, including proper brushing and flossing techniques, and the potential use of an antimicrobial mouthwash. A follow-up appointment is scheduled for January 5, 2024, to reassess his gingival condition and consider a professional fluoride treatment to enhance enamel resistance.\n",
      "**Medical Note**  **Patient Name:** Vaughn Garth O'Hara   **Date of Birth:** October 15, 1961   **Age:** 62   **Gender:** Male   **Ethnicity:** Asian   **Date of Visit:** October 5, 2023   **Location:** Green Valley Dental Clinic   **Dentist:** Dr. Susan Kim, DDS    **Chief Complaint:** Routine check-up for gingivitis management.  **Subjective:**   Mr. Vaughn O'Hara presents for a routine dental examination and follow-up care for gingivitis. He reports noticing bleeding while brushing and flossing, as well as occasional gum tenderness. He describes his gums as appearing swollen and red, particularly near the margins of the teeth. He denies any tooth pain or bad breath.    **Objective:**   - **Examination:**   - Gingiva: Exhibit mild erythema and edema, particularly interdentally.   - Plaque and calculus accumulation noted throughout the oral cavity.   - Oral hygiene: Patient reports regular brushing twice daily and flossing once daily.  - **Procedures Performed:**   - Dental consultation and review of the patient’s oral health status.   - Comprehensive dental cleaning, including:     - Removal of supragingival plaque and calculus employing dental instruments.     - Removal of subgingival plaque and calculus from all teeth utilizing specific dental tools.   - Dental plain x-ray (bitewing) taken and reviewed; no signs of dental caries or underlying bone loss were observed.   - Examination of the gingiva revealed no deep pocket formation.  - **Oral Health Education:**   - Reinforcement on proper brushing technique emphasizing angling towards the gum line.   - Importance of daily flossing and the potential use of interdental brushes or water flossers.   - Recommendations on using an antimicrobial mouthwash to reduce gingival inflammation.  **Assessment:**   Diagnosis of mild to moderate gingivitis confirmed. The patient demonstrates symptoms consistent with gingivitis, including gum bleeding, swelling, and redness due to plaque accumulation.  **Plan:**   1. Continue improved oral hygiene regimen as discussed. 2. Schedule a follow-up appointment in 3 months to reassess gingival condition and plaque control. 3. Consider the introduction of a professional fluoride treatment to enhance enamel resistance. 4. Monitor for signs of progression to periodontitis, such as increased pocket depths or tooth mobility.  **Provider Signature:**   Dr. Susan Kim, DDS   Green Valley Dental Clinic   Contact: (555) 123-4567    **Next Appointment:** January 5, 2024\n",
      "calculating scores...\n",
      "computing bert embedding.\n"
     ]
    },
    {
     "name": "stderr",
     "output_type": "stream",
     "text": [
      "100%|██████████| 1/1 [00:00<00:00,  1.63it/s]\n"
     ]
    },
    {
     "name": "stdout",
     "output_type": "stream",
     "text": [
      "computing greedy matching.\n"
     ]
    },
    {
     "name": "stderr",
     "output_type": "stream",
     "text": [
      "100%|██████████| 1/1 [00:00<00:00, 249.85it/s]"
     ]
    },
    {
     "name": "stdout",
     "output_type": "stream",
     "text": [
      "done in 0.63 seconds, 1.60 sentences/sec\n"
     ]
    },
    {
     "name": "stderr",
     "output_type": "stream",
     "text": [
      "\n"
     ]
    }
   ],
   "source": [
    "P , R , F = 0, 0, 0\n",
    "\n",
    "for i in range(50):\n",
    "    time.sleep(1.5)\n",
    "    note = train[\"note\"][i]\n",
    "\n",
    "    messages[1] = note\n",
    "\n",
    "\n",
    "    ref = note.replace(\"\\n\", \" \")\n",
    "    cand = llm.invoke(messages).content\n",
    "\n",
    "    print(cand)\n",
    "    print(ref)\n",
    "\n",
    "    P1,R1,F1 = score([cand],[ref], lang=\"en\", model_type=\"distilbert-base-uncased\",verbose=True)\n",
    "\n",
    "    P+=P1\n",
    "    R+=R1\n",
    "    F+=F1\n",
    "\n",
    "\n",
    "P/=50\n",
    "R/=50\n",
    "F/=50\n"
   ]
  },
  {
   "cell_type": "code",
   "execution_count": 41,
   "metadata": {},
   "outputs": [
    {
     "name": "stdout",
     "output_type": "stream",
     "text": [
      "tensor([0.8535])\n",
      "tensor([0.7211])\n",
      "tensor([0.7816])\n"
     ]
    }
   ],
   "source": [
    "print(P)\n",
    "print(R)\n",
    "print(F)"
   ]
  }
 ],
 "metadata": {
  "kernelspec": {
   "display_name": "Clinical Note Summarizer",
   "language": "python",
   "name": "python3"
  },
  "language_info": {
   "codemirror_mode": {
    "name": "ipython",
    "version": 3
   },
   "file_extension": ".py",
   "mimetype": "text/x-python",
   "name": "python",
   "nbconvert_exporter": "python",
   "pygments_lexer": "ipython3",
   "version": "3.12.1"
  }
 },
 "nbformat": 4,
 "nbformat_minor": 2
}
